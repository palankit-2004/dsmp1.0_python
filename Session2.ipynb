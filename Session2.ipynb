{
  "nbformat": 4,
  "nbformat_minor": 0,
  "metadata": {
    "colab": {
      "provenance": []
    },
    "kernelspec": {
      "name": "python3",
      "display_name": "Python 3"
    },
    "language_info": {
      "name": "python"
    }
  },
  "cells": [
    {
      "cell_type": "markdown",
      "source": [
        "# Operators in Python\n",
        "\n",
        "- Arithmetic Operators\n",
        "- Relational Operators\n",
        "- Logical Operators\n",
        "- Bitwise Operators\n",
        "- Assignment Operators\n",
        "- Membership Operators"
      ],
      "metadata": {
        "id": "Qv8FQ1mdisqu"
      }
    },
    {
      "cell_type": "code",
      "source": [
        "# Arithmetic Operators\n",
        "print(3+2)\n",
        "\n",
        "print(9-8)\n",
        "\n",
        "print(2*8)\n",
        "\n",
        "print(5/6)\n",
        "\n",
        "print(5//6)\n",
        "\n",
        "print(5%6)\n",
        "\n",
        "print(5 ** 2)"
      ],
      "metadata": {
        "colab": {
          "base_uri": "https://localhost:8080/"
        },
        "id": "lGQbG6lSiuG5",
        "outputId": "02041b95-b84a-47d5-aa40-ba84bfb2f51f"
      },
      "execution_count": null,
      "outputs": [
        {
          "output_type": "stream",
          "name": "stdout",
          "text": [
            "5\n",
            "1\n",
            "16\n",
            "0.8333333333333334\n",
            "0\n",
            "5\n",
            "25\n"
          ]
        }
      ]
    },
    {
      "cell_type": "code",
      "source": [
        "# Relational Operators\n",
        "print(4>5)\n",
        "\n",
        "print(3<4)\n",
        "\n",
        "print(9>=9)\n",
        "\n",
        "print(10>=9)\n",
        "\n",
        "print(9!=10)\n",
        "\n",
        "print(9<=10)\n",
        "\n",
        "print(9<=9)"
      ],
      "metadata": {
        "colab": {
          "base_uri": "https://localhost:8080/"
        },
        "id": "F3qEqmN_j8b0",
        "outputId": "1d5ba13e-8591-44d0-83fb-366d5541786e"
      },
      "execution_count": null,
      "outputs": [
        {
          "output_type": "stream",
          "name": "stdout",
          "text": [
            "False\n",
            "True\n",
            "True\n",
            "True\n",
            "True\n",
            "True\n",
            "True\n"
          ]
        }
      ]
    },
    {
      "cell_type": "code",
      "source": [
        "# Logical Operators\n",
        "# AND OPERATOR\n",
        "print(1 and 0)\n",
        "\n",
        "print(1 and 1)\n",
        "\n",
        "print(0 and 0)\n",
        "\n",
        "print(0 and 1)"
      ],
      "metadata": {
        "colab": {
          "base_uri": "https://localhost:8080/"
        },
        "id": "hs29cSxAkmtv",
        "outputId": "2ed78433-86d6-4291-ed32-35d86dd47e1d"
      },
      "execution_count": null,
      "outputs": [
        {
          "output_type": "stream",
          "name": "stdout",
          "text": [
            "0\n",
            "1\n",
            "0\n",
            "0\n"
          ]
        }
      ]
    },
    {
      "cell_type": "code",
      "source": [
        "# OR OPERATOR\n",
        "print(1 or 0)\n",
        "\n",
        "print(0 or 1)\n",
        "\n",
        "print(0 or 0)\n",
        "\n",
        "print(1 or 1)"
      ],
      "metadata": {
        "colab": {
          "base_uri": "https://localhost:8080/"
        },
        "id": "oNyGMqQIlAN6",
        "outputId": "88243352-75cf-4b5d-99d7-951f4f0b45ca"
      },
      "execution_count": null,
      "outputs": [
        {
          "output_type": "stream",
          "name": "stdout",
          "text": [
            "1\n",
            "1\n",
            "0\n",
            "1\n"
          ]
        }
      ]
    },
    {
      "cell_type": "code",
      "source": [
        "# NOT OPERATOR\n",
        "print(not 0)\n",
        "\n",
        "print(not 1)"
      ],
      "metadata": {
        "colab": {
          "base_uri": "https://localhost:8080/"
        },
        "id": "JyNnYZgolNlx",
        "outputId": "c1e292a1-96dc-445f-8346-098d2e212a63"
      },
      "execution_count": null,
      "outputs": [
        {
          "output_type": "stream",
          "name": "stdout",
          "text": [
            "True\n",
            "False\n"
          ]
        }
      ]
    },
    {
      "cell_type": "code",
      "source": [
        "# Bitwise Operators\n",
        "\n",
        "#bitwise and\n",
        "print(2 & 3)\n",
        "\n",
        "#bitwise or\n",
        "print(2 | 3)\n",
        "\n",
        "#bitwise xor\n",
        "print(2 ^ 3)\n",
        "\n",
        "#bitwise not\n",
        "print(~2) #1 -> 0 and 0 -> 1\n",
        "\n",
        "#bitwise right\n",
        "print(4 >> 2)\n",
        "\n",
        "#bitwise left\n",
        "print(5 << 2)"
      ],
      "metadata": {
        "colab": {
          "base_uri": "https://localhost:8080/"
        },
        "id": "hdQZJgI5lXE5",
        "outputId": "4098451d-397a-4821-a508-9173e7701b66"
      },
      "execution_count": null,
      "outputs": [
        {
          "output_type": "stream",
          "name": "stdout",
          "text": [
            "2\n",
            "3\n",
            "1\n",
            "-3\n",
            "1\n",
            "20\n"
          ]
        }
      ]
    },
    {
      "cell_type": "code",
      "source": [
        "# Assignment Operators\n",
        "a = 24\n",
        "print(a)\n",
        "a += 2 # a = a + 2\n",
        "print(a)\n",
        "b = 24\n",
        "print(b)\n",
        "b -= 2 # b = b - 2\n",
        "print(b)"
      ],
      "metadata": {
        "colab": {
          "base_uri": "https://localhost:8080/"
        },
        "id": "3pY3xdkon56u",
        "outputId": "82e000c9-f4a1-401c-98d4-9441639acef1"
      },
      "execution_count": null,
      "outputs": [
        {
          "output_type": "stream",
          "name": "stdout",
          "text": [
            "24\n",
            "26\n",
            "24\n",
            "22\n"
          ]
        }
      ]
    },
    {
      "cell_type": "code",
      "source": [
        "# Membership operators\n",
        "# in\n",
        "# not in\n",
        "\n",
        "print(\"A\" in \"Ankit\")\n",
        "print(\"P\" not in \"Ankit\")"
      ],
      "metadata": {
        "colab": {
          "base_uri": "https://localhost:8080/"
        },
        "id": "_AF5aM0hos2f",
        "outputId": "312301ff-f1d0-4da4-d204-bad368973903"
      },
      "execution_count": null,
      "outputs": [
        {
          "output_type": "stream",
          "name": "stdout",
          "text": [
            "True\n",
            "True\n"
          ]
        }
      ]
    },
    {
      "cell_type": "code",
      "source": [
        "print(1 in [2,3,45,91])"
      ],
      "metadata": {
        "colab": {
          "base_uri": "https://localhost:8080/"
        },
        "id": "FAxgWMA-pEgD",
        "outputId": "a185ab76-0e74-4fe7-b7f8-5dd07e6e16b1"
      },
      "execution_count": null,
      "outputs": [
        {
          "output_type": "stream",
          "name": "stdout",
          "text": [
            "False\n"
          ]
        }
      ]
    },
    {
      "cell_type": "code",
      "source": [
        "5//-2"
      ],
      "metadata": {
        "colab": {
          "base_uri": "https://localhost:8080/"
        },
        "id": "OEixbY3XpdVZ",
        "outputId": "da610200-264d-44f6-d55b-dd528e7ab32d"
      },
      "execution_count": null,
      "outputs": [
        {
          "output_type": "execute_result",
          "data": {
            "text/plain": [
              "-3"
            ]
          },
          "metadata": {},
          "execution_count": 13
        }
      ]
    },
    {
      "cell_type": "code",
      "source": [
        "# Program - Find the sum of a 3 digit number entered by the user\n",
        "\n",
        "number = int(input('Enter a 3 digit number: '))\n",
        "\n",
        "a = number%10\n",
        "number = number//10\n",
        "b = number%10\n",
        "number = number//10\n",
        "c = number%10\n",
        "number = number//10\n",
        "\n",
        "print(a+b+c)\n"
      ],
      "metadata": {
        "colab": {
          "base_uri": "https://localhost:8080/"
        },
        "id": "mlVGuCtmp67Z",
        "outputId": "92b42e99-8d53-4f02-f779-3ad0c91fbd01"
      },
      "execution_count": null,
      "outputs": [
        {
          "output_type": "stream",
          "name": "stdout",
          "text": [
            "Enter a 3 digit number: 345\n",
            "12\n"
          ]
        }
      ]
    },
    {
      "cell_type": "markdown",
      "source": [
        "### If-else in Python"
      ],
      "metadata": {
        "id": "-3rni4pVs4fQ"
      }
    },
    {
      "cell_type": "code",
      "source": [
        "# login program and indentation\n",
        "# email - ankit.0908@gmail.com\n",
        "# pass - 090878\n",
        "\n",
        "email = input('Enter email: ')\n",
        "password = input('Enter password: ')\n",
        "\n",
        "if email == 'ankit.0908@gmail.com' and password == '090878':\n",
        "  print(\"Welcome\")\n",
        "elif email == 'ankit.0908@gmail.com' and password != '090878':\n",
        "  print(\"Incorrect Password\")\n",
        "  password = input('Enter password again: ')\n",
        "  if password == '090878':\n",
        "    print(\"Welcome\")\n",
        "  else:\n",
        "    print(\"Invalid Credentials\")\n",
        "else:\n",
        "  print(\"Invalid Credentials\")"
      ],
      "metadata": {
        "colab": {
          "base_uri": "https://localhost:8080/"
        },
        "id": "gDYKhpzus7Jk",
        "outputId": "dba8e518-fda1-4bab-9551-ea0a5eec2a12"
      },
      "execution_count": null,
      "outputs": [
        {
          "output_type": "stream",
          "name": "stdout",
          "text": [
            "Enter email: ankit.0908@gmail.com\n",
            "Enter password: 04062004\n",
            "Incorrect Password\n",
            "Enter password again: 090878\n",
            "Welcome\n"
          ]
        }
      ]
    },
    {
      "cell_type": "code",
      "source": [
        "# if-else examples\n",
        "# 1. Find the minimum of 3 numbers.\n",
        "# 2. Menu Driven Program."
      ],
      "metadata": {
        "id": "0DIy4aUnuIYE"
      },
      "execution_count": null,
      "outputs": []
    },
    {
      "cell_type": "code",
      "source": [
        "# min of 3 numbers.\n",
        "\n",
        "a = int(input('first num: '))\n",
        "b = int(input('second num: '))\n",
        "c = int(input('third num: '))\n",
        "\n",
        "if a<b and a<c:\n",
        "  print(a, \"is smaller\")\n",
        "elif b<c:\n",
        "  print(b, \"is smaller\")\n",
        "else:\n",
        "  print(c, \"is smaller\")"
      ],
      "metadata": {
        "colab": {
          "base_uri": "https://localhost:8080/"
        },
        "id": "1yD2KPPA1Jx8",
        "outputId": "ef704724-0f21-45d4-ede5-1691c1c8b304"
      },
      "execution_count": null,
      "outputs": [
        {
          "output_type": "stream",
          "name": "stdout",
          "text": [
            "first num: 99\n",
            "second num: 46\n",
            "third num: 100\n",
            "46 is smaller\n"
          ]
        }
      ]
    },
    {
      "cell_type": "code",
      "source": [
        "# menu driven calculator\n",
        "fnum = int(input(\"Enter first number: \"))\n",
        "snum = int(input(\"Enter second number: \"))\n",
        "\n",
        "op = input(\"Enter the operation: \")\n",
        "\n",
        "if(op=='+'):\n",
        "  print(fnum + snum)\n",
        "elif(op=='-'):\n",
        "  print(fnum - snum)\n",
        "elif(op=='*'):\n",
        "  print(fnum * snum)\n",
        "else:\n",
        "  print(fnum/snum)"
      ],
      "metadata": {
        "colab": {
          "base_uri": "https://localhost:8080/"
        },
        "id": "3TuI9j9T10kh",
        "outputId": "239fbc7b-a99a-4d1a-e85a-8124a63119ce"
      },
      "execution_count": null,
      "outputs": [
        {
          "output_type": "stream",
          "name": "stdout",
          "text": [
            "Enter first number: 29\n",
            "Enter second number: 4\n",
            "Enter the operation: /\n",
            "7.25\n"
          ]
        }
      ]
    },
    {
      "cell_type": "markdown",
      "source": [
        "# Modules in Python\n",
        "\n",
        "- math\n",
        "- keywords\n",
        "- random\n",
        "- datetime"
      ],
      "metadata": {
        "id": "EGuXaueu4trI"
      }
    },
    {
      "cell_type": "code",
      "source": [
        "# math\n",
        "import math\n",
        "math.factorial(4)"
      ],
      "metadata": {
        "colab": {
          "base_uri": "https://localhost:8080/"
        },
        "id": "H8SJsA5544Tx",
        "outputId": "52f27468-2140-4008-e5b8-8546afaeff09"
      },
      "execution_count": null,
      "outputs": [
        {
          "output_type": "execute_result",
          "data": {
            "text/plain": [
              "24"
            ]
          },
          "metadata": {},
          "execution_count": 24
        }
      ]
    },
    {
      "cell_type": "code",
      "source": [
        "# keywords\n",
        "import keyword\n",
        "print(keyword.kwlist)"
      ],
      "metadata": {
        "colab": {
          "base_uri": "https://localhost:8080/"
        },
        "id": "E90i7USA5mBK",
        "outputId": "31d5d54b-b6ad-455b-cfb7-8d636f0baa21"
      },
      "execution_count": null,
      "outputs": [
        {
          "output_type": "stream",
          "name": "stdout",
          "text": [
            "['False', 'None', 'True', 'and', 'as', 'assert', 'async', 'await', 'break', 'class', 'continue', 'def', 'del', 'elif', 'else', 'except', 'finally', 'for', 'from', 'global', 'if', 'import', 'in', 'is', 'lambda', 'nonlocal', 'not', 'or', 'pass', 'raise', 'return', 'try', 'while', 'with', 'yield']\n"
          ]
        }
      ]
    },
    {
      "cell_type": "code",
      "source": [
        "# random\n",
        "import random\n",
        "print(random.randint(1,100))"
      ],
      "metadata": {
        "colab": {
          "base_uri": "https://localhost:8080/"
        },
        "id": "oQ56lGiI6aMI",
        "outputId": "26df2a52-a3b1-49ee-dfd7-bd17e4ee0c00"
      },
      "execution_count": null,
      "outputs": [
        {
          "output_type": "stream",
          "name": "stdout",
          "text": [
            "44\n"
          ]
        }
      ]
    },
    {
      "cell_type": "code",
      "source": [
        "# datetime\n",
        "import datetime\n",
        "print(datetime.datetime.now())"
      ],
      "metadata": {
        "colab": {
          "base_uri": "https://localhost:8080/"
        },
        "id": "U0VwCBlj6t2r",
        "outputId": "421d36b1-bad1-467b-9603-01f735feb1e7"
      },
      "execution_count": null,
      "outputs": [
        {
          "output_type": "stream",
          "name": "stdout",
          "text": [
            "2025-07-03 01:35:32.906279\n"
          ]
        }
      ]
    },
    {
      "cell_type": "markdown",
      "source": [
        "# Loops in Python\n",
        "\n",
        "- Need for loops\n",
        "- While Loop\n",
        "- For Loop"
      ],
      "metadata": {
        "id": "kZISHGj58IKx"
      }
    },
    {
      "cell_type": "code",
      "source": [
        "#loops ---> To perform repeated tasks\n",
        "#while loop\n",
        "\n",
        "number = int(input(\"Enter a number\"))\n",
        "i = 1\n",
        "while i<11:\n",
        "  print(number,'*',i,'=',number*i)\n",
        "  i+=1"
      ],
      "metadata": {
        "colab": {
          "base_uri": "https://localhost:8080/"
        },
        "id": "vZas85Li8Il_",
        "outputId": "e4fa9e4e-f789-4d16-b750-b7853e074007"
      },
      "execution_count": null,
      "outputs": [
        {
          "output_type": "stream",
          "name": "stdout",
          "text": [
            "Enter a number5\n",
            "5 * 1 = 5\n",
            "5 * 2 = 10\n",
            "5 * 3 = 15\n",
            "5 * 4 = 20\n",
            "5 * 5 = 25\n",
            "5 * 6 = 30\n",
            "5 * 7 = 35\n",
            "5 * 8 = 40\n",
            "5 * 9 = 45\n",
            "5 * 10 = 50\n"
          ]
        }
      ]
    },
    {
      "cell_type": "code",
      "source": [
        "# while loop with else\n",
        "\n",
        "x = 1\n",
        "\n",
        "while x<3:\n",
        "  print(x)\n",
        "  x+=1\n",
        "\n",
        "else:\n",
        "  print('limit crossed')"
      ],
      "metadata": {
        "colab": {
          "base_uri": "https://localhost:8080/"
        },
        "id": "oVSTYRMo_LAo",
        "outputId": "78752eb5-351e-4111-efd3-3eea3ea4da5d"
      },
      "execution_count": null,
      "outputs": [
        {
          "output_type": "stream",
          "name": "stdout",
          "text": [
            "1\n",
            "2\n",
            "limit crossed\n"
          ]
        }
      ]
    },
    {
      "cell_type": "code",
      "source": [
        "# for loop demo\n",
        "for i in range(1,11):\n",
        "  print(i)"
      ],
      "metadata": {
        "colab": {
          "base_uri": "https://localhost:8080/"
        },
        "id": "YAmDwJ5z_5Qv",
        "outputId": "506ae897-91e2-4248-fd03-ccf86872dc29"
      },
      "execution_count": null,
      "outputs": [
        {
          "output_type": "stream",
          "name": "stdout",
          "text": [
            "1\n",
            "2\n",
            "3\n",
            "4\n",
            "5\n",
            "6\n",
            "7\n",
            "8\n",
            "9\n",
            "10\n"
          ]
        }
      ]
    },
    {
      "cell_type": "markdown",
      "source": [
        "### Program - The current population of a town is 10000. The population of the town is increasing at the rate of 10% per year. You have to write a program to find out the population at the end of each of the last 10 years."
      ],
      "metadata": {
        "id": "Q_BxgJr4ECPM"
      }
    },
    {
      "cell_type": "code",
      "source": [
        "current_population = 10000\n",
        "growth_rate = 0.10\n",
        "\n",
        "print(\"Population at the end of each of the last 10 years:\")\n",
        "\n",
        "for year in range(1, 11):\n",
        "    previous_population = current_population / (1 + growth_rate)  #New = Old + 10% of Old = Old * (1+0.10) = Old * 0.10\n",
        "    print(f\"Year -{year}: {int(previous_population)}\")\n",
        "    current_population = previous_population\n"
      ],
      "metadata": {
        "colab": {
          "base_uri": "https://localhost:8080/"
        },
        "id": "xMV40h5bEIvw",
        "outputId": "8b472e1e-ed09-4ab0-c083-63f9fcd68787"
      },
      "execution_count": null,
      "outputs": [
        {
          "output_type": "stream",
          "name": "stdout",
          "text": [
            "Population at the end of each of the last 10 years:\n",
            "Year -1: 9090\n",
            "Year -2: 8264\n",
            "Year -3: 7513\n",
            "Year -4: 6830\n",
            "Year -5: 6209\n",
            "Year -6: 5644\n",
            "Year -7: 5131\n",
            "Year -8: 4665\n",
            "Year -9: 4240\n",
            "Year -10: 3855\n"
          ]
        }
      ]
    }
  ]
}