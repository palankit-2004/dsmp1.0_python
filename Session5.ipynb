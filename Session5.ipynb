{
  "nbformat": 4,
  "nbformat_minor": 0,
  "metadata": {
    "colab": {
      "provenance": []
    },
    "kernelspec": {
      "name": "python3",
      "display_name": "Python 3"
    },
    "language_info": {
      "name": "python"
    }
  },
  "cells": [
    {
      "cell_type": "markdown",
      "source": [
        "# Tuples\n",
        "A tuple in Python is similar to a list. The difference between the two is that we cannot change the elements of a tuple once it is assigned whereas we can change the elements of a list.\n",
        "\n",
        "In short, a tuple is an immutable list. A tuple can not be changed in any way once it is created.\n",
        "\n",
        "Characteristics\n",
        "- Ordered\n",
        "- Unchangeable\n",
        "- Allows Duplicate\n"
      ],
      "metadata": {
        "id": "VBCIvFUunx0f"
      }
    },
    {
      "cell_type": "markdown",
      "source": [
        "# Plan of Attack\n",
        "- Creating a tuple\n",
        "- Accessing items\n",
        "- Editing items (actually can't do)\n",
        "- Adding items\n",
        "- Deleting items\n",
        "- Operations on Tuples\n",
        "- Tuple Functions"
      ],
      "metadata": {
        "id": "SuUniLNmofyW"
      }
    },
    {
      "cell_type": "markdown",
      "source": [
        "## Creating Tuples"
      ],
      "metadata": {
        "id": "vh7GlxZco29B"
      }
    },
    {
      "cell_type": "code",
      "execution_count": 1,
      "metadata": {
        "colab": {
          "base_uri": "https://localhost:8080/"
        },
        "id": "g1yoMjV9nvg0",
        "outputId": "bab622a1-2a59-40b6-aa42-d29a69fdcaea"
      },
      "outputs": [
        {
          "output_type": "stream",
          "name": "stdout",
          "text": [
            "()\n"
          ]
        }
      ],
      "source": [
        "# empty\n",
        "t1 = ()\n",
        "print(t1)"
      ]
    },
    {
      "cell_type": "code",
      "source": [
        "# create a tuple with a single item\n",
        "t2 = (2)\n",
        "print(t2, type(t2))"
      ],
      "metadata": {
        "colab": {
          "base_uri": "https://localhost:8080/"
        },
        "id": "3BWdJZWbo-Gu",
        "outputId": "1b91c1d4-39e0-4fb7-891b-0f2f4555d32d"
      },
      "execution_count": 2,
      "outputs": [
        {
          "output_type": "stream",
          "name": "stdout",
          "text": [
            "2 <class 'int'>\n"
          ]
        }
      ]
    },
    {
      "cell_type": "code",
      "source": [
        "# single item tuple\n",
        "t2 = (2,)\n",
        "print(t2, type(t2))"
      ],
      "metadata": {
        "colab": {
          "base_uri": "https://localhost:8080/"
        },
        "id": "mR9f_vN3pKIi",
        "outputId": "df0e166a-7015-4675-f904-fe03359a9f7f"
      },
      "execution_count": 3,
      "outputs": [
        {
          "output_type": "stream",
          "name": "stdout",
          "text": [
            "(2,) <class 'tuple'>\n"
          ]
        }
      ]
    },
    {
      "cell_type": "code",
      "source": [
        "# homogeneous tuple\n",
        "t3 = (1,2,3,4)\n",
        "print(t3)"
      ],
      "metadata": {
        "colab": {
          "base_uri": "https://localhost:8080/"
        },
        "id": "Th7RsEnApQuJ",
        "outputId": "09ec0660-5a7c-4263-c060-bb70f1261cc9"
      },
      "execution_count": 4,
      "outputs": [
        {
          "output_type": "stream",
          "name": "stdout",
          "text": [
            "(1, 2, 3, 4)\n"
          ]
        }
      ]
    },
    {
      "cell_type": "code",
      "source": [
        "# heterogeneous tuple\n",
        "t3 = (1,\"Ankit\",'m')\n",
        "print(t3)"
      ],
      "metadata": {
        "colab": {
          "base_uri": "https://localhost:8080/"
        },
        "id": "eHcUoCSppZWY",
        "outputId": "40839bb1-1948-4d3a-cbaf-c9dc679d9e16"
      },
      "execution_count": 5,
      "outputs": [
        {
          "output_type": "stream",
          "name": "stdout",
          "text": [
            "(1, 'Ankit', 'm')\n"
          ]
        }
      ]
    },
    {
      "cell_type": "code",
      "source": [
        "# 2-D tuple\n",
        "t4 = ((1,2,3),(4,5,6))\n",
        "print(t4)"
      ],
      "metadata": {
        "colab": {
          "base_uri": "https://localhost:8080/"
        },
        "id": "VyVKQRC9pfIS",
        "outputId": "e652d090-df86-4430-a633-72d2dee4eb24"
      },
      "execution_count": 6,
      "outputs": [
        {
          "output_type": "stream",
          "name": "stdout",
          "text": [
            "((1, 2, 3), (4, 5, 6))\n"
          ]
        }
      ]
    },
    {
      "cell_type": "code",
      "source": [
        "# using type conversion\n",
        "t5 = tuple(\"India\")\n",
        "print(t5, type(t5))"
      ],
      "metadata": {
        "colab": {
          "base_uri": "https://localhost:8080/"
        },
        "id": "mTQqok6splXI",
        "outputId": "254dfc4f-78ee-40d7-f793-f18bea01faae"
      },
      "execution_count": 8,
      "outputs": [
        {
          "output_type": "stream",
          "name": "stdout",
          "text": [
            "('I', 'n', 'd', 'i', 'a') <class 'tuple'>\n"
          ]
        }
      ]
    },
    {
      "cell_type": "markdown",
      "source": [
        "# Accessing Items\n",
        "- Indexing\n",
        "- Slicing"
      ],
      "metadata": {
        "id": "AfXjfX9eqSg4"
      }
    },
    {
      "cell_type": "code",
      "source": [
        "t3 = (1,2,3,4)\n",
        "t3"
      ],
      "metadata": {
        "colab": {
          "base_uri": "https://localhost:8080/"
        },
        "id": "-CFa-onDp1s3",
        "outputId": "22dec1ec-6d65-47c7-d137-9814c0180347"
      },
      "execution_count": 9,
      "outputs": [
        {
          "output_type": "execute_result",
          "data": {
            "text/plain": [
              "(1, 2, 3, 4)"
            ]
          },
          "metadata": {},
          "execution_count": 9
        }
      ]
    },
    {
      "cell_type": "code",
      "source": [
        "print(t3[0])\n",
        "print(t3[1])\n",
        "print(t3[2])\n",
        "print(t3[3])\n",
        "print(t3[-1])\n",
        "print(t3[-2])\n",
        "print(t3[-3])\n",
        "print(t3[-4])"
      ],
      "metadata": {
        "colab": {
          "base_uri": "https://localhost:8080/"
        },
        "id": "tJQ1iBpdqaBI",
        "outputId": "f01e02c6-a9a9-4b55-8240-5a724c8e07a2"
      },
      "execution_count": 14,
      "outputs": [
        {
          "output_type": "stream",
          "name": "stdout",
          "text": [
            "1\n",
            "2\n",
            "3\n",
            "4\n",
            "4\n",
            "3\n",
            "2\n",
            "1\n"
          ]
        }
      ]
    },
    {
      "cell_type": "code",
      "source": [
        "print(t3[0:3])\n",
        "print(t3[0:3:2])\n",
        "print(t3[-3:-1])\n",
        "print(t3[::-1])"
      ],
      "metadata": {
        "colab": {
          "base_uri": "https://localhost:8080/"
        },
        "id": "ObSnA8s7qe_c",
        "outputId": "f9392dfd-0d46-41bb-e148-b82f2018b885"
      },
      "execution_count": 22,
      "outputs": [
        {
          "output_type": "stream",
          "name": "stdout",
          "text": [
            "(1, 2, 3)\n",
            "(1, 3)\n",
            "(2, 3)\n",
            "(4, 3, 2, 1)\n"
          ]
        }
      ]
    },
    {
      "cell_type": "code",
      "source": [
        "t4"
      ],
      "metadata": {
        "colab": {
          "base_uri": "https://localhost:8080/"
        },
        "id": "WoNfQRw4rCD8",
        "outputId": "b1745a6a-0640-471a-fff9-2a42cfebcef7"
      },
      "execution_count": 24,
      "outputs": [
        {
          "output_type": "execute_result",
          "data": {
            "text/plain": [
              "((1, 2, 3), (4, 5, 6))"
            ]
          },
          "metadata": {},
          "execution_count": 24
        }
      ]
    },
    {
      "cell_type": "code",
      "source": [
        "print(t4[-1][0])"
      ],
      "metadata": {
        "colab": {
          "base_uri": "https://localhost:8080/"
        },
        "id": "6ww1mUYirlpN",
        "outputId": "1f86157f-dd0e-4361-a272-0d18e110a509"
      },
      "execution_count": 26,
      "outputs": [
        {
          "output_type": "stream",
          "name": "stdout",
          "text": [
            "4\n"
          ]
        }
      ]
    },
    {
      "cell_type": "markdown",
      "source": [
        "# Editing"
      ],
      "metadata": {
        "id": "XBDt-YyAsBzc"
      }
    },
    {
      "cell_type": "code",
      "source": [
        "t3"
      ],
      "metadata": {
        "colab": {
          "base_uri": "https://localhost:8080/"
        },
        "id": "OyaFrlTsrsDh",
        "outputId": "53c87151-b95f-46d5-c1a5-f152a003b677"
      },
      "execution_count": 28,
      "outputs": [
        {
          "output_type": "execute_result",
          "data": {
            "text/plain": [
              "(1, 2, 3, 4)"
            ]
          },
          "metadata": {},
          "execution_count": 28
        }
      ]
    },
    {
      "cell_type": "code",
      "source": [
        "t3[0] = 100\n",
        "print(t3) # tuple does not support item assignment. They are immutable just like strings."
      ],
      "metadata": {
        "colab": {
          "base_uri": "https://localhost:8080/",
          "height": 164
        },
        "id": "hLTaEGBAsGEp",
        "outputId": "e63c6b0c-9330-40b7-c74b-8ae58a83a428"
      },
      "execution_count": 29,
      "outputs": [
        {
          "output_type": "error",
          "ename": "TypeError",
          "evalue": "'tuple' object does not support item assignment",
          "traceback": [
            "\u001b[0;31m---------------------------------------------------------------------------\u001b[0m",
            "\u001b[0;31mTypeError\u001b[0m                                 Traceback (most recent call last)",
            "\u001b[0;32m/tmp/ipython-input-29-1668948023.py\u001b[0m in \u001b[0;36m<cell line: 0>\u001b[0;34m()\u001b[0m\n\u001b[0;32m----> 1\u001b[0;31m \u001b[0mt3\u001b[0m\u001b[0;34m[\u001b[0m\u001b[0;36m0\u001b[0m\u001b[0;34m]\u001b[0m \u001b[0;34m=\u001b[0m \u001b[0;36m100\u001b[0m\u001b[0;34m\u001b[0m\u001b[0;34m\u001b[0m\u001b[0m\n\u001b[0m\u001b[1;32m      2\u001b[0m \u001b[0mprint\u001b[0m\u001b[0;34m(\u001b[0m\u001b[0mt3\u001b[0m\u001b[0;34m)\u001b[0m\u001b[0;34m\u001b[0m\u001b[0;34m\u001b[0m\u001b[0m\n",
            "\u001b[0;31mTypeError\u001b[0m: 'tuple' object does not support item assignment"
          ]
        }
      ]
    },
    {
      "cell_type": "markdown",
      "source": [
        "## Adding items"
      ],
      "metadata": {
        "id": "KBLb3NlktP5V"
      }
    },
    {
      "cell_type": "code",
      "source": [
        "print(t3)\n",
        "# not possible"
      ],
      "metadata": {
        "colab": {
          "base_uri": "https://localhost:8080/"
        },
        "id": "UBN-Iu4Osk2Z",
        "outputId": "ae2bab2b-7a35-449a-bbae-8046fc4a35f9"
      },
      "execution_count": 30,
      "outputs": [
        {
          "output_type": "stream",
          "name": "stdout",
          "text": [
            "(1, 2, 3, 4)\n"
          ]
        }
      ]
    },
    {
      "cell_type": "markdown",
      "source": [
        "## Deleting items"
      ],
      "metadata": {
        "id": "u17v_9rPtYLb"
      }
    },
    {
      "cell_type": "code",
      "source": [
        "print(t3)\n",
        "del(t3) #whole tuple is deleted\n",
        "print(t3)"
      ],
      "metadata": {
        "colab": {
          "base_uri": "https://localhost:8080/",
          "height": 200
        },
        "id": "1y7lmQBQtV6H",
        "outputId": "39ec76c2-7bad-45bd-aaa5-b64622e43050"
      },
      "execution_count": 31,
      "outputs": [
        {
          "output_type": "stream",
          "name": "stdout",
          "text": [
            "(1, 2, 3, 4)\n"
          ]
        },
        {
          "output_type": "error",
          "ename": "NameError",
          "evalue": "name 't3' is not defined",
          "traceback": [
            "\u001b[0;31m---------------------------------------------------------------------------\u001b[0m",
            "\u001b[0;31mNameError\u001b[0m                                 Traceback (most recent call last)",
            "\u001b[0;32m/tmp/ipython-input-31-2828074637.py\u001b[0m in \u001b[0;36m<cell line: 0>\u001b[0;34m()\u001b[0m\n\u001b[1;32m      1\u001b[0m \u001b[0mprint\u001b[0m\u001b[0;34m(\u001b[0m\u001b[0mt3\u001b[0m\u001b[0;34m)\u001b[0m\u001b[0;34m\u001b[0m\u001b[0;34m\u001b[0m\u001b[0m\n\u001b[1;32m      2\u001b[0m \u001b[0;32mdel\u001b[0m\u001b[0;34m(\u001b[0m\u001b[0mt3\u001b[0m\u001b[0;34m)\u001b[0m\u001b[0;34m\u001b[0m\u001b[0;34m\u001b[0m\u001b[0m\n\u001b[0;32m----> 3\u001b[0;31m \u001b[0mprint\u001b[0m\u001b[0;34m(\u001b[0m\u001b[0mt3\u001b[0m\u001b[0;34m)\u001b[0m\u001b[0;34m\u001b[0m\u001b[0;34m\u001b[0m\u001b[0m\n\u001b[0m",
            "\u001b[0;31mNameError\u001b[0m: name 't3' is not defined"
          ]
        }
      ]
    },
    {
      "cell_type": "code",
      "source": [
        "t9 = (1,2,3,(4,5))\n",
        "del(t9[-1]) # We can't edit inside the tuple"
      ],
      "metadata": {
        "colab": {
          "base_uri": "https://localhost:8080/",
          "height": 164
        },
        "id": "w28fyeEBtnac",
        "outputId": "5033c6b5-4326-4e1d-c335-58d91dc4ddb2"
      },
      "execution_count": 32,
      "outputs": [
        {
          "output_type": "error",
          "ename": "TypeError",
          "evalue": "'tuple' object doesn't support item deletion",
          "traceback": [
            "\u001b[0;31m---------------------------------------------------------------------------\u001b[0m",
            "\u001b[0;31mTypeError\u001b[0m                                 Traceback (most recent call last)",
            "\u001b[0;32m/tmp/ipython-input-32-2089405652.py\u001b[0m in \u001b[0;36m<cell line: 0>\u001b[0;34m()\u001b[0m\n\u001b[1;32m      1\u001b[0m \u001b[0mt9\u001b[0m \u001b[0;34m=\u001b[0m \u001b[0;34m(\u001b[0m\u001b[0;36m1\u001b[0m\u001b[0;34m,\u001b[0m\u001b[0;36m2\u001b[0m\u001b[0;34m,\u001b[0m\u001b[0;36m3\u001b[0m\u001b[0;34m,\u001b[0m\u001b[0;34m(\u001b[0m\u001b[0;36m4\u001b[0m\u001b[0;34m,\u001b[0m\u001b[0;36m5\u001b[0m\u001b[0;34m)\u001b[0m\u001b[0;34m)\u001b[0m\u001b[0;34m\u001b[0m\u001b[0;34m\u001b[0m\u001b[0m\n\u001b[0;32m----> 2\u001b[0;31m \u001b[0;32mdel\u001b[0m\u001b[0;34m(\u001b[0m\u001b[0mt9\u001b[0m\u001b[0;34m[\u001b[0m\u001b[0;34m-\u001b[0m\u001b[0;36m1\u001b[0m\u001b[0;34m]\u001b[0m\u001b[0;34m)\u001b[0m\u001b[0;34m\u001b[0m\u001b[0;34m\u001b[0m\u001b[0m\n\u001b[0m",
            "\u001b[0;31mTypeError\u001b[0m: 'tuple' object doesn't support item deletion"
          ]
        }
      ]
    },
    {
      "cell_type": "markdown",
      "source": [
        "## Operations on Tuples"
      ],
      "metadata": {
        "id": "rsgNQMO6wGhw"
      }
    },
    {
      "cell_type": "code",
      "source": [
        "# + and -\n",
        "t1 = (1,2,3,4)\n",
        "t2 = (5,6,7,8)\n",
        "\n",
        "print(t1+t2)\n",
        "# membership\n",
        "1 in t1 # Output - True\n",
        "#iteration\n",
        "for i in t1:\n",
        "  print(i)"
      ],
      "metadata": {
        "colab": {
          "base_uri": "https://localhost:8080/"
        },
        "id": "DZ0DXLuDt5Mq",
        "outputId": "d8883ee9-7db7-4139-cbc0-dc4033753932"
      },
      "execution_count": 34,
      "outputs": [
        {
          "output_type": "stream",
          "name": "stdout",
          "text": [
            "(1, 2, 3, 4, 5, 6, 7, 8)\n",
            "1\n",
            "2\n",
            "3\n",
            "4\n"
          ]
        }
      ]
    },
    {
      "cell_type": "markdown",
      "source": [
        "## Tuple Functions"
      ],
      "metadata": {
        "id": "DD3EcOZ9wlSH"
      }
    },
    {
      "cell_type": "code",
      "source": [
        "# len/sum/min/max/sorted\n",
        "t = (1,2,3,4)\n",
        "print(len(t))\n",
        "\n",
        "print(sum(t)) #also in list\n",
        "\n",
        "print(min(t))\n",
        "\n",
        "print(max(t))\n",
        "\n",
        "print(sorted(t))\n",
        "\n",
        "print(sorted(t, reverse=True))"
      ],
      "metadata": {
        "colab": {
          "base_uri": "https://localhost:8080/"
        },
        "id": "tozpEz12wUx1",
        "outputId": "30a6536e-06dd-42e4-d8fc-a705dc409a58"
      },
      "execution_count": 39,
      "outputs": [
        {
          "output_type": "stream",
          "name": "stdout",
          "text": [
            "4\n",
            "10\n",
            "1\n",
            "4\n",
            "[1, 2, 3, 4]\n",
            "[4, 3, 2, 1]\n"
          ]
        }
      ]
    },
    {
      "cell_type": "code",
      "source": [
        "#count\n",
        "\n",
        "t = (1,2,3,4,4,4,5)\n",
        "print(t.count(5))\n",
        "print(t.count(4))\n",
        "print(t.count(50))"
      ],
      "metadata": {
        "colab": {
          "base_uri": "https://localhost:8080/"
        },
        "id": "8-Jf3tCOww1N",
        "outputId": "086ed4b7-b921-4f32-f76d-13a1e386cc0d"
      },
      "execution_count": 40,
      "outputs": [
        {
          "output_type": "stream",
          "name": "stdout",
          "text": [
            "1\n",
            "3\n",
            "0\n"
          ]
        }
      ]
    },
    {
      "cell_type": "code",
      "source": [
        "# index\n",
        "\n",
        "t = (1,2,3,4,5)\n",
        "print(t.index(2)) # If multiple occurences of a single element is present then it only shows the index of the first occurence of that element"
      ],
      "metadata": {
        "colab": {
          "base_uri": "https://localhost:8080/"
        },
        "id": "cAD18lnsxXBH",
        "outputId": "494da2b2-9c84-4f8c-b608-2d2dc8746fa7"
      },
      "execution_count": 42,
      "outputs": [
        {
          "output_type": "stream",
          "name": "stdout",
          "text": [
            "1\n"
          ]
        }
      ]
    },
    {
      "cell_type": "markdown",
      "source": [
        "## Difference between Lists and Tuples\n",
        "- Syntax\n",
        "- Mutability\n",
        "- Speed - Tuples are faster than lists.\n",
        "- Memory - Tuples takes less memory\n",
        "- Built in functionality\n",
        "- Error prone\n",
        "- Usability"
      ],
      "metadata": {
        "id": "xfV1VkKZyv1f"
      }
    },
    {
      "cell_type": "code",
      "source": [
        "import time\n",
        "\n",
        "L = list(range(100000000))\n",
        "T = tuple(range(100000000))\n",
        "\n",
        "start = time.time()\n",
        "for i in L:\n",
        "  i*5\n",
        "print('List time',time.time()-start)\n",
        "\n",
        "start = time.time()\n",
        "for i in T:\n",
        "  i*5\n",
        "print('Tuple time',time.time()-start)"
      ],
      "metadata": {
        "colab": {
          "base_uri": "https://localhost:8080/"
        },
        "id": "pBRFSjlvxl9A",
        "outputId": "2c27b914-785b-4e3c-fb37-1d9ba16e5707"
      },
      "execution_count": 43,
      "outputs": [
        {
          "output_type": "stream",
          "name": "stdout",
          "text": [
            "List time 10.95798659324646\n",
            "Tuple time 7.497974157333374\n"
          ]
        }
      ]
    },
    {
      "cell_type": "code",
      "source": [
        "import sys\n",
        "L = list(range(1000))\n",
        "T = tuple(range(1000))\n",
        "\n",
        "print('List size',sys.getsizeof(L))\n",
        "print('Tuple size',sys.getsizeof(T))"
      ],
      "metadata": {
        "colab": {
          "base_uri": "https://localhost:8080/"
        },
        "id": "ax8lUfeCz4Xs",
        "outputId": "f694db0c-944e-467f-de57-7706fd2406a6"
      },
      "execution_count": 44,
      "outputs": [
        {
          "output_type": "stream",
          "name": "stdout",
          "text": [
            "List size 8056\n",
            "Tuple size 8040\n"
          ]
        }
      ]
    },
    {
      "cell_type": "code",
      "source": [
        "a = [1,2,3]\n",
        "b = a\n",
        "\n",
        "a.append(4)\n",
        "print(a)\n",
        "print(b)"
      ],
      "metadata": {
        "colab": {
          "base_uri": "https://localhost:8080/"
        },
        "id": "5DyuteUN0XPW",
        "outputId": "283a3b5d-9fe7-4a3e-a2fc-e151f6fa3900"
      },
      "execution_count": 45,
      "outputs": [
        {
          "output_type": "stream",
          "name": "stdout",
          "text": [
            "[1, 2, 3, 4]\n",
            "[1, 2, 3, 4]\n"
          ]
        }
      ]
    },
    {
      "cell_type": "code",
      "source": [
        "a = (1,2,3)\n",
        "b = a\n",
        "\n",
        "a = a + (4,)\n",
        "print(a)\n",
        "print(b)"
      ],
      "metadata": {
        "colab": {
          "base_uri": "https://localhost:8080/"
        },
        "id": "FsucESYX1QS2",
        "outputId": "d638d347-b66c-4b3d-f4fd-e76c2abdae2f"
      },
      "execution_count": 46,
      "outputs": [
        {
          "output_type": "stream",
          "name": "stdout",
          "text": [
            "(1, 2, 3, 4)\n",
            "(1, 2, 3)\n"
          ]
        }
      ]
    },
    {
      "cell_type": "markdown",
      "source": [
        "## Special Syntax"
      ],
      "metadata": {
        "id": "BaUhlzIV2Rwt"
      }
    },
    {
      "cell_type": "code",
      "source": [
        "# tuple unpacking\n",
        "\n",
        "a,b,c = (1,2,3)\n",
        "print(a,b,c)"
      ],
      "metadata": {
        "colab": {
          "base_uri": "https://localhost:8080/"
        },
        "id": "kyRzgkop1YVA",
        "outputId": "d0d4f8ff-892e-4086-d299-b20f5637f9bb"
      },
      "execution_count": 47,
      "outputs": [
        {
          "output_type": "stream",
          "name": "stdout",
          "text": [
            "1 2 3\n"
          ]
        }
      ]
    },
    {
      "cell_type": "code",
      "source": [
        "a,b = (1,2,3)\n",
        "print(a,b)"
      ],
      "metadata": {
        "colab": {
          "base_uri": "https://localhost:8080/",
          "height": 164
        },
        "id": "8t9u1HFy2ZFH",
        "outputId": "80d36503-8739-4bb2-b565-b7a5343bd11a"
      },
      "execution_count": 48,
      "outputs": [
        {
          "output_type": "error",
          "ename": "ValueError",
          "evalue": "too many values to unpack (expected 2)",
          "traceback": [
            "\u001b[0;31m---------------------------------------------------------------------------\u001b[0m",
            "\u001b[0;31mValueError\u001b[0m                                Traceback (most recent call last)",
            "\u001b[0;32m/tmp/ipython-input-48-164063033.py\u001b[0m in \u001b[0;36m<cell line: 0>\u001b[0;34m()\u001b[0m\n\u001b[0;32m----> 1\u001b[0;31m \u001b[0ma\u001b[0m\u001b[0;34m,\u001b[0m\u001b[0mb\u001b[0m \u001b[0;34m=\u001b[0m \u001b[0;34m(\u001b[0m\u001b[0;36m1\u001b[0m\u001b[0;34m,\u001b[0m\u001b[0;36m2\u001b[0m\u001b[0;34m,\u001b[0m\u001b[0;36m3\u001b[0m\u001b[0;34m)\u001b[0m\u001b[0;34m\u001b[0m\u001b[0;34m\u001b[0m\u001b[0m\n\u001b[0m\u001b[1;32m      2\u001b[0m \u001b[0mprint\u001b[0m\u001b[0;34m(\u001b[0m\u001b[0ma\u001b[0m\u001b[0;34m,\u001b[0m\u001b[0mb\u001b[0m\u001b[0;34m)\u001b[0m\u001b[0;34m\u001b[0m\u001b[0;34m\u001b[0m\u001b[0m\n",
            "\u001b[0;31mValueError\u001b[0m: too many values to unpack (expected 2)"
          ]
        }
      ]
    },
    {
      "cell_type": "code",
      "source": [
        "a = 1\n",
        "b = 2\n",
        "a,b = b,a\n",
        "print(a,b)"
      ],
      "metadata": {
        "colab": {
          "base_uri": "https://localhost:8080/"
        },
        "id": "jG4qaw3v2cyi",
        "outputId": "e6fa81b3-aec0-4c6b-8079-8560c5e5258e"
      },
      "execution_count": 49,
      "outputs": [
        {
          "output_type": "stream",
          "name": "stdout",
          "text": [
            "2 1\n"
          ]
        }
      ]
    },
    {
      "cell_type": "code",
      "source": [
        "a,b,*others = (1,2,3,4,5,6,7)\n",
        "print(a,b)\n",
        "print(others)"
      ],
      "metadata": {
        "colab": {
          "base_uri": "https://localhost:8080/"
        },
        "id": "8mM0z5Jv2j_r",
        "outputId": "e60d2b73-faa1-4322-dba7-018479d2d908"
      },
      "execution_count": 54,
      "outputs": [
        {
          "output_type": "stream",
          "name": "stdout",
          "text": [
            "1 2\n",
            "[3, 4, 5, 6, 7]\n"
          ]
        }
      ]
    },
    {
      "cell_type": "code",
      "source": [
        "# zipping values\n",
        "a = (1,2,3,4)\n",
        "b = (5,6,7,8)\n",
        "\n",
        "zip(a,b)"
      ],
      "metadata": {
        "colab": {
          "base_uri": "https://localhost:8080/"
        },
        "id": "-eiB5ES22xMq",
        "outputId": "202f9866-d1c5-45ac-a017-71fa6c040aeb"
      },
      "execution_count": 55,
      "outputs": [
        {
          "output_type": "execute_result",
          "data": {
            "text/plain": [
              "<zip at 0x7815476f6a00>"
            ]
          },
          "metadata": {},
          "execution_count": 55
        }
      ]
    },
    {
      "cell_type": "code",
      "source": [
        "list(zip(a,b))"
      ],
      "metadata": {
        "colab": {
          "base_uri": "https://localhost:8080/"
        },
        "id": "8KHYVd2B3Siv",
        "outputId": "86174c4b-302d-4906-b72b-bd5c9adc85b3"
      },
      "execution_count": 56,
      "outputs": [
        {
          "output_type": "execute_result",
          "data": {
            "text/plain": [
              "[(1, 5), (2, 6), (3, 7), (4, 8)]"
            ]
          },
          "metadata": {},
          "execution_count": 56
        }
      ]
    },
    {
      "cell_type": "code",
      "source": [
        "tuple(zip(a,b))"
      ],
      "metadata": {
        "colab": {
          "base_uri": "https://localhost:8080/"
        },
        "id": "uHNpcjN03YNW",
        "outputId": "70c11d9d-1705-4824-b775-863da45a7415"
      },
      "execution_count": 57,
      "outputs": [
        {
          "output_type": "execute_result",
          "data": {
            "text/plain": [
              "((1, 5), (2, 6), (3, 7), (4, 8))"
            ]
          },
          "metadata": {},
          "execution_count": 57
        }
      ]
    },
    {
      "cell_type": "markdown",
      "source": [
        "# Sets\n",
        "A set is an unordered collection of items. Every set element is unique (no duplicates) and must be immutable (cannot be changed).\n",
        "\n",
        "However, a set itself is mutable. We can add or remove items from it.\n",
        "\n",
        "Sets can also be used to perform mathematical set operations like union, intersection, symmetric difference,etc.\n",
        "\n",
        "Characteristics:\n",
        "- Unordered\n",
        "- Mutable\n",
        "- No Duplicates\n",
        "- Can't contain mutable data types\n"
      ],
      "metadata": {
        "id": "1L6wgv-d4SNB"
      }
    },
    {
      "cell_type": "markdown",
      "source": [
        "## Creating Sets"
      ],
      "metadata": {
        "id": "Duz6x6EN5L8F"
      }
    },
    {
      "cell_type": "code",
      "source": [
        "# empty\n",
        "s = {}\n",
        "print(s, type(s))\n",
        "s = set()\n",
        "print(s,type(s))\n",
        "# 1D and 2D\n",
        "s1 = {1,2,3}\n",
        "print(s1)\n",
        "# homo and hetero\n",
        "s2 = {1,2,3,4,6,5}\n",
        "print(s2)\n",
        "s3 = {1,'Ankit',True,3.14} #True -> 1 duplicates not allowed\n",
        "print(s3)\n",
        "# using type conversion\n",
        "s4 = set([1,2,5,8,8,9,6,5,7])\n",
        "print(s4, type(s4))\n",
        "# dupplicates not allowed\n",
        "s5 = {1,2,3,3,3,3,3,4,5,5,5,6,6,7,8,100,100}\n",
        "print(s5)\n",
        "# set can't have mutable items\n",
        "s6 = {1,2,3,{4,5,6}}\n",
        "print(s6)\n"
      ],
      "metadata": {
        "colab": {
          "base_uri": "https://localhost:8080/",
          "height": 327
        },
        "id": "UaE-c0CM3cpH",
        "outputId": "a956a8e7-0087-4ff7-d433-64506f7fd5a2"
      },
      "execution_count": 71,
      "outputs": [
        {
          "output_type": "stream",
          "name": "stdout",
          "text": [
            "{} <class 'dict'>\n",
            "set() <class 'set'>\n",
            "{1, 2, 3}\n",
            "{1, 2, 3, 4, 5, 6}\n",
            "{1, 3.14, 'Ankit'}\n",
            "{1, 2, 5, 6, 7, 8, 9} <class 'set'>\n",
            "{1, 2, 3, 4, 5, 6, 7, 8, 100}\n"
          ]
        },
        {
          "output_type": "error",
          "ename": "TypeError",
          "evalue": "unhashable type: 'set'",
          "traceback": [
            "\u001b[0;31m---------------------------------------------------------------------------\u001b[0m",
            "\u001b[0;31mTypeError\u001b[0m                                 Traceback (most recent call last)",
            "\u001b[0;32m/tmp/ipython-input-71-1702732932.py\u001b[0m in \u001b[0;36m<cell line: 0>\u001b[0;34m()\u001b[0m\n\u001b[1;32m     19\u001b[0m \u001b[0mprint\u001b[0m\u001b[0;34m(\u001b[0m\u001b[0ms5\u001b[0m\u001b[0;34m)\u001b[0m\u001b[0;34m\u001b[0m\u001b[0;34m\u001b[0m\u001b[0m\n\u001b[1;32m     20\u001b[0m \u001b[0;31m# set can't have mutable items\u001b[0m\u001b[0;34m\u001b[0m\u001b[0;34m\u001b[0m\u001b[0m\n\u001b[0;32m---> 21\u001b[0;31m \u001b[0ms6\u001b[0m \u001b[0;34m=\u001b[0m \u001b[0;34m{\u001b[0m\u001b[0;36m1\u001b[0m\u001b[0;34m,\u001b[0m\u001b[0;36m2\u001b[0m\u001b[0;34m,\u001b[0m\u001b[0;36m3\u001b[0m\u001b[0;34m,\u001b[0m\u001b[0;34m{\u001b[0m\u001b[0;36m4\u001b[0m\u001b[0;34m,\u001b[0m\u001b[0;36m5\u001b[0m\u001b[0;34m,\u001b[0m\u001b[0;36m6\u001b[0m\u001b[0;34m}\u001b[0m\u001b[0;34m}\u001b[0m\u001b[0;34m\u001b[0m\u001b[0;34m\u001b[0m\u001b[0m\n\u001b[0m\u001b[1;32m     22\u001b[0m \u001b[0mprint\u001b[0m\u001b[0;34m(\u001b[0m\u001b[0ms6\u001b[0m\u001b[0;34m)\u001b[0m\u001b[0;34m\u001b[0m\u001b[0;34m\u001b[0m\u001b[0m\n",
            "\u001b[0;31mTypeError\u001b[0m: unhashable type: 'set'"
          ]
        }
      ]
    },
    {
      "cell_type": "markdown",
      "source": [
        "## Accessing Items"
      ],
      "metadata": {
        "id": "GjzLZBlg9Enq"
      }
    },
    {
      "cell_type": "code",
      "source": [
        "s1 = {1,2,3}\n",
        "s9 = {3,2,1}\n",
        "s1 == s9"
      ],
      "metadata": {
        "colab": {
          "base_uri": "https://localhost:8080/"
        },
        "id": "oMGBbQD99ZT6",
        "outputId": "e590ce3f-1a0f-4434-ce5f-54a1bda221f3"
      },
      "execution_count": 75,
      "outputs": [
        {
          "output_type": "execute_result",
          "data": {
            "text/plain": [
              "True"
            ]
          },
          "metadata": {},
          "execution_count": 75
        }
      ]
    },
    {
      "cell_type": "code",
      "source": [
        "s1 = {1,2,3}\n",
        "s1[0]"
      ],
      "metadata": {
        "colab": {
          "base_uri": "https://localhost:8080/",
          "height": 164
        },
        "id": "gkelHj2A9c4I",
        "outputId": "b2d99f1a-cfe1-4857-d133-d6adcd3a920e"
      },
      "execution_count": 76,
      "outputs": [
        {
          "output_type": "error",
          "ename": "TypeError",
          "evalue": "'set' object is not subscriptable",
          "traceback": [
            "\u001b[0;31m---------------------------------------------------------------------------\u001b[0m",
            "\u001b[0;31mTypeError\u001b[0m                                 Traceback (most recent call last)",
            "\u001b[0;32m/tmp/ipython-input-76-1436116554.py\u001b[0m in \u001b[0;36m<cell line: 0>\u001b[0;34m()\u001b[0m\n\u001b[1;32m      1\u001b[0m \u001b[0ms1\u001b[0m \u001b[0;34m=\u001b[0m \u001b[0;34m{\u001b[0m\u001b[0;36m1\u001b[0m\u001b[0;34m,\u001b[0m\u001b[0;36m2\u001b[0m\u001b[0;34m,\u001b[0m\u001b[0;36m3\u001b[0m\u001b[0;34m}\u001b[0m\u001b[0;34m\u001b[0m\u001b[0;34m\u001b[0m\u001b[0m\n\u001b[0;32m----> 2\u001b[0;31m \u001b[0ms1\u001b[0m\u001b[0;34m[\u001b[0m\u001b[0;36m0\u001b[0m\u001b[0;34m]\u001b[0m\u001b[0;34m\u001b[0m\u001b[0;34m\u001b[0m\u001b[0m\n\u001b[0m",
            "\u001b[0;31mTypeError\u001b[0m: 'set' object is not subscriptable"
          ]
        }
      ]
    },
    {
      "cell_type": "markdown",
      "source": [
        "## Editing Items"
      ],
      "metadata": {
        "id": "m3i9BHSa-KwZ"
      }
    },
    {
      "cell_type": "code",
      "source": [
        "s1 = {1,2,3,4}\n",
        "s1[0] = 100"
      ],
      "metadata": {
        "colab": {
          "base_uri": "https://localhost:8080/",
          "height": 164
        },
        "id": "ga3sqS_m-Ayk",
        "outputId": "7ef13f9c-7c47-4d31-9976-35991df6dd5b"
      },
      "execution_count": 77,
      "outputs": [
        {
          "output_type": "error",
          "ename": "TypeError",
          "evalue": "'set' object does not support item assignment",
          "traceback": [
            "\u001b[0;31m---------------------------------------------------------------------------\u001b[0m",
            "\u001b[0;31mTypeError\u001b[0m                                 Traceback (most recent call last)",
            "\u001b[0;32m/tmp/ipython-input-77-1929688710.py\u001b[0m in \u001b[0;36m<cell line: 0>\u001b[0;34m()\u001b[0m\n\u001b[1;32m      1\u001b[0m \u001b[0ms1\u001b[0m \u001b[0;34m=\u001b[0m \u001b[0;34m{\u001b[0m\u001b[0;36m1\u001b[0m\u001b[0;34m,\u001b[0m\u001b[0;36m2\u001b[0m\u001b[0;34m,\u001b[0m\u001b[0;36m3\u001b[0m\u001b[0;34m,\u001b[0m\u001b[0;36m4\u001b[0m\u001b[0;34m}\u001b[0m\u001b[0;34m\u001b[0m\u001b[0;34m\u001b[0m\u001b[0m\n\u001b[0;32m----> 2\u001b[0;31m \u001b[0ms1\u001b[0m\u001b[0;34m[\u001b[0m\u001b[0;36m0\u001b[0m\u001b[0;34m]\u001b[0m \u001b[0;34m=\u001b[0m \u001b[0;36m100\u001b[0m\u001b[0;34m\u001b[0m\u001b[0;34m\u001b[0m\u001b[0m\n\u001b[0m",
            "\u001b[0;31mTypeError\u001b[0m: 'set' object does not support item assignment"
          ]
        }
      ]
    },
    {
      "cell_type": "markdown",
      "source": [
        "## Adding Items"
      ],
      "metadata": {
        "id": "-jRJuTFd-SKz"
      }
    },
    {
      "cell_type": "code",
      "source": [
        "S = {1,2,3,4}\n",
        "# add\n",
        "S.add(5)\n",
        "print(S)"
      ],
      "metadata": {
        "colab": {
          "base_uri": "https://localhost:8080/"
        },
        "id": "vblLUxF8-QGV",
        "outputId": "71c7d6e9-a268-444d-b4de-2a3437f8a828"
      },
      "execution_count": 78,
      "outputs": [
        {
          "output_type": "stream",
          "name": "stdout",
          "text": [
            "{1, 2, 3, 4, 5}\n"
          ]
        }
      ]
    },
    {
      "cell_type": "code",
      "source": [
        "S"
      ],
      "metadata": {
        "colab": {
          "base_uri": "https://localhost:8080/"
        },
        "id": "OnRaMZmL-btQ",
        "outputId": "d6fcc208-99d2-4bc6-ce1f-2eee8426e876"
      },
      "execution_count": 79,
      "outputs": [
        {
          "output_type": "execute_result",
          "data": {
            "text/plain": [
              "{1, 2, 3, 4, 5}"
            ]
          },
          "metadata": {},
          "execution_count": 79
        }
      ]
    },
    {
      "cell_type": "code",
      "source": [
        "S.update([5,6,7,8])\n",
        "print(S)"
      ],
      "metadata": {
        "colab": {
          "base_uri": "https://localhost:8080/"
        },
        "id": "o1Qy4YkL-mmY",
        "outputId": "dfc76163-4648-415b-9836-63a02c32b15c"
      },
      "execution_count": 80,
      "outputs": [
        {
          "output_type": "stream",
          "name": "stdout",
          "text": [
            "{1, 2, 3, 4, 5, 6, 7, 8}\n"
          ]
        }
      ]
    },
    {
      "cell_type": "markdown",
      "source": [
        "## Delete Items"
      ],
      "metadata": {
        "id": "mfaI5sZU-ttJ"
      }
    },
    {
      "cell_type": "code",
      "source": [
        "#del\n",
        "S = {1,2,3,4,5,6,7,9,10}\n",
        "del(S)\n",
        "print(S)\n"
      ],
      "metadata": {
        "colab": {
          "base_uri": "https://localhost:8080/",
          "height": 219
        },
        "id": "Asw0lium-pj4",
        "outputId": "090a8e03-7963-4010-d369-a57dee618163"
      },
      "execution_count": 83,
      "outputs": [
        {
          "output_type": "error",
          "ename": "NameError",
          "evalue": "name 'S' is not defined",
          "traceback": [
            "\u001b[0;31m---------------------------------------------------------------------------\u001b[0m",
            "\u001b[0;31mNameError\u001b[0m                                 Traceback (most recent call last)",
            "\u001b[0;32m/tmp/ipython-input-83-3862799286.py\u001b[0m in \u001b[0;36m<cell line: 0>\u001b[0;34m()\u001b[0m\n\u001b[1;32m      2\u001b[0m \u001b[0mS\u001b[0m \u001b[0;34m=\u001b[0m \u001b[0;34m{\u001b[0m\u001b[0;36m1\u001b[0m\u001b[0;34m,\u001b[0m\u001b[0;36m2\u001b[0m\u001b[0;34m,\u001b[0m\u001b[0;36m3\u001b[0m\u001b[0;34m,\u001b[0m\u001b[0;36m4\u001b[0m\u001b[0;34m,\u001b[0m\u001b[0;36m5\u001b[0m\u001b[0;34m,\u001b[0m\u001b[0;36m6\u001b[0m\u001b[0;34m,\u001b[0m\u001b[0;36m7\u001b[0m\u001b[0;34m,\u001b[0m\u001b[0;36m9\u001b[0m\u001b[0;34m,\u001b[0m\u001b[0;36m10\u001b[0m\u001b[0;34m}\u001b[0m\u001b[0;34m\u001b[0m\u001b[0;34m\u001b[0m\u001b[0m\n\u001b[1;32m      3\u001b[0m \u001b[0;32mdel\u001b[0m\u001b[0;34m(\u001b[0m\u001b[0mS\u001b[0m\u001b[0;34m)\u001b[0m\u001b[0;34m\u001b[0m\u001b[0;34m\u001b[0m\u001b[0m\n\u001b[0;32m----> 4\u001b[0;31m \u001b[0mprint\u001b[0m\u001b[0;34m(\u001b[0m\u001b[0mS\u001b[0m\u001b[0;34m)\u001b[0m\u001b[0;34m\u001b[0m\u001b[0;34m\u001b[0m\u001b[0m\n\u001b[0m\u001b[1;32m      5\u001b[0m \u001b[0;31m#discard\u001b[0m\u001b[0;34m\u001b[0m\u001b[0;34m\u001b[0m\u001b[0m\n\u001b[1;32m      6\u001b[0m \u001b[0mS\u001b[0m \u001b[0;34m=\u001b[0m \u001b[0;34m{\u001b[0m\u001b[0;36m1\u001b[0m\u001b[0;34m,\u001b[0m\u001b[0;36m2\u001b[0m\u001b[0;34m,\u001b[0m\u001b[0;36m3\u001b[0m\u001b[0;34m,\u001b[0m\u001b[0;36m4\u001b[0m\u001b[0;34m,\u001b[0m\u001b[0;36m5\u001b[0m\u001b[0;34m}\u001b[0m\u001b[0;34m\u001b[0m\u001b[0;34m\u001b[0m\u001b[0m\n",
            "\u001b[0;31mNameError\u001b[0m: name 'S' is not defined"
          ]
        }
      ]
    },
    {
      "cell_type": "code",
      "source": [
        "#discard\n",
        "S = {1,2,3,4,5}\n",
        "S.discard(5)\n",
        "S.discard(50) #don't throw error if element is not present\n",
        "print(S)"
      ],
      "metadata": {
        "colab": {
          "base_uri": "https://localhost:8080/"
        },
        "id": "Ncio8Noa-68m",
        "outputId": "f59c4381-3567-46ea-d8f1-3f0fa9a959a1"
      },
      "execution_count": 86,
      "outputs": [
        {
          "output_type": "stream",
          "name": "stdout",
          "text": [
            "{1, 2, 3, 4}\n"
          ]
        }
      ]
    },
    {
      "cell_type": "code",
      "source": [
        "#remove\n",
        "S = {1,2,3,4,5}\n",
        "S.remove(5)\n",
        "print(S) #will return error if the element is not present in the set and we are trying to delete it."
      ],
      "metadata": {
        "colab": {
          "base_uri": "https://localhost:8080/"
        },
        "id": "6RKJhHQz_V8Z",
        "outputId": "92a9131d-4ae0-4593-fb9e-c44a0f5eb3cf"
      },
      "execution_count": 85,
      "outputs": [
        {
          "output_type": "stream",
          "name": "stdout",
          "text": [
            "{1, 2, 3, 4}\n"
          ]
        }
      ]
    },
    {
      "cell_type": "code",
      "source": [
        "#pop\n",
        "S = {1,2,3,4,5}\n",
        "S.pop()\n",
        "print(S)"
      ],
      "metadata": {
        "colab": {
          "base_uri": "https://localhost:8080/"
        },
        "id": "LzKGfnCb_aVi",
        "outputId": "a7ed87f6-6e85-416d-8c58-90007704cc1a"
      },
      "execution_count": 87,
      "outputs": [
        {
          "output_type": "stream",
          "name": "stdout",
          "text": [
            "{2, 3, 4, 5}\n"
          ]
        }
      ]
    },
    {
      "cell_type": "code",
      "source": [
        "#clear\n",
        "S = {1,2,3,4,5,6}\n",
        "S.clear()\n",
        "print(S)"
      ],
      "metadata": {
        "colab": {
          "base_uri": "https://localhost:8080/"
        },
        "id": "T3DNQW-s_nRq",
        "outputId": "0818fe65-0f29-49a0-f22f-7ceb136ecc00"
      },
      "execution_count": 88,
      "outputs": [
        {
          "output_type": "stream",
          "name": "stdout",
          "text": [
            "set()\n"
          ]
        }
      ]
    },
    {
      "cell_type": "markdown",
      "source": [
        "## Set Operation"
      ],
      "metadata": {
        "id": "Wj-RHPxrAeAK"
      }
    },
    {
      "cell_type": "code",
      "source": [
        "s1 = {1,2,3,4,5}\n",
        "s2 = {4,5,6,7,8}\n",
        "# Union\n",
        "# Intersection\n",
        "# Difference\n",
        "# Symmetric Difference\n",
        "# Membership Test\n",
        "# Iteration\n",
        "print(s1 | s2)\n",
        "print(s1 & s2)\n",
        "print(s1 - s2)\n",
        "print(s2 - s1)\n",
        "print(s1 ^ s2)\n",
        "print(2 in s1)\n",
        "for i in s1:\n",
        "  print(i)\n"
      ],
      "metadata": {
        "colab": {
          "base_uri": "https://localhost:8080/"
        },
        "id": "nAcMHp-p_z-5",
        "outputId": "d72b38f6-9570-4484-f9fe-f8b2e6858121"
      },
      "execution_count": 91,
      "outputs": [
        {
          "output_type": "stream",
          "name": "stdout",
          "text": [
            "{1, 2, 3, 4, 5, 6, 7, 8}\n",
            "{4, 5}\n",
            "{1, 2, 3}\n",
            "{8, 6, 7}\n",
            "{1, 2, 3, 6, 7, 8}\n",
            "True\n",
            "1\n",
            "2\n",
            "3\n",
            "4\n",
            "5\n"
          ]
        }
      ]
    },
    {
      "cell_type": "code",
      "source": [
        "# len/sum/min/max/sorted\n",
        "s = {3,1,4,2,5,7,8}\n",
        "print(len(s))\n",
        "print(sum(s))\n",
        "print(min(s))\n",
        "print(max(s))\n",
        "print(sorted(s))"
      ],
      "metadata": {
        "colab": {
          "base_uri": "https://localhost:8080/"
        },
        "id": "91DNoW1wBwAk",
        "outputId": "620783d7-3345-4a8d-c1ef-82c06c7050f7"
      },
      "execution_count": 92,
      "outputs": [
        {
          "output_type": "stream",
          "name": "stdout",
          "text": [
            "7\n",
            "30\n",
            "1\n",
            "8\n",
            "[1, 2, 3, 4, 5, 7, 8]\n"
          ]
        }
      ]
    },
    {
      "cell_type": "code",
      "source": [
        "# union/update\n",
        "s1 = {1,2,3,4,5}\n",
        "s2 = {6,7,8,9,10}\n",
        "print(s.union(s2))\n",
        "s1.update(s2)\n",
        "print(s1)\n",
        "print(s2)"
      ],
      "metadata": {
        "colab": {
          "base_uri": "https://localhost:8080/"
        },
        "id": "vOOVYSk4C2jP",
        "outputId": "67254f2a-01b2-448d-bd7a-480686659c52"
      },
      "execution_count": 96,
      "outputs": [
        {
          "output_type": "stream",
          "name": "stdout",
          "text": [
            "{1, 2, 3, 4, 5, 6, 7, 8, 9, 10}\n",
            "{1, 2, 3, 4, 5, 6, 7, 8, 9, 10}\n",
            "{6, 7, 8, 9, 10}\n"
          ]
        }
      ]
    },
    {
      "cell_type": "code",
      "source": [
        "# intersection/intersection_update\n",
        "s1 = {1,2,3,4,5}\n",
        "s2 = {4,5,6,7,8}\n",
        "print(s1.intersection(s2))\n",
        "s1.intersection_update(s2)\n",
        "print(s1)\n",
        "print(s2)"
      ],
      "metadata": {
        "colab": {
          "base_uri": "https://localhost:8080/"
        },
        "id": "Z1utOf6DDHv4",
        "outputId": "be5c8172-b659-444d-d472-6df1d21f69ac"
      },
      "execution_count": 97,
      "outputs": [
        {
          "output_type": "stream",
          "name": "stdout",
          "text": [
            "{4, 5}\n",
            "{4, 5}\n",
            "{4, 5, 6, 7, 8}\n"
          ]
        }
      ]
    },
    {
      "cell_type": "code",
      "source": [
        "# difference/difference_update\n",
        "s1 = {1,2,3,4,5}\n",
        "s2 = {4,5,6,7,8}\n",
        "print(s1.difference(s2))\n",
        "s1.difference_update(s2)\n",
        "print(s1)\n",
        "print(s2)"
      ],
      "metadata": {
        "colab": {
          "base_uri": "https://localhost:8080/"
        },
        "id": "zF8brbtPHT4W",
        "outputId": "6b6fafe7-ca4f-4f12-bc19-1cf0b14e2aea"
      },
      "execution_count": 98,
      "outputs": [
        {
          "output_type": "stream",
          "name": "stdout",
          "text": [
            "{1, 2, 3}\n",
            "{1, 2, 3}\n",
            "{4, 5, 6, 7, 8}\n"
          ]
        }
      ]
    },
    {
      "cell_type": "code",
      "source": [
        "# symmetric_difference/symmetric_difference_update\n",
        "s1 = {1,2,3,4,5}\n",
        "s2 = {4,5,6,7,8}\n",
        "print(s1.symmetric_difference(s2))\n",
        "s1.symmetric_difference_update(s2)\n",
        "print(s1)\n",
        "print(s2)"
      ],
      "metadata": {
        "colab": {
          "base_uri": "https://localhost:8080/"
        },
        "id": "MdNsWwb4Hh06",
        "outputId": "90f6e421-91f1-474a-ddb4-30c7d1131009"
      },
      "execution_count": 99,
      "outputs": [
        {
          "output_type": "stream",
          "name": "stdout",
          "text": [
            "{1, 2, 3, 6, 7, 8}\n",
            "{1, 2, 3, 6, 7, 8}\n",
            "{4, 5, 6, 7, 8}\n"
          ]
        }
      ]
    },
    {
      "cell_type": "code",
      "source": [
        "# isdisjoint/issubse/issuperset\n",
        "s1 = {1,2,3,4}\n",
        "s2 = {3,4,5,6}\n",
        "\n",
        "print(s1.isdisjoint(s2))\n",
        "print(s1.issubset(s2))\n",
        "print(s1.issuperset(s2))"
      ],
      "metadata": {
        "colab": {
          "base_uri": "https://localhost:8080/"
        },
        "id": "RBuyxqdHH3te",
        "outputId": "1868e7b0-f4eb-4fb3-b66a-9f99ca59d3da"
      },
      "execution_count": 101,
      "outputs": [
        {
          "output_type": "stream",
          "name": "stdout",
          "text": [
            "False\n",
            "False\n",
            "False\n"
          ]
        }
      ]
    },
    {
      "cell_type": "code",
      "source": [
        "# copy\n",
        "s1 = {1,2,3,4}\n",
        "s2 = s1.copy()\n",
        "print(s2)"
      ],
      "metadata": {
        "colab": {
          "base_uri": "https://localhost:8080/"
        },
        "id": "B5DpNDs3IpE_",
        "outputId": "a84114c4-7a69-495a-d6e7-a8f5dd21c216"
      },
      "execution_count": 103,
      "outputs": [
        {
          "output_type": "stream",
          "name": "stdout",
          "text": [
            "{1, 2, 3, 4}\n"
          ]
        }
      ]
    },
    {
      "cell_type": "markdown",
      "source": [
        "## Frozen Set\n",
        "Frozen set is just an immutable version of a Python set Object\n"
      ],
      "metadata": {
        "id": "8AKOwSz8JpI0"
      }
    },
    {
      "cell_type": "code",
      "source": [
        "# create frozenset\n",
        "fs = frozenset([1,2,3])"
      ],
      "metadata": {
        "id": "hjaJQ6Y-JLso"
      },
      "execution_count": 104,
      "outputs": []
    },
    {
      "cell_type": "code",
      "source": [
        "# what works and what does not works\n",
        "# works -> all read functions -> operations will work (union, intersection, set difference)\n",
        "# doesn't work -> write functions -> add, delete, update, etc."
      ],
      "metadata": {
        "id": "BggL2tA5J6GT"
      },
      "execution_count": 105,
      "outputs": []
    },
    {
      "cell_type": "code",
      "source": [
        "fs1 = frozenset([1,2,3])\n",
        "fs2 = frozenset([3,4,5])\n",
        "\n",
        "fs1 | fs2"
      ],
      "metadata": {
        "colab": {
          "base_uri": "https://localhost:8080/"
        },
        "id": "vCTTtjF9Kbw2",
        "outputId": "bad16c34-9133-4255-ab4a-55c384caa2ca"
      },
      "execution_count": 106,
      "outputs": [
        {
          "output_type": "execute_result",
          "data": {
            "text/plain": [
              "frozenset({1, 2, 3, 4, 5})"
            ]
          },
          "metadata": {},
          "execution_count": 106
        }
      ]
    },
    {
      "cell_type": "code",
      "source": [
        "# When to use\n",
        "# You want to lock the data (make sure subjects can't be changed later).\n",
        "# It’s a safe way to store unchangeable group data.\n",
        "# 2D sets\n",
        "fs = frozenset([1,2,frozenset([3,4,5])])\n",
        "fs"
      ],
      "metadata": {
        "colab": {
          "base_uri": "https://localhost:8080/"
        },
        "id": "-OuCuBhsKwWi",
        "outputId": "8f6859a2-9ab5-4a04-8fe4-215e588f8938"
      },
      "execution_count": 108,
      "outputs": [
        {
          "output_type": "execute_result",
          "data": {
            "text/plain": [
              "frozenset({1, 2, frozenset({3, 4, 5})})"
            ]
          },
          "metadata": {},
          "execution_count": 108
        }
      ]
    },
    {
      "cell_type": "code",
      "source": [
        "# Set Comprehension\n",
        "\n",
        "{i**2 for i in range(1,11) if i>5}"
      ],
      "metadata": {
        "colab": {
          "base_uri": "https://localhost:8080/"
        },
        "id": "gX-4jM1SLijl",
        "outputId": "77336555-4044-48e5-f773-ef508491039c"
      },
      "execution_count": 110,
      "outputs": [
        {
          "output_type": "execute_result",
          "data": {
            "text/plain": [
              "{36, 49, 64, 81, 100}"
            ]
          },
          "metadata": {},
          "execution_count": 110
        }
      ]
    },
    {
      "cell_type": "markdown",
      "source": [
        "# Dictionary\n",
        "Dictionary in python is a collection of key values, used to store data values like a map, which, unlike other data types which hold only a single value as an element.\n",
        "\n",
        "In some languages it is known as maps or associative arrays.\n",
        "\n",
        "dict = {'name':'ankit','age':21,'gender':'male'}\n",
        "\n",
        "Characteristics:\n",
        "\n",
        "- Mutable\n",
        "- Indexing has no meaning\n",
        "- keys can't be duplicated\n",
        "- keys can't be mutable items"
      ],
      "metadata": {
        "id": "RjVC0ulOOuTd"
      }
    },
    {
      "cell_type": "markdown",
      "source": [
        "## Create Dictionary"
      ],
      "metadata": {
        "id": "ZoYCmlvHR1ef"
      }
    },
    {
      "cell_type": "code",
      "source": [
        "# empty dictionary\n",
        "d = {}\n",
        "print(d)\n",
        "# 1D dictionary\n",
        "d1 = {'name':'ankit','gender':'male'}\n",
        "print(d1)\n",
        "# with mixed keys\n",
        "d2 = {(1,2,3):1,'hello':'world'}\n",
        "print(d2)\n",
        "# 2D dictionary -> JSON\n",
        "s = {\n",
        "    'name':'ankit',\n",
        "    'college':'bgu',\n",
        "    'sem':4,\n",
        "    'subjects':{\n",
        "        'dsa': 95,\n",
        "        'dbms': 96,\n",
        "        'os': 98,\n",
        "        'ml' : 100\n",
        "    }\n",
        "}\n",
        "print(s)\n",
        "# using sequence and dict function\n",
        "d3 = dict([('name','ankit'),('age',21)])\n",
        "print(d3)\n",
        "# duplicate keys\n",
        "d4 = {'name':'ankit','name':'aryaman'}\n",
        "print(d4)\n",
        "# mutable items as keys"
      ],
      "metadata": {
        "colab": {
          "base_uri": "https://localhost:8080/"
        },
        "id": "RVYzu0DpMmgy",
        "outputId": "e87e83c1-2261-4d9e-bf39-cc562fda60a4"
      },
      "execution_count": 117,
      "outputs": [
        {
          "output_type": "stream",
          "name": "stdout",
          "text": [
            "{}\n",
            "{'name': 'ankit', 'gender': 'male'}\n",
            "{(1, 2, 3): 1, 'hello': 'world'}\n",
            "{'name': 'ankit', 'college': 'bgu', 'sem': 4, 'subjects': {'dsa': 95, 'dbms': 96, 'os': 98, 'ml': 100}}\n",
            "{'name': 'ankit', 'age': 21}\n",
            "{'name': 'aryaman'}\n"
          ]
        }
      ]
    },
    {
      "cell_type": "markdown",
      "source": [
        "## Accessing Items"
      ],
      "metadata": {
        "id": "EZyXcl47ZA84"
      }
    },
    {
      "cell_type": "code",
      "source": [
        "my_dict = {'name':'ankit','age':21}\n",
        "my_dict[0]"
      ],
      "metadata": {
        "colab": {
          "base_uri": "https://localhost:8080/",
          "height": 164
        },
        "id": "A1kqxsAbSciy",
        "outputId": "fe0387d5-a0a4-4d63-d538-c49f1a20b887"
      },
      "execution_count": 120,
      "outputs": [
        {
          "output_type": "error",
          "ename": "KeyError",
          "evalue": "0",
          "traceback": [
            "\u001b[0;31m---------------------------------------------------------------------------\u001b[0m",
            "\u001b[0;31mKeyError\u001b[0m                                  Traceback (most recent call last)",
            "\u001b[0;32m/tmp/ipython-input-120-39451321.py\u001b[0m in \u001b[0;36m<cell line: 0>\u001b[0;34m()\u001b[0m\n\u001b[1;32m      1\u001b[0m \u001b[0mmy_dict\u001b[0m \u001b[0;34m=\u001b[0m \u001b[0;34m{\u001b[0m\u001b[0;34m'name'\u001b[0m\u001b[0;34m:\u001b[0m\u001b[0;34m'ankit'\u001b[0m\u001b[0;34m,\u001b[0m\u001b[0;34m'age'\u001b[0m\u001b[0;34m:\u001b[0m\u001b[0;36m21\u001b[0m\u001b[0;34m}\u001b[0m\u001b[0;34m\u001b[0m\u001b[0;34m\u001b[0m\u001b[0m\n\u001b[0;32m----> 2\u001b[0;31m \u001b[0mmy_dict\u001b[0m\u001b[0;34m[\u001b[0m\u001b[0;36m0\u001b[0m\u001b[0;34m]\u001b[0m\u001b[0;34m\u001b[0m\u001b[0;34m\u001b[0m\u001b[0m\n\u001b[0m",
            "\u001b[0;31mKeyError\u001b[0m: 0"
          ]
        }
      ]
    },
    {
      "cell_type": "code",
      "source": [
        "my_dict"
      ],
      "metadata": {
        "colab": {
          "base_uri": "https://localhost:8080/"
        },
        "id": "vCSOJtBFZlcG",
        "outputId": "85c2fc3b-ac31-4cd0-de46-598814d0480e"
      },
      "execution_count": 121,
      "outputs": [
        {
          "output_type": "execute_result",
          "data": {
            "text/plain": [
              "{'name': 'ankit', 'age': 21}"
            ]
          },
          "metadata": {},
          "execution_count": 121
        }
      ]
    },
    {
      "cell_type": "code",
      "source": [
        "my_dict['name']"
      ],
      "metadata": {
        "colab": {
          "base_uri": "https://localhost:8080/",
          "height": 36
        },
        "id": "b8PsiXgFZzC5",
        "outputId": "bdf46e8f-66b2-4e2e-d81a-d908e066ae4d"
      },
      "execution_count": 122,
      "outputs": [
        {
          "output_type": "execute_result",
          "data": {
            "text/plain": [
              "'ankit'"
            ],
            "application/vnd.google.colaboratory.intrinsic+json": {
              "type": "string"
            }
          },
          "metadata": {},
          "execution_count": 122
        }
      ]
    },
    {
      "cell_type": "code",
      "source": [
        "my_dict['age']"
      ],
      "metadata": {
        "colab": {
          "base_uri": "https://localhost:8080/"
        },
        "id": "E963niroZ13L",
        "outputId": "f5c4e81a-2b49-4f7b-9ad0-14d3c3d5c3d2"
      },
      "execution_count": 123,
      "outputs": [
        {
          "output_type": "execute_result",
          "data": {
            "text/plain": [
              "21"
            ]
          },
          "metadata": {},
          "execution_count": 123
        }
      ]
    },
    {
      "cell_type": "code",
      "source": [
        "my_dict.get('name')"
      ],
      "metadata": {
        "colab": {
          "base_uri": "https://localhost:8080/",
          "height": 36
        },
        "id": "C0FLBU9cZ4J-",
        "outputId": "9c25ce9c-ac21-4683-c1f5-9a767c1693c4"
      },
      "execution_count": 124,
      "outputs": [
        {
          "output_type": "execute_result",
          "data": {
            "text/plain": [
              "'ankit'"
            ],
            "application/vnd.google.colaboratory.intrinsic+json": {
              "type": "string"
            }
          },
          "metadata": {},
          "execution_count": 124
        }
      ]
    },
    {
      "cell_type": "code",
      "source": [
        "my_dict.get('age')"
      ],
      "metadata": {
        "colab": {
          "base_uri": "https://localhost:8080/"
        },
        "id": "6h0Hpd_lZ53Q",
        "outputId": "b50ab5a3-698e-4ac4-dd19-c3a44cb461df"
      },
      "execution_count": 125,
      "outputs": [
        {
          "output_type": "execute_result",
          "data": {
            "text/plain": [
              "21"
            ]
          },
          "metadata": {},
          "execution_count": 125
        }
      ]
    },
    {
      "cell_type": "markdown",
      "source": [
        "## Adding key-value pair"
      ],
      "metadata": {
        "id": "2wQvQi2EaBHg"
      }
    },
    {
      "cell_type": "code",
      "source": [
        "my_dict"
      ],
      "metadata": {
        "colab": {
          "base_uri": "https://localhost:8080/"
        },
        "id": "z3TWV-77Z865",
        "outputId": "9c129fdc-f7aa-4805-ceeb-bcaecd8b2fd8"
      },
      "execution_count": 127,
      "outputs": [
        {
          "output_type": "execute_result",
          "data": {
            "text/plain": [
              "{'name': 'ankit', 'age': 21}"
            ]
          },
          "metadata": {},
          "execution_count": 127
        }
      ]
    },
    {
      "cell_type": "code",
      "source": [
        "\n",
        "my_dict['gender']='male'\n",
        "print(my_dict)"
      ],
      "metadata": {
        "colab": {
          "base_uri": "https://localhost:8080/"
        },
        "id": "RD58yLc4aF9E",
        "outputId": "c08cc4d8-0c8a-48fb-98ff-d60117328c08"
      },
      "execution_count": 130,
      "outputs": [
        {
          "output_type": "stream",
          "name": "stdout",
          "text": [
            "{'name': 'ankit', 'age': 21, 'gender': 'male'}\n"
          ]
        }
      ]
    },
    {
      "cell_type": "markdown",
      "source": [
        "## Remove key-value pair"
      ],
      "metadata": {
        "id": "-5yVqbUIan35"
      }
    },
    {
      "cell_type": "code",
      "source": [
        "# pop\n",
        "d = {'name': 'ankit', 'age': 21, 'gender': 'male'}\n",
        "d.pop('name')\n",
        "print(d)\n",
        "# popitem\n",
        "e = {'name': 'ankit', 'age': 21, 'gender': 'male'}\n",
        "e.popitem()\n",
        "print(e)\n",
        "# clear\n",
        "f = {'name': 'ankit', 'age': 21, 'gender': 'male'}\n",
        "f.clear()\n",
        "print(f)\n",
        "# del\n",
        "g = {'name': 'ankit', 'age': 21, 'gender': 'male'}\n",
        "del g['name']\n",
        "print(g)\n"
      ],
      "metadata": {
        "colab": {
          "base_uri": "https://localhost:8080/"
        },
        "id": "I3mBE0ZubFkD",
        "outputId": "c0310f78-a0ae-45de-f9f8-31e9c3ccac31"
      },
      "execution_count": 136,
      "outputs": [
        {
          "output_type": "stream",
          "name": "stdout",
          "text": [
            "{'age': 21, 'gender': 'male'}\n",
            "{'name': 'ankit', 'age': 21}\n",
            "{}\n",
            "{'age': 21, 'gender': 'male'}\n"
          ]
        }
      ]
    },
    {
      "cell_type": "code",
      "source": [
        "s"
      ],
      "metadata": {
        "colab": {
          "base_uri": "https://localhost:8080/"
        },
        "id": "9Sv_Yg2_bmku",
        "outputId": "4718e3d4-04e7-4e7b-b2a9-d443638696ba"
      },
      "execution_count": 137,
      "outputs": [
        {
          "output_type": "execute_result",
          "data": {
            "text/plain": [
              "{'name': 'ankit',\n",
              " 'college': 'bgu',\n",
              " 'sem': 4,\n",
              " 'subjects': {'dsa': 95, 'dbms': 96, 'os': 98, 'ml': 100}}"
            ]
          },
          "metadata": {},
          "execution_count": 137
        }
      ]
    },
    {
      "cell_type": "code",
      "source": [
        "s['subjects']"
      ],
      "metadata": {
        "colab": {
          "base_uri": "https://localhost:8080/"
        },
        "id": "PKNI1A2tdcXd",
        "outputId": "06bc88d0-1637-4c66-e167-ba965c7cb31e"
      },
      "execution_count": 138,
      "outputs": [
        {
          "output_type": "execute_result",
          "data": {
            "text/plain": [
              "{'dsa': 95, 'dbms': 96, 'os': 98, 'ml': 100}"
            ]
          },
          "metadata": {},
          "execution_count": 138
        }
      ]
    },
    {
      "cell_type": "code",
      "source": [
        "s['subjects']['dsa']"
      ],
      "metadata": {
        "colab": {
          "base_uri": "https://localhost:8080/"
        },
        "id": "29SPa5VEdfFW",
        "outputId": "afecbb6b-4e43-4444-bcdc-c2a57652f770"
      },
      "execution_count": 140,
      "outputs": [
        {
          "output_type": "execute_result",
          "data": {
            "text/plain": [
              "95"
            ]
          },
          "metadata": {},
          "execution_count": 140
        }
      ]
    },
    {
      "cell_type": "code",
      "source": [
        "s['subjects']['python'] = 93\n",
        "print(s)"
      ],
      "metadata": {
        "colab": {
          "base_uri": "https://localhost:8080/"
        },
        "id": "CzgRXJGfdjCc",
        "outputId": "f5a2a3e2-e8d5-4bf4-e652-b511ae4a5676"
      },
      "execution_count": 141,
      "outputs": [
        {
          "output_type": "stream",
          "name": "stdout",
          "text": [
            "{'name': 'ankit', 'college': 'bgu', 'sem': 4, 'subjects': {'dsa': 95, 'dbms': 96, 'os': 98, 'ml': 100, 'python': 93}}\n"
          ]
        }
      ]
    },
    {
      "cell_type": "code",
      "source": [
        "del s['subjects']['os']\n",
        "print(s)"
      ],
      "metadata": {
        "colab": {
          "base_uri": "https://localhost:8080/"
        },
        "id": "HckWMi1UdvTo",
        "outputId": "7c93bf10-474d-42e7-81ba-0f608bc9cdb5"
      },
      "execution_count": 142,
      "outputs": [
        {
          "output_type": "stream",
          "name": "stdout",
          "text": [
            "{'name': 'ankit', 'college': 'bgu', 'sem': 4, 'subjects': {'dsa': 95, 'dbms': 96, 'ml': 100, 'python': 93}}\n"
          ]
        }
      ]
    },
    {
      "cell_type": "markdown",
      "source": [
        "## Editing key-value pair"
      ],
      "metadata": {
        "id": "kwkQFitpeIw-"
      }
    },
    {
      "cell_type": "code",
      "source": [
        "s"
      ],
      "metadata": {
        "colab": {
          "base_uri": "https://localhost:8080/"
        },
        "id": "vTfjOHqCeCMe",
        "outputId": "d8c7b96f-138d-4555-c192-7767d1871f32"
      },
      "execution_count": 143,
      "outputs": [
        {
          "output_type": "execute_result",
          "data": {
            "text/plain": [
              "{'name': 'ankit',\n",
              " 'college': 'bgu',\n",
              " 'sem': 4,\n",
              " 'subjects': {'dsa': 95, 'dbms': 96, 'ml': 100, 'python': 93}}"
            ]
          },
          "metadata": {},
          "execution_count": 143
        }
      ]
    },
    {
      "cell_type": "code",
      "source": [
        "s['sem'] = 5\n",
        "s"
      ],
      "metadata": {
        "colab": {
          "base_uri": "https://localhost:8080/"
        },
        "id": "Z3jW3aILeMVI",
        "outputId": "8a70402d-e423-4414-86ff-54947b941deb"
      },
      "execution_count": 144,
      "outputs": [
        {
          "output_type": "execute_result",
          "data": {
            "text/plain": [
              "{'name': 'ankit',\n",
              " 'college': 'bgu',\n",
              " 'sem': 5,\n",
              " 'subjects': {'dsa': 95, 'dbms': 96, 'ml': 100, 'python': 93}}"
            ]
          },
          "metadata": {},
          "execution_count": 144
        }
      ]
    },
    {
      "cell_type": "code",
      "source": [
        "s['subjects']['dsa'] = 80\n",
        "s"
      ],
      "metadata": {
        "colab": {
          "base_uri": "https://localhost:8080/"
        },
        "id": "RfmYP7X6eSI6",
        "outputId": "66a26ab9-2e79-4acc-9bf1-3c0a2f298abd"
      },
      "execution_count": 145,
      "outputs": [
        {
          "output_type": "execute_result",
          "data": {
            "text/plain": [
              "{'name': 'ankit',\n",
              " 'college': 'bgu',\n",
              " 'sem': 5,\n",
              " 'subjects': {'dsa': 80, 'dbms': 96, 'ml': 100, 'python': 93}}"
            ]
          },
          "metadata": {},
          "execution_count": 145
        }
      ]
    },
    {
      "cell_type": "markdown",
      "source": [
        "## Dictionary Operations\n",
        "- Membership\n",
        "- Iteration"
      ],
      "metadata": {
        "id": "GHqusl9rjQtA"
      }
    },
    {
      "cell_type": "code",
      "source": [
        "print(s)"
      ],
      "metadata": {
        "colab": {
          "base_uri": "https://localhost:8080/"
        },
        "id": "efwPcVuQeYKK",
        "outputId": "6e0439ac-1739-404d-9e22-e994603afa0a"
      },
      "execution_count": 146,
      "outputs": [
        {
          "output_type": "stream",
          "name": "stdout",
          "text": [
            "{'name': 'ankit', 'college': 'bgu', 'sem': 5, 'subjects': {'dsa': 80, 'dbms': 96, 'ml': 100, 'python': 93}}\n"
          ]
        }
      ]
    },
    {
      "cell_type": "code",
      "source": [
        "'ankit' in s"
      ],
      "metadata": {
        "colab": {
          "base_uri": "https://localhost:8080/"
        },
        "id": "2RwySlXojZJe",
        "outputId": "fb79e4b4-10d1-4aca-a559-5046d30ea775"
      },
      "execution_count": 147,
      "outputs": [
        {
          "output_type": "execute_result",
          "data": {
            "text/plain": [
              "False"
            ]
          },
          "metadata": {},
          "execution_count": 147
        }
      ]
    },
    {
      "cell_type": "code",
      "source": [
        "'name' in s # membership operations only work for keys in dictionary"
      ],
      "metadata": {
        "colab": {
          "base_uri": "https://localhost:8080/"
        },
        "id": "bGYaSEnmjbw4",
        "outputId": "584e750c-311c-425a-f659-78b5dd4c0786"
      },
      "execution_count": 150,
      "outputs": [
        {
          "output_type": "execute_result",
          "data": {
            "text/plain": [
              "True"
            ]
          },
          "metadata": {},
          "execution_count": 150
        }
      ]
    },
    {
      "cell_type": "code",
      "source": [
        "d = {'name': 'ankit', 'age': 21, 'gender': 'male'}\n",
        "for i in d:\n",
        "  print(i,d[i])"
      ],
      "metadata": {
        "colab": {
          "base_uri": "https://localhost:8080/"
        },
        "id": "3rhpDF9pje78",
        "outputId": "2461c76c-c321-4c35-ce44-4deb0589f1cc"
      },
      "execution_count": 152,
      "outputs": [
        {
          "output_type": "stream",
          "name": "stdout",
          "text": [
            "name ankit\n",
            "age 21\n",
            "gender male\n"
          ]
        }
      ]
    },
    {
      "cell_type": "markdown",
      "source": [
        "## Dictionary Functions"
      ],
      "metadata": {
        "id": "O4O7tnhElX2p"
      }
    },
    {
      "cell_type": "code",
      "source": [
        "# len/sorted\n",
        "print(d)\n",
        "print(len(d))\n",
        "print(s)\n",
        "print(len(s))\n",
        "print(sorted(d))\n",
        "print(sorted(s))"
      ],
      "metadata": {
        "colab": {
          "base_uri": "https://localhost:8080/"
        },
        "id": "IEweIJSCkNKM",
        "outputId": "9047049d-ec9d-4482-a545-17c579f00800"
      },
      "execution_count": 160,
      "outputs": [
        {
          "output_type": "stream",
          "name": "stdout",
          "text": [
            "{'name': 'ankit', 'age': 21, 'gender': 'male'}\n",
            "3\n",
            "{'name': 'ankit', 'college': 'bgu', 'sem': 5, 'subjects': {'dsa': 80, 'dbms': 96, 'ml': 100, 'python': 93}}\n",
            "4\n",
            "['age', 'gender', 'name']\n",
            "['college', 'name', 'sem', 'subjects']\n"
          ]
        }
      ]
    },
    {
      "cell_type": "code",
      "source": [
        "# items/keys/values\n",
        "print(d)\n",
        "print(d.items())\n",
        "print(d.keys())\n",
        "print(d.values())"
      ],
      "metadata": {
        "colab": {
          "base_uri": "https://localhost:8080/"
        },
        "id": "yPZGT0zGlfxB",
        "outputId": "a338767f-ed6a-4a11-bf14-17c1337256d3"
      },
      "execution_count": 162,
      "outputs": [
        {
          "output_type": "stream",
          "name": "stdout",
          "text": [
            "{'name': 'ankit', 'age': 21, 'gender': 'male'}\n",
            "dict_items([('name', 'ankit'), ('age', 21), ('gender', 'male')])\n",
            "dict_keys(['name', 'age', 'gender'])\n",
            "dict_values(['ankit', 21, 'male'])\n"
          ]
        }
      ]
    },
    {
      "cell_type": "code",
      "source": [
        "# update\n",
        "d1 = {1:2,3:4,5:6}\n",
        "d2 = {5:7,6:8}\n",
        "\n",
        "d1.update(d2)\n",
        "print(d1)"
      ],
      "metadata": {
        "colab": {
          "base_uri": "https://localhost:8080/"
        },
        "id": "jtr1BqTDmT6z",
        "outputId": "681df01a-7b84-440e-c2cc-768a56aac3c7"
      },
      "execution_count": 163,
      "outputs": [
        {
          "output_type": "stream",
          "name": "stdout",
          "text": [
            "{1: 2, 3: 4, 5: 7, 6: 8}\n"
          ]
        }
      ]
    },
    {
      "cell_type": "markdown",
      "source": [
        "## Dictionary Comprehension\n",
        "![Screenshot 2025-07-07 213021.png](data:image/png;base64,iVBORw0KGgoAAAANSUhEUgAAAu4AAAA6CAYAAADvLdzaAAAAAXNSR0IArs4c6QAAAARnQU1BAACxjwv8YQUAAAAJcEhZcwAADsMAAA7DAcdvqGQAAKJISURBVHhe7P35lxzHle8JfszdY4/c9xWZABL7DpAgRVIktVVJpZJUUkmvXr03ffrn7j+i9Td0v9PTZ95v3T0zZ16ppC5JVSKpksRVXEHsW2ZiyX2P3GIPd7f5wcw8PAORiQQIqKhqfHEcGeHhbm5udu3atWt3EVJKySNiu1u2O/8M9bGb1hK1J57hSwkhBK7rYts2QohgLPi+H5x7hmd4hmd4ht3B9/2Af4b5qWVZWJZVeznUkUGeFt+VUm7h80/iObV15zHKNfUKf6/Fo5ZZD0/r/b9omU/j/euVWVtGbd3ZxXN2c21tueY68Uxwf1Iw7y5A1u8EAIQEJOr/Ha7TEM+E9z8LCCHwPA/LsoLBJaV8Jrg/wzM8wzM8BrYT3HfDT+sJV8/wDF8m1MrLj0KvjyW41+IJFPHvCLtpfCO4PxzPBPcvP8Kr4trBZ87Vnn+GZ3iGZ3iG7eH7PgCWZQUyxjN++gzP8IQE93p4SsV+ifFojKSqd98ZzwT3Pw/UE9xrx8CzyeYZnuEZnmF3MPwzvINpvod5bZjPPuOxz/B/Bzw1wf0ZdsbT1LjXCpD1sJtrnmF7PEr71U4stUOu3gRUD7u9jqd07W6v4xGu3WmhU4vdlskjXLvb63hK1+72OnZxbfispa/1a2lty7eHlxnGbq991qfV6x52z8N+N/i/Y5uG37kW9a432Om+7RAuz3w25TxOedSpY7jcp1Fm+O+j4mm//9MoM/z9i5S7U5mPU97ThpTy4YJ7bcM8w5PBjo0ewrNW//eB2lH272U4hdnHw3jEvzUv+beu66OU+SjXEuInchueET5f7/dn+PPEo9LJvxeE+an0JcIyglv1/OMiXPaTKI8/0zJ5SuV+ucvc/Rzxb4ldC+58yV/kzwk7Nvgj4lmPPMMzPIPcJV8Rz3jGM/w7gK+J3YgnQoCW3b8wwmU+KTwdIbP6+ctcJn9WbfrnIe8+E9z/RDCtuGNjPwb+3CbicDvsVO/w7ztd92WGeVczyYRhJpnwu0lzyFC/ShD1I5/BIzKv3V6rrlMXPxvzX24Y/iypdmotTRG6ToTMaLbDo/D83V672+t4Stfu9joe8dovBPnlZW5PWpP/KG36sGfLbXgqIb5aC3O9ov/aX6sI80iqQ+oL4WmUSU25fy5l8qTLNWNIl1lbtHl0eKjVXhPGo9Apu6DVp4W6gnudU3/yiv17g6GxJ40Qzf7Z4FHa4c/13YK/dV5WyirzEqL6fcu1IYIxgruZcLZMWirwQoBHHabCAulX/xpIKUE8i+Dw5wDfRDWq/SEEKSVSqgC0QgjEDuPQXMcu+L4MEaMxV6iH8HU85NpHwRd9vnm/enMeu3j/f6/4txJIdkKYt9brru2qukUYDf2Vmqfuhp8aHhzmkbtFbV1ry6SmXHN9+H0e5M/Vz9S5lqdU19oyv0hda697ANv1p/nrg2WBb+avmnr4WgFGuJ5IhNiqvPClxBICX/NItHJjN7QvH8HX7Uli14I7fLkG8Y6oX/2nh1CzBERVh+7kY1attpxaCFO2nnB30qjtVL8wwr/vdN3j4GHP/nPF4/ZvPZghWE8WCU80Ap0aIPR9Cx44sUtIlY7ACDyW/bgFPcPjIDxOt+PHWx1QH+wfwwZknYVh3UVgCKK2xFrBdyceE3rQbq/jCV37qNc98Lv5Wv+2PwmkjjemlldV/q5+q35/mlXdbR/+KSBD71+LQCB7hCrWuzTcnkZ4F9YOD35cbHnQNjDP3O117OLaR8Vu6slj1PVh14VQj+1JUb8ooc+b38LVN3+lVCFGHdsKxpBha1v54cPlqH9r7Fpw/7cevOHoCPUaVBqNkgS54zLuUWHtSG1hYkETljlfe1eVqOr9Wh/ioVdKpOY0RnB3LHv7zHI19X0YHvZ8KdXKVwrwagQIS2wVHuqipnAZWiVXz1VbTFAVVLcr8k8BQ4NbGEltxZ8iwu0pQm0W/iu/YJ18CZ7vI4TAtsUXKusZHg3hcWp4G4Av/S1CZ5VXCyxhB+cNwn22U//Vjk8z1oLv/5aD7Snggffd8rI1L/9U4OtDbJljlNBePW+qEqaHMJ5mVb+o8G7ulzoRnfmseKcqz8zrAoEQFr7mp/Xm+CeBhxUrUA1tLnvI5Qq7ukijXic+Q10YoVqGxgBslbGoUW4F40TfEB4fUip6sy01l/l+lf6Uhl3RR/ieLyvqCu5fJkjA9Vxc18PXQkR4UJtOVV80o9BM4smgvuBeS0hS60eU6Ly1SY3gCdSkXnqw3Fo8nIgk4COEythpWxYRx/mTCO5SSnxP4vk+vjR/zRbW1q2mgIkH+iSJEBaEVsoCpeEN965QNwdnwkLqo7zHk0at4C6ErTWb1doLs/0Wug8E1g5G66YdCP4+2GP1hmy4XcJ43AlQIpHSx7ItLMvGcayHTnrP8ORQ2+tK+PHw/KrgLv2qQB8eqfWErHrndkK1tOr3f0+oZzpjaYWHpdY/TxVSughhhFmBxEJixtiXQ3Cnhtc8Cg1Jvdj0PDVv+76P53k1grvijwR8SuCjeGo9Hqmer+pQbY9HawGBrLuLWQtBdbG6i8sfCLu6HR6XHz8p+LtWam6Vs54Utn9+7bNUv9a2qtQ/mfMSqc1fqvfX3iMMvUhfjSqh52bNS829QghsR8tPNWV82fClF9w936fsViiXy3iut+W3LUJSDZN5ctiZMdQyEHNlVZMAvi9DmllFaNW7d8b2Tw/IUZUpBNFoFMd2iDjOtmmhq/XdHbZ/vmrvSsWlUvHwpY/n+1RcD6GXxEIL71sEDaE0SoYJS8FWNYj09a5J9VT4+dsJqP9WkJgKiqoqIPx7sDAxSzt1hNtly/Wh91UTh6EX9YuwBNKX+NLHElbACOv1k6gz+e0WQoBAEovFsB2bSMTB2s2M98Rh2ujf4tn/dqj2uPrreS6lUgnX87YInVJr4M3C0UxEZtfR384WJoRwvwb09yUbZ08DQljBeLJsi2g0SjQSxXaqfPxpQcoKUihep0aaBXrHpIoqxzD0UIt64/5J43GF93K5jO/7uK6rD0/xM6GUYUJUM6IqaCWHQLVHvTfTBGr2YBVXrXNdDQxdG8FdKfcevM+w8N3OM9vx8S8rHqX/DP5U77dF+A7GRX26D8tTiqbq94OoKVdRjCl1a1soGSpCPB7D2Ubx+WWB8DVnf5wO/VOg7FaoVNSkVS6Xt/wWdkZSwqLqPIlZ1SsB+outHHe+t0pA6vm1VBYIrYqCQozWaJ53hqDKROpfXXUijEajRJ0IEcfBcZy6fbrdQNgO1fo+CCO4l8sVXM/TOyN+yO5Qv6lpA6kETlWgROjBIbRjnQw5xSnhpPpkI5CY+uyWsT4tSNOnGmbHg1Bd612nCSF0YnuYEh7UO9RnpqJO39ajgd3ATHDxeJxIJILjODjOvwUzM29U5z1qX5b6l/05woxTC2WCVq6UKeQLlEol0P1q+F91rFRfPkwf9WjFYCf62EK2oc9/7jDvHJ4XbMchGo0Qi8WxLAtbbQY+BaieldIP+L/qH6XxD/djuFcNPdRia68/PYRpaCeaCaNcLlMul3HdCr6n5gof7XCxg0ZXovip3OZ3A1UjozAxrbQd9O/Sr8tP68E8/WFXb/ce9bBbzfyXAabP642XrTslu8du39/M9FLvP1XPK0jMvLrdyKhChN5ByOp8WkvHliWIxqKkkknsR3yvPzW+9IK767mUyhWKxeIDgruUEstSApPvK50metATIqrtt2d2ws7DNvi1VnDfpi0lao9GSEOS/rZlY5iX/vxgaWGYMiSO7RCLRohGon8SwR2gUnEpFktUXBfX8/A8JbiLkFd2WHA3/4JFl6wuwLZqEtn2yQKwHuUlvgC2FXqE2i0wNCZqVvxbBHd0pfWHXWvCxVZGY7BdneqdfVTGamAE92g0SsSJ4ESU1v3pQAK+1h6jTQZMG6kWNDawW26ph8d73S8dDN2EBfd8Lk+5XK4uYrf0bf2RGl5E1jtf77d/zzCKnHBUGSkltu0QjUaJxWI4tniKW+WK1k1/SalN0izDINR5z5cIyw56NeAjNajf608H9fjbTiiXy+TzeSqVCpbl4Ps+Fc/Dsiz8OnQpQ0o2iUDuij7r73Ruh6rG9Rl2gq/NnGzbxrYsXM+r2xc7zS9hId3wG2OeEjZnFlqGI0RXlrACea5eb4U17jtU4YHxUTuf1r5TPBF7Jrg/CXi+T7FUIl/IP2Aq4/u+tr918Hwfs5IHgef52LYR6h9HcDfYjmVuhba0qj0dQGpiM5pis10jHlL69iUqCN130vdxHLXdG9OCez079929TRW1hF8Lz/UpFIuUK0rrrshJMVxbG4v60g88AJSpjNI1yZCG3cBso+pvUFNfwZ9W225Ztdu5CoYphR2hjT17uG4PahgeQXDXdFJvoqmt03b9+qjjutrfSnCPRNRCMBp1npLgLpUgI10839Wiqo3A0Z+ljmhj3k6/T72X5SHE+mcE059GcK+4lQcEdwXVY1J/rKU/2GouU+1f/X0b+pA8kjz0Z4XwYlvUCO6JeBznqWnbqdI72ixmS4eV9XmJ63k4dmzLXfVIvrY/nzYeRXgvl8vksjlcz8eyLDxfmVMKvcMa3jEPm5YCembcofygGg+5rgbb8dNabNfe26GWH2+Hh7XZlwHGdM73JbZt4Xk+rlsJdpWFENh2dbd8J9S2i+FFtXRknmnGoxLZHizbl2ryr969C8FdX6zkDX3o9zD1Nzw1Fo+STMSJ2E9jrnuwPbbDw9r1CwvutR3wpGEE91w+h+/5WzQlvqccXizLoaJNNYSwsCwHx7ax7FqbwUdFePjKuoRkzqurNEOqI7BJHhTcd8NAHoaqECtxHJtoJEI8FqsR3LeQ+SM9VdV1eyjBvUS5UqbiuoHgTg09CLPaRipphBoHMWGqKRCBreeDvz+sPl8Epr5V5uGTy+VwHDWIPd/fMuk7to0TiUCof2ud3h7Eo71BPTqpHfzmW70nP+qYrNZOMcRoJKJpKorzxAV3GTpskOCWoVICz1VOzo4DtgOWDU6kKu+Ei5DV3fdHadovNUyrWFrMq9W4E/StOgz9PQy7XfRWNVr//hAe5wa2ZROLxf5Egrsu3dMBqC2ghNJwJm1F+L6vCD90V73+eNIkv3VRWB+7nfOV4J7H9XyEZeH51QATil6rgpOnd2yFEDiOrZQbuyHoR22BXZrKbNfe/94hLEGlUqFSrgR+VJFohEgkEsgTxnHYRLgK6GGbBgvzq4rrUimXqFTcLbKcgWPbxGJxbMfB9x4s8EE+t3NPCc3zqt+rzsm1tCu0jXsqlXgqgrvUuxjms3m+sRoJo/Z7LR5LcDcdIbWpSj3sdnA/DL6UFIoFcvk8vqeiXBAaqoViiYrrMzExwcpKhsbGRjo6Oujo6CISjdYVpHZXG2U7vh12Ipfwu0v9DltMQwBLlyB2KEdhm61AQ3yhrR/bspRzRSyqnQmV9qZ6BOvNrWXtAPGQ9vJcn2KxRKlcpuK5ylRGK6GFVVUBBu0g2FIfQxtKc22etv0Td/71i8HQsqlTPp/n8uXLCCHwAjMgFcHHcWza29vp7ekhHo9jOY7qpsDe8sngYYK7+bQdDdUde3VOBQgtBAWSaMQhFokSe+KCu66xL/E8CZ5NuQi5TVial2TXK0jfJhG3SaTAipTo7o2RbNHSrHkHCZ7rYVm2iru807ttQZUGH+GmPxlM7cKCeyFfoFwp17dpB3YTLkNQ32cm+K7Hau1vX3ZsR/+1gqj5Hkya+q8QFrFYjFQy/sDa8KlASvAkSIvSJqyvVSiXXdINEZpaHETMLFJVX9f2icH21Guurv/rF8XWxWN91BPcPd/HdpQtv6fn5kqlwsryMpubm8TjCdraWkkmU9i2MqnZGQJkfRmkLqT3AD8Nw/yy/RX1sVvH/d04i//JUFNl6atgBJOTk9y5cwfbsWlqamJwYICmpmbK5TJCCCKRCCDxTZhPwzhqCwzRiRl3mcwyk1OTZFZWNM82408pYtvb2xgZOUAimawruGPV9t52I0PB1MrQqUAiahVfAU+wiMUjJOIxIk6kztt8efBYgjuA67qA0hKUy+UtKzLf9wONb5hJPg6U4F4km8tq738bSwg830MIi2KpzOraGr/+9b9w5fIVhoeHOXfuHGfOnCWdbsB169hmCXbsbIWdCWKnX0U4kooOPaTOW2BsLKUqQexQjoJ4IOawgSo1LNhJYoF2NIJtWQ/U1GxByrrDrIrw7ztd57qeEtwrZVzXwwuFqDOmMphaBO1enUxr+0bdWuMhbirzGBr3cNM97D7LsrBtm1KpRDQSZWFxgX/4h39gZWWFXC6HG5gDKfo+c+YMzz//PD29vaRSKe1MpRZapm/qTzwPqwlBzesJ7mFU27U+HjTL2b4sAym1VsL3A7+JeFxFl9nJpnG3UN2pMzy5UCnA9N0St64ssrkGm5subhmKxQJSlognPaLJMkdODXD4WB8NTRZWKlSgsVbaDcFCQIMKj0pRfxqYGlYF9wqFfJ5ypax2HmtWKfXo4MG+128bHlohUy+pTb2Ccsy42wVqx/GjYMtY/yKoU4yJGhM2yyBUX/PXEoJINEo6mSLyYLM9WfgSpAeWA1m4P77B1cuTzM5kGBhq47VvHiXZqgV3EYyWeq+nqbe2o8zV5o5HWtHuGrWLolooG/cClYqLZVm42lTGcmwsYQchnqempnjjjTeYX5hn3959nD9/nr6+PpLJ5EOfsd349X2l2TTmHQb1+Gl4nNQbR2FslyOm3lirj3AI152x83s/WRgFZyqV4q233uLnv/g56VSakQMjfPWVr7Jv3z5y+Ry2ZRONRrAsGyklnu/V9IHYQqmmXN/3sR2HS5cu8s47b3P3zh2i0ai6RiuAS6USzz3/PD/64Q+JxxMPhFc2qKdxV9dtvdaEfzTVEZZAKA+qIBpXuC9sY7GQiBGLROtQ1ReHWfyYEKm+7xONRh+IAljvvcPYLbU9AMdxcF2XlZUVbt++ze9+9zt+9rOf8bvf/Y579+4h9Wpst0RqYNiNcd00gqZaVZvtM4Hvg+dLPF9SKlVYXlpiYmKCmZlZ1tbWKZWUR7vveyqmuClZULWxfui/rSwwfBAiV9PEUivHpdDaLx0OUTEP1dSmQ3wp8SWojTt1+FLz9C3nauuk/0njzKfLUVSOFIo0TY5i1X667bCC4FmGlW93hH/fEQJtt67fXf+zbBF+rNoRNgmZhMl0oNpoyyFMBgSj+tWtHfojqa68H3oIVFKPsCax9pk1MeeFdl6LRCJUKhXm5+dZWlpiZnaW+bk5pqenmZicZH5hgVK5grAchGVXH1J9kqpziC6k6aOHHKblfQmeFA8cvv4rhYr/vP1RpaVgLD2kX4Uw11vBK1XpUn33pD7/wNvuDHWt1IQDeLAy7XHv8iq3P1zi1ifzTN9eY3V+k9XFFRZmZpi6N8ns1Bz5zTK2bSlWEH6g4WKmIn5NxbZU8GG1fdjvITxQ9tODEBZSWKrv0TRiKQdpQ1dbBhyWDg+59VBJR6pHmFYQNggbIWwE+q8+97DD1zT5OEdtWY9zCGErZ07zVx9gBX99T+WdgOpiwUzef4Iu3Ao9AMsFn7WlHDP3Vrlzc4mZyQ3yeSXXKy3Gw2oWIsLQpRKJH/zzMDFs1CVmcHwxPEy4UG2sd1mFBOGbaUnVUHqsr68xNTXF559/ztUrVxkbG2NxcVHxINM3Ox4+UnrBoXRjes4XEInoHBSWBHS+kVDcfIm1Zc4Nz4LhcVJvvNSWsdsjzDZ2OpSM8HQOKaUKz6yPMDY3N5m4P8HU1BRzs7Nsbm5SqVTwPR/Xc1UZvo/nSTzPyGFqUWZ2Vczhhg5f+kSiUVzPJ18osrS0zOTEFLOzc9yfmOTu3ftkVjJ4no/nbbdAUtGIqoeFJWwEVpXv60NIK5AbTQQ7pFGEKto1MpShx+r3JwdT3r1793j77bf5xS9+wZtvvsmlS5eYmJjQ5t5WINQb2t8J9v/0P/1PP2UXg9DAxGSdn5/n0qVLvPPOO3z00Ud89tlnXLhwgbW1NXp6ehgaGgIjBO2ybIPaKruu0uoD2LbaZvM1sRSLRdZW1/j444+Znp6mvb2D4eG9DA0N09CQVuWFnSCDD0rAfFzUfSMjtz3QniGtgfQhNFkIdIQDoW72payJS1tlIlsGtpl4gkMqD3BbxXC3bRu07Pw04Us/iCjj60WGMTo276ze1fzbWn8lv1evM3wz3DOCrYQs1cldHeZ5uqBq2dvQpJkQTIz0ZDLJ3r172b9vP0N7hnCcCGtra7iuS09vL4cPH6GzswspFSMxj9ZvpwVf8yz1q/SlSroi5QOClTkf9GqdAbyFtrS96LYINLPVmplPO8H0hWVZ2I6l6arG+DdcjV2UWYWm8DIU1+DaJ/Nc+eMk7maC7o5u9u7vZv9IO/sPNDO8r5WhvW0M7eti5PAgTW02dqwmHflODVBbKbGFIszJms+1N1Uhw78KbU63xaRu+3sfB6rHwPVUZBnXddXw0jyj+mQtwe8G5hXrHTXX1Wst0DQYfv5D6NBcbw4ZPveEUGvZKPSCXO38GZWF1g/o54df3XEcopFo8PvTgDRmk8ICz6ewXmFhZp3J+8tsbJRp6Uyz91A/qWaBcJRmsFabG66bqrumyqAtzRuZ3gsL7Wb5ba57elDmhR6+7yGEmtvUk9VzfW3vOz+/wMVLFynkC3R1dTEyMsKePXuCwAC7lR+k9Ik4Dmtra4yO3mZxcQEpobGxgUqlostS/DBoD1N2DZ9UCrAHKdrM21vu3RWq14bLqFfWA2PrKcE80cx5pq1HR0f54IP3iUajdHR2cOzoMTo7O7Btm1g0qvtDJeazbOWPYN5BWBa2TmQm0RFjLAvLtnBsB8u2aWpu4cCBEfbt3U93dzee57O+vk42m+XQocOcOXM2iIpX2/fhObZ6qH/1+su8pfS19l237wM7MUIt9JyIQywaxdYRnZ4EzBw+OTnJp59+ym9+8xtu3rzJ9PQ0CwsL5PN5ABKJBLFY1SG99t3DeCS5TkpJpVIhn89z9epV3nrrLd566y0uXbrE8vIyyWSSVCqlbaCqFX5asGxNJNoWrlyuUKlUAgcAy7IC852gJoEN79a/j3qEV65hmDJrz/u+Ws2Z36pHeKtarfbU9lN1e1fJUFv/hTWqCqpmliZ20+dmMa3XC08NZlLceq7aHoQ1CCYklFSrfd/z8T1/iwZACbf1K1y77V0P4TLCzzLahe3KNufzhTzxeJwzZ87w2muv8fVvfIPXXnud4ydO0tjYjBA2luUEDED1Y6hMoz0PWsFMDAb1n791eg337+OhujNj9nZ2RtBGunoPu/5RIQDhK007HmwsQ2ahSHbDJRKN0NJhc/6lBl79qyQvf6+d1/9mkK//7QivfXuE/j1RInFFR8hQk9Y2Leh2fGBVVIcqpVbR7AxdWvB56znz6YFKPBGoqqs67sTMnyhqhPawlkvqMVy7o7pd3eqdr3fOlG9btuLroWc+DnzPx3M9rS30EJaKhhFebwVHSCh4mthSvrCIJWO0dDbQN9TG/iM99Aw2EU1KpIXSlpvdzND94UO1/9ZpXF0rdGQmY67oI/FCtB6qiXlAtSu3YDte+UUgpTJ7bW5uYXBwkOPHjnP8+HH2j+wnnU6rQBO74PNhSClxXY+1tTV+9/vf895777OZ3Qzqr3y+toNqACPSP3mxeedxYuao2s+Pg8cdM2pcq+y2pZIKOOFW3ID3mCh9nucHcpYQAtsxZh5aOtEBQsyC2RJKTpNS0tjYyJEjh3nh/At873t/zY9+9CP6+vpAm5HIR1ioVfEg8Zo2NO9T1cyrslX7mroqiwi1w/hIIvEjIRqNEo/HaWpqwvd9rl69yu9//3v+8R//kQ8++IBMJhOYoD+s/x+pllJ7xd6/f5+PPvqIGzduUCqV2Lt3Ly+//DLf/va3efXVV9mzZw+2rcI0bue8+vhQk4ZlW0ScCBETt9xWK7Qq8dff8hBUGbURvP0619VD7VZT+Hw9VOsSGpBacDQCrC+rMU3DBFstXw0IddtWtq2uqM6w6hZVhq8FdcP7TIz1p4EHh5keHKHhVK/dwhCW2nkwzLp20laLEb2N9MD2Q51Do3YBIESovWq2CA0srTUw6bojkYjSODsOsVgc35fKsUZn/guOwGyBuluvaG37biFr3tscjwvTB7uCCLXPLm/ZLYTQZZYhu+KSXwffi2BHLA4d66RrL5AEoh7EKhBxISHVX0uqbe/aZpDmP9O5NYs2894+ynYqMCkxlQkTTagYvR6rFfIUVB9Xzd3UxYrO9b1PGOpdQgvfHcbUtgjerc442npJAEM3QgjtO1N/cqmlz9rvZjzXu9dASrXlbujVCy/0d7gvDHNdWHljFAT1EO7X3T3hMSBR9KYXrdgQaYA9+1p5/uWDfP07Zzj7wn46utTOlo+PQGszayBAMXjdPtUDfE+Z2vgu4NngW1gSbMyKOSihbtkK1V/C8+puYa43f/0ahYyvo8sA9PR084Mf/IC///u/55vf+CaHDx/CsR3ty1E70OtDPUeQz+cZHx/n6pWrLC0tkcvm6pqqPgk8Cj2GUe8+M67M8bgw48vXvnS2ZW0Zc/WOMMwcHdZIS6nmO89TNGbbKjiD1GFqPddT2nShzY6kukcIKzgHau6yLBWyGr3DZVlWkODPIPy5FnKHIwwzV9q20v7rs1v97oL31POANPPzk13AGwXH0NAQZ86c4Rvf+AavvvoqBw4cIBKJcP36dd59911u375NLpcL7tkJAYXUdmA9GAeC+fl57t+/T6lU4siRI3z3u9/l7//+7/nWt77FyZMn6e7u/sJCxm5hiM+Y0gQa9sAOa2vsd4PHGSi2ZekMkk5AbMGkEBLqwzDtas7WXhMePCI0yEBt7+hPNY6mtaRqBBCCZFO+7wVCu69jvFsW9T21nyCklotqaxp+anjnwddbxwFTDy9stmnPh9GVsU83CVViMeUl7jgPaly2o3sTQcWtVCiVSqqfgEKpiK93QyyrGpLU8/0H3jXUk8Fh21VP+qcB0zYB47JsxVQ1w5JS73DUWUCEFxWPssB4ZJiiXRCug+UlccsWiWSKzm4goa/xAE+Aq80AYg44QkWWEloIN+VJtjoTCLVFq5J7hJizZtDBEbDAOu+rLRpqzyHVsz0XpCfwXAvXU343vu8HydUeuPcLwvRJWCv0RfisidC1G0ipYotXXGXjGo1GiUajOHVC7po61dbL8DbDc60agdCU73pKS2Z4uPm8m7FvYGnhIhJRoezsOgnpAt6sx/afBFVWoOjXg0gKOnriDAxF6eqNIhyI2GDvGN9GRccQUmAJG0tY6rOOtqsEdfXX8hyEF0G4FpZngV4MbBk21WI1trZVbdvtBtvxVqEFOEsIPM8lEo3S3dPN4OAgnZ2dRKLRR1b4mTKz2SxTU5MBzwaC/BOGhszn8N+HQYYEYcd2AkUhdRaEO2m7LT0ulJa3/nVCC7ORSGTHsurBLOCkXtAZE1ZT9/BhaQ16PZi5w7Ztdb82W/JcpQD0PO1cGdK+K4VXVf4ybavGuaqT2U0zwnmlXEEIsUWWUubQjwbzPPNM817GXEvV3dXWDFvvM4sKkMiQH8KTgAxFXrRtm0OHDvGNb3yDb3zjG3zzm9+kr6+PUqnE0tISd+/epVgswkMWL5hZa7vOqwfjkLq2tgZAa2sr/f39dHZ20tnZSVtbW7CieppQnaQIx/NcKm4FQpOR1LsD4YYLE3Ol4lJxXcqVMuVKBU9rv42gqGy3RHC963mUSiWy2SyZTIbFhQWWlpbYzGbVlhFbzV2rk6yexFBh68xiwnPdgNB8+aDW3dd1rZoBmYWJ0vTWDuhw9jGzWsvli8zNzzM3N0e5XMLTse53yau+EGTo8INJWNk7GgidyEHqqA+WbW3RuBv4vh9s3alydFuFBGBz3tP9tLKywtz8HLNzyqF0fmGetfX1gCaksTUN9VUtbNvGdhykL/GlTzyZJKpt/MwRzsobXmz4UjnjSL9qAuR7PsVigUooA7Bfx+TADrWD+c1cZ7T8gQZJawoFgJSUSyWQErfiUiwUWFtbZWV5mezmJp7rYms6kXLrQmk7CKEWKMbZ69GwtWy3rIXxCrABlQ2QJbDcFA5J8KLYEigCBaBoQ9GBil1VFKLL8FFxsBXf3fpbGciDtwqFeSgugtwAcrpsN6R4hJoCNKSqpyzq+rr6KJm6gchBKQPuOngbUFq38As2smQjPK1Z9RWfCpvEPSlIKfE9b4vgYOhop8Whof9KuRyMJTMeDO0JTXtupQL62vW1dVaWl1laXGRmepr5uTk2NjaCnSlTVvgZBmGtX6lUUuO5XA4EfzMuy+Uy6+vrLC0tBSECS6US6BjP4WeEUcsPFa/OsbS0xOzcLCvLy+RyWcrlMp6ntqON8FRb16cCWRXUqWgaLYNXUOdiNtgSKpo+fc9HxRzfBoqxIlwLUQBREFgVgXBBlDWdZkGugrcC/orAX43gbkSQZYH0tvLo7R/0ZGDa2Pc9KmUVOKJUKlEoFvE9PzClKFfKeK6ihUeRSzzPxfd9lpaWmJ6ewfVcPE8JatlsTpXrqTlX8TTV90YgNTBCqqVNtQz/dWyHUqnExsYGy8vLLC0tUcgXkL4MFonBO4YywNaiXC4HyqDaeaBUKpHL59nY2GBxcZGlpSVKpVJQh1o6rf0OKh5+PpdjfX2d1UyGleVlRfv5fLAodj0P1/W25f1S6lj7xkRGLyRARfra2NxgfX2dXC5HuVym4lYolYo6j44Z51Wep+ZKK3ROOSzbto0TMdEHMZS4634Pv79RqJr+zOfzZDIZlpeXWVtbo1gsamWbMt9REEBIeWD87QIH1i8OIyeg62jClQ8MDHDu3DkGBgaIRqP4vk8mkyGXyyGlDExmtoOQCurLQxrM932Wl5d56623+MUvfkGhUOCrX/0q3//+9xkaGgoa72Hl7ISAkZjvEopFJTBLqZIMGcdUy7bI5QrMz8/zv/6v/08uX77MsePHee3V13nllVdoa2vDdV0cHQHHvGcmk2F+cZ5KpYxl27S2tNDZ2YkTiQR1tzUBGIF5fX2d6elpNjezZHNZctkstuOQSibp7umho6ODrq4uotFoMJFFteZgY2ODTCbD3NwcruvS1NREb08PkWiUiH6mWgGrSaxSUatQz1ODa3Fxibn5eSJOhO6ebjo6OkK7BEINBMC2BBHHJhaNkM1muXjpInfvjNPW0sKhgwcZ3ruXRCLx0NXco8D1XArFIqWyS0Vrnn3NHG2dKrlUKpHLZllYXMTzXDo7u2hpaVEJo6JRyuWyXpCoQeQ4thaWJcVCkZWlFdbX15FS0tzcTGdXJ/F4XAmeevCWSiU2NzdZXc2wsbHJysoKhUJB0ZKl6tLe2kZbW6teZHZtXX379ZmtKb9ccam4Hu+99x7/9E//xNraGi+88ALf+uY32btvnwpTukWjr5iCbdl4vkchX2B9fZ25uVmEEHR1qX50IhE8VzE8Q3vRaDTYgrx96xblUolYLEZXVxdtbW2q9KCuasQIS+DYDvMLC2xubjI3O0s2lyOXzVKpVGhsbKCltYX29jY6OjpobWkNBCIT5lHFqdcTpmZiUcchGrGJx+NKqAs9tfbz1tbz9SEAG8+FpYVNcGNQiuJu+Mi8xdTNCtc/W2J+boOm1mZe+4tumrrVDr+0PXxRQtoVWjqSdPRFIKaLtQFXgi1UiBtXIF1YW4bVRShuVihulMjnJI6doLXVoa0T4k2Q6gDiECRnDeprVXMQ+FBYh8X5ZYSUNKUbaGqOQwTKGVhacMnnfEpFi0LRRdguIlKkqTVCZ28Dja2WqqMjQXh6hOrFVh06q4Xhgxbq9UqVCrmcCgcpfYnruayvr5NZWaFUKtHc3Ep3Tw+JeEInThFaIbA1FKIlBBsbG6ytr7OyvILne7S3tdPe3k48Hlf8VfO9UqlEoVBgfW2dzOoqa2uragI0E5Ht0NLWSrqhgb6+PhoaGgI69nS69ICe9LOzm5vcv3efYrlER2cnAwMD2JbF6toamZUVZufmWF9fJ5/LIYSgoaGBZCrF3uFhWtvakFLFmqamHQVQyCmhZ21tNeDVlUoFYQkSiSSJeJymxjTNTU3EYlHa2ttJxONUKi7JZJJEIk4ikcTSGzpCj//dYsd+1Vvw5GFuapXsJsSiLfgV9RxLQL5QgmiWgyfaIAFSenpTqaqUEYSccItlcisumyselrBobUnhJEHmILMM62uSjdUibkXiOJJ0c4R0u0Oy3SLeDNH01rnWQIQH92PC8ORCvlCNRCIl+UKB6Zk5isUipVIJ1/OwLSUzWJZFKpWks7OLVDpFNBLdsf0NfWazWTazm1TKZW7fHuV3v/tX5ubmGR4e5qWXXmJgYABPJ2eUEhxHabNbW1sYHNxDNBrF1TwY3Y9mt87zXDY3s0oJNDNDNpsjm8viuR7Nzc00tzTT0dFBd1cXjY2NoLXeQpt5GkWglGrXfG5+jrXVDMVikZbWVvr6+pC+z8bGBrNzcywsLFAsFNjMZmlIp+nq7iaRSNDa0kJTczPJZDJ4fxlSYm1ubrK0tEQ+lyOby5HNZtVi2vMQlkUikSCdStPV3UVTUxOpRIJEPA46+Icpx4k4/PpXv+J//p//F9ra2jh27Bg//vGPGdwzyL27d5mZmSFfKOC5Prbt0NTcxJ7hYTo7u4jFVHnSl0QikWDurFKZEtrRO9npdJqF+Xn+23/7b/zxj39kamqKH/zgB/yP/+P/CNr+fKcxZco3ctb6+jorK0pWyGQyZDIZ0PNpMpGgpbmFwYEBUukUsVhM3+8HiwYh1LWJRIJY1PmiQyCAqadRIPu+H9Dbf/kv/4X/8//8P+no6OCll17iP//n/8zw8PAWvlkPjyS4VyoVVldX+c1vfsMvf/lLKpUKr7/+Oj/84Q/p6elRWyWheJQPe3g9hLsZthfcXc9D2Bb5XIHFxSX+t//tf+PipYscPXqMr73+dV5++WXa2tqCEDumLouLi1y4cIHrN67jS4+e3l6OHT3K3n37SCYSWmhykTruaD6X486du4yNjTI+Ps7KSoaiTgglhKCxsZHe3l76ens5dOgQg4ODtLW14TgRpFTxvvP5AqOjt3n77bfJrK7S19vLq6++yuCePUH7mG0mYVnBIsNzXWbn5vn8wkVu3LxBxInwwgvnef78eWKxmNqC0u0kkDiWhW0JYlGH0bEx/vFn/8j161dpSKU4e/Ys3/nOd9i7d++fQHBXmmEluLtksznu37/HB+9/wPLKMkcOH+GFF16gta2NlGZEJuutlCp2uNk5uTN2h/fefZ+FhQUsy+L06dO89tprCL3Nalk2a2ur3L17j7GxUaampsjl8qyvr1MqlZRQqQX35qYmUqk0w8PDfO1rX6OhoYFYTMUnx9cW6TX0aphjWHD/1a9+xerqaiC479u3D8tx1OwbQK3c44k4nusxNz/HtWvXePfddxHAmTNnOHv2LD29vcoxNzSwTRjKcqXM//f//f9hbHSMnu5unj9/nnNnzxLRK3RVVwmolNTLyyvcunWL+/fvMzY6ymZWaRhd1yWVSpBOp+jq6mLfvn2cOn2a1pZW0mkVED2c70BKpUVSTkWKnmKxmMpoqN8uPLebz1tbTqnFpQQhIhQLkutX7jIxlmFj0cfLSaJunOJKgsy0pFK2iSVj9A6n8aIZiLqU/ALSKmFHXYZGOnjuxYM0tmuh3QppMH0VC35uAu6PZ5m+t0xhNYuXL2P5CWwrRiopaOuM09gRZ/BQC0194DSCEzfytAQhCNZyZVie9rn4yRXWltc5eugIB/Z14FZgZqrErRv3WV7MYpNgc7OAFBUSDYKW7hjHzgxz4GiTMvmxJVi+NkdQ/VtvgVgLwwe3E9yLxQJXr13j888/Z252joOHDvHqq6/R3tZOOp0OmcxttRN2bIebN2/y4Ycfcv/+PQC+/vVvcPLkCSLRaCAsLS8vMzU1xa1bN1lZqWquSqVSwE9t26atvZ1UOsXRY8c4evQo3d3dJOJxvQ1v4WnTGikljm0zNTnJv/72tywsLnL0+DGOHTtOxHG4cfMGY6Nj3Lt/n2KxoJ9j0dCQJpFIcv7885w5c4bu7p7gncLvtZbJMD42pqM1zLC4uBhEEgGCcd6YTtPc1EhPTzfnzj3Hvn379OQfIR5PqGRqT1FwL616XPzkFnfHlvFKCWQlQTkPsWiCUjlHU7fHX//4DPEu8P2KDvNZnVMNqSLBXSsxfnmRm5/Pkow1cGDkAA1ph7m5NcZGJ1nLlHArDtKPYAmLRCpKut2icyjBwMFWOgZjWDFwYvpdTdmhsbzdKz1sbvelpFgsUiwWtYmCD0Iwv7DI7//wBxYXF8msrlIqlUEqU4loNEJvXx8vfeUrDA0Nk0gm8OrkYQnP5aOjtxkbH2c1s6oVN6uMjY0C0NTURFdXN8lUUpsHKj4bicSIRqOcOnWKr33ta7S0tFAul4OFpud52BEH1/WYX5jn9q3bXLt2jenpaYrFolI0aTOTZCJBT28vp06e4vTp0zQ2NuoEU1vhuR7RaJTPLnzKu++8Tb5Q4NSpUxw7doxisRiEBsxkMhQKBfK5HNFolKamJrp7ejh37hwHDx6gs7MLX8+znjYDXl5e5sKFC2p3aXY2GKe+1q4DJBOKtvv6+zl16hT7hvfS3taqFy3qGiklTsThV7/6Ff/L//y/0N7ezoGDB3jl5VeouBXGRseYmppSuwUVlSU9lU5z4NBBjh07zuDAHtra24KoMkaT7GnH8KrgLvEqFdKpNAsLC/y3//b/48MPP2R6epq//uu/5n/4H/4HHCeqhfcHacyMSaF3RIQQZDIZbt++zejoKLOzsywvL5PL5fS85eBYNg0NaQ4dOsSJEyfp7e0lkUhgW0KvVJXgntDtFI04W6fzL4BwfdFytMF/+S//hf/9f//faW9v5+WXX+a//+//e/bs2RPcV+/9Aeyf/vSnPzVftrvIwPM8isUi4+Pj3L59G9/3GR4e5vDhwzQ2NgbM1JTzsPJ2i3A4SLUVohgDAtyKSz5f4OLFz5mfn6ejo5Ph4b0MDg6SSCRAM21fb6N9+OGHvPvuu0xOTRJPxNm/bx9Dw8N6slOTkVmlVioVpmdm+O1bb/HpZ58xOzMTrOyFEBSLRVzXZXZ2lpmZGQqFApFIlPaODtAkqlaNSjvw6aefMjY+TrlcJt3QoOz5HOX0aDpJWEqrKYTAdV2mJqf4+OOPuX79Oul0mn379tPd1U0kWt0dCJistqGWUjI6Nsof/vAHlhYXyWRWSMTjdHd309nZqVeb2zPlR4Ev1erRM+EgpQr6WKUBC9/3mJ+f5+LFS0xNTeG6FVpbW2lvbyeRTGBZFp7nEY1G1G6K52IJi4pb4fbtUd579z3Gx8fxpc/I/hH27dunbMGEEkwW5he4cOECH374Effv32dtbY1CsUDFVbFny+Uym5ubbGxssra2xuLiAghBX18f6Ya02u7chmaN1sTzlV345OQko6OjFItF+vv72bdvH62trdgRZ8uC00z9ZiG7sbHB6NgYH7z/PisrGVpbW+np6aapsSHoB6Htso3ZQKVc4a233uLGjRt4vkdPdw9Dw8PEolFNWwK3oiaRyclJ/vCHt/noo4+4e/cui4uL5PN5Jbz4kmKpQCazyuzsLCsry0igtaWVVCodPE+IreZKUvtWOLby7bA0bYbfMPx5a8sZ0ROEsClXJHfvzjB+e47FmRwbmTz59RJuLkJhU2lpYnGLkrvOWm6RtewGqxvr5Ip5sCSNTUl6+zpJJNRiXqBNVwSUNmFuEq58vsjVi/eZvr9MMVvA8j0iQuKVS6yvrrO0uMbM5ArlgkMkFifZYGFH0DGeAaG2SH1fmRtkZgVXP7nDwsQmbQ0DxKwkE3fy3BmdZGpigVy2TH6jgCx7eJUKhUKBeDxCe2cL7e0JrLgqE8vSEYZ0Oz3CwBO6FZXJnhpnqt8rzExPMzY2xt27dygUiwz0D9La1kYkGlHhzLQpl/SrnpdSSu7eucu7777L3bv3kNLnueefp79/QGnqLTXuVjOr3L59m3fffZepqWkymRU2N7NaqK6aOqyurjIzM83i4iLZXI7+fpU4x7aVc3ckEtH0pRbzC/MLXLp0iWvXryEsQTqVZnpmho8+/IjrN66zsrxMsVSiXK5QLpcpFousr68zODjInsE9NDQ0IHU9fV+VXyqWuHTxIu+++y4ff/wxyyvLlMslFU1Ga7fyhTzZzSzr62ssLS4Qj8fp7x+gp6cnsIF2HOW3JEy4yK1d8VDs2K8SQFApwNTEItP359nI5CnnbNaXK2xmPJYWNnAiksPHB4inwReeltS3ah6FLs/L2kyNrnP78jLZVQe3nGZqcp27d6ZZXFylVPHwPUGlAuWyxcZ6mcWFNTbXC0gkqVSCZNomEgvk9S2BI1WEkOCxWyBCyrAwquVUQ0e7nhecz+Xy3B4dY2JyksWFBVYyGRYXl1haWmJ9fZ3mpmYGBgfpaO/A0WnnRUiuCD9vbm6OGzdvcvPGTWZmppmdnWFjc5NiqYTvSwqFIr7vUcjnWVtbJ5fPUSyUyOVy5PN5uru7OXToEMlkEl8n1TP22tFojBs3b/CHP/yBD/74AVPTU6wsr7CZ3VSuiwJlOqbNMRYXFykUCzQ3N5NIJB6oq/TV3Hzr9i0+/uRjFhYWlPLNEkxNTfLO2+8wMTnJ2toa6+vruJ5HvpBnbX0d3/MYHBigv39AJfrTCxBjTXBnfJyf/exn3L59m9nZWTY2NigUCmre8jxc12VhcZHVtTVl4lPI09LcTDqVIh5PbFncW7bF+Ng4H330EfFEnFQyRaVS4ebNm9y5e4fMSkYplcqK362vrzO/sMDa6hpCCFpbWonFjTZbyyPo0J+acIVQ/nvRaJRcLsf169eZmpoim81x4MABzp47hxOJgNw6powAbD7btk2lUmFtbY2rV69y4cJn3Lx5i+XlZbJaaWVpOW51NcPS4hLz8/PkCwVSqRQNDWlt8aD6R1jKAiAaVdHinpTg/gAt6HEjpeSzzz7jypUrJJNJBgYGOHnyJC0tLXXHVhiB4P6wC9GCe6FQYHx8XAkTnsfw8DCHDh2ipaUluP9h5TwqthfcBW7FpVAocPHiRWZnZ+nq7NoiuJs63717lw8++IAPPviAxcVFWlpbOHnyBOeee46+vj61bRSYCSih+fat23z04YdcvHiRUrnM/v0jnD17lvPnz/PKyy9z+tQp+vv6yGazLCwssLi4iJQ+La2tpFMptYUjBOVyGcdxmJmdZWJigo3NTaLRKB3t7TS3tBCPxx+YJFzPY31tjavXrvP55xdZWV7mwIEDnD51mu6eqvNv2P/ZElrQ9Dxmpme4dOkSG+vrRCMRuru7OHToMN3d3cT1FtmT6CZfh+DyPB0hRyrWb+pn6e2uYrHI3Nwcs7OzZDKrtLaoMGCxWJxEPKG2jnToKCkltuOoXAEXL3Ht6jUKhQJnz57luefO0dLSgud5yubVU7aBmUyGpaUlent7OH78OF958Su8+OILPPfc85w8eYK9e5Wwn1nNsLa6xtLiEgMDAwwMDID2gjca7zCksVn3fVzXZ3JygrGxMQqFAv39/ewfGaGpuVktvrbcKYCqneDG5iYTk5Ncu3qNbDbLwEA/Bw8dpL1dbf+r59vYljIzEEJQLpd45+23mZ2ZIZVKsW//Pvbt2xcIF1J79W9ubvDOO+/w3nvvsbKyQmtrK+fOneOVV17hpZde4oUXz3Pg4AEaGtKsZjLMLyywvrZOJBKhs6uTaFRliRMhpzFpmKMlcEIRosIkU/v5QXIyDMsCBJYVZbBvD4cPHubYoYMcHtlPa0MXeFGy2Q3SDTbnXznI6Rf2cOj4EMdOj3Dg8B4OHRni6PEeWvqqOXewtXRQgum7FW5dyXD72jK5XInh4R5Ond7LiVODHD4+wN6RTtq6mrHsCPmcZGZ6jVy2QHNzk8rCGqsKIa4n1ZgqwfI0TN5eI7tsERMtFPIRJiYnKJQ2aGlr5MixEYb39dA32EZXfzMNLTF69rTRN9RJQ5tARHQ9jR+sppDdaNwNhL5LOYG5uBXlp2DbDsVikeXlZSbu32djfYPW1lb27d2HY/I4oDytgu16X7K2usa1a9f47LPPcF2X/v4BTp86RWdXV8BLfKm0k8tLy0xNTdPW1sbRo8d46aWv8PLLL3PmzBnOnz/P8PBwYIM+P79AJrNCc3MLvb19pFIpSqUyUZ1R2/M8bMtmfn6O27dvMz09Q6XiUiyVmJ+fYzWzSlNTM8899zznnz/PgQMHGBoaorunh3SqgePHjwfmmAHvExa+L5mdneXNN97k+vXreK7L8NAwzz33POfOndU84DkOHTrE0PAQbW1tWEIwNDTE8PAwbW1tOkqURSQSfYqCu/IAtYQgkWimp6uLocF+Bnr2ELcbKRds1lcLNDRHOXWul1gKfNvXi+gaUxlU13pZwfw9n9nxMhsZi1xWsLa2TiJls2dfD8dP7ePEmWH2jfQwMNSJE4lTzHlkFnMUc0XaWlto74zipKp0hvDVoe2cd3qn7X4zfNB1lR+ZEQx9KXEch9a2VkZGRjh48CAnTpykobGBe/fu4Xke3T3dHBgZobu7a4tCKwzz3bIsRfP79nHkyFHOnlPxvyfuT9DY1MjevXt55ZWv8trrr3Pi+HHOnDnLCy++yOnTZzh16hTHjx+nu7s74P1SjxPXdZmfn+O3v/1XLnx2gbXMKs3Nzbz44gu89JWXeOWVlzl58hT9/X20NDezvrbOnTt32NzcJJlI0N7WTlNTc0A/AvC14D4+Ps7Y2CiZzCqlUonsZo6VFWXeOTw8xLmz5zh16hSnT51mz+Aempua6ezs5ODBQwwNqdj2nvapQ7dnJpNhbHwc27I4cPAgz517jvPnn+ell17i3LlzHD16lIjjkMvlWVxcYGNjA2FZ9HT30NPTEyhu0P5Vo6NjfPjhh9iWRblUJpfLEo8nOHBghK985Su8+upXOXXqFH19/SBgdnaO5eUVSsUiHZ2ddHZ0kk6lKWsfGsdWGeODcaUVbkZwN7sZm5tZRkZGOHfunN75qy+4m76SUrK+vs74+Bi///3vGB0dA2BoaIhTp07x4osvcvbsWQ4fPqxMTCUsLi0yOzOLW6nQ1dlFS0uzDnagaD2qd5aVL1jw6CcKP+TPeOHCBS5fvkwqlaKvr4+TJ0/S2tqK67qah9eH/dOf/vSnpkHYYTCiH1gsFrlz5w6jo6NbBPfm5ubgup3KeBw8THDP5wtqy3hujubmVvr7BxgcHKShoQHP85idneXTTz/l008/ZWZmhtbWZl756iucPnOGvr4+hF6UGFspz3UpFot89PFHfPzxxxRLJYaHhnjlq4pgR0ZG6O3tpbu7m67ubtKpFJbeBl5bX6etrY32tja1kpfK8TQWj1MoFFhcXGRxcVFtW/X10dbWplbooWQTnu9TKORZWV7h448/ZmpqmpaWFk6dPsWBAwdoaW7R5iiGjRu2qy1phUU8niCXz5HP5WhuauLw4SMcOXKElpYWJagZR4wviKrgbjTuBMkslH23csq0LJt8Ps9qZpXllRWSiRSHDh8mmUwTiUZwXVdFAhEqtJ5AMD5+h0sXL3J/4j4A3/jGNxjZPxJEjLG017uxS+vv7+f06dMcO36MkQMj7B0eZmBggK6ubtraWkmn06ytrZFZzbC5uUlTcxN9vX3aXl4Jy5ZxVkOthHxpHEgVo5iYmODOnTvk83mlcd+/n+aWZpxtBHdz38bGBpOTE9y8eRMpJftH9nPwwAjNLS3KNEtKbEe1m3I0VI5aH334RxYXF2lqamJkZD/79g0Ti6ktSOUQ5XPnzp1A097V1cXZs+d44fx59u3fx+DgAJ2dHXR3d9PR3g5AJrPK/Pw8kUiE3p5empuaQUcRMNokIQRSKmFLCe4RnYF46xuGP2+lpjBtCoSlnAtbWlN0tNu0twpa0uAXBbk1yerqCs2tcV54tYX+E9DeJ+gYhq4+m/Z2m3iHFoKNwG4poX1tHm5dXWP0xgr5nEVPXxPHznRx4EiK3j02rYPQPGjR3hUjkkxh2Ukyy0UW51dJRFO0tiVJNKpISMIRVHwPCwtZhuVZmL+fZ3MZinkf16vg2zn2Hm7nxJm9DAwl6dkTp2MwSddQA639DXQNNdHSbWGnlBVPEH1MgNTGw48juHuej6c1mFJKIjrMWaVUZnFhkeWlZeLxBHsGBmlqbMSxld8CeoKLOA6+7zM7O8vnFy8yfmec5qZmzp49w6lTp9UYCCZv5TQWjUbo6u7i+PHjHD9+jIMHD7FnaIjenl56enro6e0hnUpT1EnwCvki8Vickf0jtLaoyUeNZIGQamKcn5vnypWrLC4vUypXtLCT5PDhIzx//jzHjx1ncHCQ/v5+fQzQPzDI0NAw7W3tCIzjmKLXfKHA3Tv3ePudd1hbXWN4eC+vvvoaL730FQ4ePMjw8DCDg4P09qo6D+3Zw0D/AAMDg3R2dpFMJhUfFKiwwk9LcNc/WQKSKYeOriSdHUkaUw6lvGBlKcvK8hoNrRGOn+sl3gg4Zhs/LLjrhaUELwvzdwXz98psrHrYdoSW9igHjrVz4GgH+w5FaRmAtlZo74FEOg5egvXFEm5Rkk6laW5PkGpR40mtLXRwU60Uqs4xu0OYB7quq0ylfGUq5vnK76GpqZn29na6uroYGBjEsW2uXbtOqVSit7eXvcN7aWtrD+yk67WrEIJEIkFTUxMdnR309fdx8MBBMisZPr/4OYl4goGBfr7yla/wyssvMzg4SE9PL319fXR39zA4OEhHRwdS56aJRCKUy2VisRj5fJ4rl6/w8ccfsTA/T1dXF197/XVefPErHDxwgMGBATra29UY6O6mUimzML/Axtoa0UiUffv20dDQQMSJqJbTiiHHthkfH2NsdJzFhUUK+QK+75OIJzhz6jSvvPxVzj9/nn1799Hb28vg4CB7h/dy4MABBgcHiThRpRlG7YQIveCwbYe2VrUYOn3qFCdOHOfQwYPs3bs3sL8fHBigXCpx/9493EqFWCxGX28f/QP9gZOqQPn2jY2NKY17VJmZtDQ3c/LkSV5+6WXOnT3LwMAA3Z2d9Pf10dzczNLyEitLK1TKFdKpJD3dPbS1tiEAt1JGSk8L73pc1Qju169XBfcDB0Y4e/Yc0Wh9wV2GFllmXr18+QoffPABlmVx4sQJnn/+Oc6dO8fhw4c1jQ3Q3d1NKqVs6hcXF/E8j5aWFrq6uojFY4rehQj87uyaue5JwvfVjqGUkgsXLnDp0qVAfgkL7s4OJs0WehDUGxy+r0L9uK4b2MrmcjklpOkoAsaGKGAsdcp5VDysBNVp2ossxCqUk4UKSyQEZLNZZmdnuXHjOp9++imZzAr9/X2Bxnz//v0ktdBsHEON1nhyclLZtGcyWhg6y7GjR+nt6aG9vZ1YLEYylaK9rY2z587xyssv09TUxNraGmOjo8zOzlE2iT90+w4ODLB37158z2M1k+Hu3btsbmyoyTgcxkl7fc8vLGibzyJ9fX0MDw3T0NCAq6MiVN8/zC4Ftu3Q29vLt//yL/nBD37A3/zwh/zlX/4le/bsCbYFnxwMY39wgPmB+YVNKp2mp7uH7p4ehLCYX1hgZmYWz/Molys6QZSOsKOdmO7dv8/MzCwA7e3tDA4MkE6n1ba73scSQhCPxxka2sOLL77IiRPH6e/rpyHdQCQaxXZs0ukU7R0dHDt2jOG9w6SSyq57dmaG1dWM0jJbyikv3JJqDaK10LbSdKAXeX4QZqoaBrIepNTROnSSiqozjDJ/MKgKc3rSFAJLgJS+jsSjIjKY36T0sW2b9fU1rly5wr1797AdmxMnTvDVr77C0PCQtuFXi5rmlmYOHznCSy+9TH9/P8VikYmJCcbGRllZWQmYt8GD42vr79Xa7oQqXVgC0g0RUg0+0VQFJ61iWEdi4FNAUsaKeEgb5YCaAqI6NKRKgKw7JFQ3F9YWYGY8y8ZSiZaGNGfO7OHAkQTtAxDpARo8aIRoPwwcjjB8uImuvk6El2Dy1jrz930og5QmiKNafJo+9b0Itp8kv6n44IEjw5x7eYCeIzbpPRDrg+QANOyB3mMx2oZtIk1ABETEaNrVZGU9otBeD7be9ZBSkkwkg2hetmWxvLTEvXt31Xa/XkxjaEtK8rkcExMTTExMYAlBS0sLIyMHSKVTSC20G/qKRqIMDQ3z2muvcfbsWQYH95BOp7Eti3g8rh3mWjn3nLK9NVE1ZmZmyeVyKnGLpxKfmGhaajdNmQ1WyhXyuTxuxaW3t1cpRU6eYt++/bS3d9DZqYS6kQMHOHf2HB0dHUFQAgOlFIFCQS0cbNuhra1NK0TaicXiQRjUVFpptIaH9/L8+fMcO3aM1tbWIMqEtUPsTtMmDzt2BRuEo+miEZLNEEv4uF5B9YHUfkt2dS59oOwww/Gj2DJBzE7TmG5kcLiLQyda6BmxEC16HLWA3QDde2Fwb4q2ljbsSoK12RLZFfBL4HkECyI1yLY+cjcI32LoqRa+VImXfClxIhFsR2X7Rssbhg+ZKCY7QVhCLTAjyjfDiTiB2VOpVMLzlHxijkhEhXFUJipVXzJbRysy2uzFxUVu377N0sIiyUSCM6dP8+KLLzK0Zw9NTU3EYjFaWloY6O/n8OHDHDt6lMGBAYrFIlNTU9y+dYv11VWlBAoJxUIr1YyGW0pJLBLjxPETfPOb3+Lw4cN0dHTQ3NRMa0srvT29HBg5wL7hfTSkGsxbqz9SKJ8wX9LS3Mz558/zysuvcOjgIVqaW4hGoiAl8ViMdCrNgZEDnDp1ivb2dsrlMhvr62RWM+RzeR06WlRzGfg+Qqq6JuJx9gzu4cTx4/T39gUhKoUQdHS0c+rUSV44/wItzc3a1+wuU1OTFAp5QO3YUitvVC33Hhlq7lNtVy6XuX//PhcuXCCbzdLd3c3Zs2c5dOgwAwMDOI5DIpEgkUjQ09PDC195kX0jI6QbGsisrnLz9i3mF+aVL5ze8X78mu0exnzW1/b/Sl4VgaO1gasXvWGYdw+4VS3zkVroMup685CNjQ1WVlYoFotEdZxs8+DaMh4HhsC3K6Uafzp0hVBTru/7yns6ncTzPWZnp/nkk4949913mJ6ZoqOjnVdeeZlXXnmZ7p4eInorztTf830q5TKu53Hz5k3Gx8exLIu21laGhodpbm7G0Svz8HvGYjEi0SjNLS0ATE9Ps7S8hOu6WLat7LWA1rY2BgcHSaZSrK2vMzc7y+bmJm6lQsVoJ3SIN89zlUPY6ipS+rS1tdLV3UUyVfUq94Owg9WsrLatYhfHYjH27x/hO3/1V3z7298OdkUikUhAOE8DUioNu2HcllCmFrFYjObmFtKpFI5ts7Gxwfj4eOCoEYk42Mbr2vNZ0/Z4S0tLOLbDyZMnAvt8x6lm5jWELYSKAKAYtofj2LgVl0q5jOf5RJwIzS3NdHcpUyHf9ygUi3h65W87NggRxDSunXaUwFUVuren0AdhCaG0L4FwoPoY7SyofguXpxYm6vpquCozyQht0lIqlZidnePKlSusr6/R1dnBnj0DdHS0EY06xGKqryOR6sK6uaWZri5FR6trq8zOzlEoFB6IPPLkIDERZixLOWpiS4ioqC7CklS8Mp50qXgulqMFdgcVN0/4Sr1gDkBo7Y0sQma+wup8gbgVpacjRUcHNLXqBE4OEJF4pSLYkGiFpnbo6mtWi+yVIsvzObyySlhTra+CMg23iNhR0ukEXb2t7DuYItaguz+KCpQdQb2TyXwjfKW5FOrdpeZPO/G17WBqE4ynEK+NRByamppobGwkEo2ytrrG9PR0sKD0dEgxRS826+vrzMzMMDc/Fyzu+/p6g8lAaB8Hg0gkgud6KoOiDvVm20o4imihK5VMkkql9fjzyOeVYkc56FXbUuqdRzOnCE1nAwMDHDhwkI6ODmKxGKC1iDoGu21ZgaNtpaJ8Vgwte65HPB7X0XAcXLfCxsYGU1NTZDKruK4fjJ9SSYWfRM9l6LZU7frgvCW1lvRJQqIFchuErQOtO2BHIkQiUSJOFEvoLRqJ4gPB+NE8oIY3Sc/HQgmkiWSMts44TV1Ak170xtQikphHNAkNTdCQTiJ8cAsu0pV4vo7/7Xk64Zja2jL8ZyeY+pg6GRo3NCqETqwnlP8W6Hwljo2lFX6e5+LqcM5hWtwthKX62HOVwsv3FP+UUkVfKpdVuGflb/agnGKF4mwb+pmZnmZzc5Oe3l6OHz8eBLooFouBLFQsFADo6emlo6ND21KvMjo2RlYn0jGLZwP1viphUTqdZv/+/Rw6dIj2tjaEEGpRG2oLz/eCQ9W52vtCKEHTvItSQKkAIbZt4Xl+EDFGCEF3TzcDAwNEIhEKxaIKy1kqEY6oJrVcYRZFiUSCgcEBerq7VWhqHXbWsW3KZeUov2/fPjq7OigW86ytZVhby1As5nHdslqYOc4jzSlm7qsdf4b3mffZ2NhgbGyMxcVFGhoa6O3tpbNTRZwrlUoUtSOx7ys/Nyl9RkZGaG1rZW19jcmpKVbX1gK+YvyCnjbC9JdOp4NIQaWS8r9wXXfLwtX46hAaH1a9QWJ+9DyPXC7HysoKy8vL3Lt3jxs3bnD37l2klPT19dHe3h6o9GvLedKo7Uh9NvgU1Q6bnu8xOTHBJ598zCeffMLM7Awj+/fx+uuv8cIL59mzZwhbM21j/4lZnPg+2WyWe3fvsry8rBYmto3neqyurbG8vMyCjuE+PzfH4uIia6urlEolkskkEcchXyiwsbGhVnK+Cs2mbKYEPd3dHD50CN/3WVxcZHp6mo2NDSqVSuCYWC6XyWRWWVhYAKCrq5uenl61OxA256g5DGzbxrLAsQWJRJxIKK6+XxMTtn6bPirCzKTKXEzZvo5r29jYQHdPDy2trRSLRSYnJllaWsLTuxIGubyKv7y+vk4+n6Ozs5MzZ86SSivVq6E3qRmzeg8VnsrzfXL5HGvr66yvr6kwc5kVVjIrQWhEFd9Xxb42jMhI5BKtDdPVMdoF2Org52+TmXc7mPdTC6zwVGd+rwr1QpncBeZMZlFm7q3oaBn5fJ6lpSUWFhbwfV+bZvmsZFaYmZlhenqaqakppqfV54n7E6yvrZNIJmhoaMDSzC+Xz1U1Q1Y1hJmqs+mX3b9rfah3DrTloiqMW7YAYWHbEeJxLWjY5h4vFP9Owa14UIJSAVaXNvGKkoQDHa0OvT1aoJYu+GXQibG8knKOSjZCV69NQ1OCYslneXGTjVWQFfNIF4xNuu526VdobIzQ258m3QLSUQc2uCbIu/DUokSoRUqQU1VILcB/sfarpTUpJY4ToaGhgf7+frq7u9jYVIvhxcVFFXUriPkvcD2XlZUMKysrlMtlmluaOXLkSDCmpJ6sw5+35CjwlJlkPp9jY2ODzGqG1cyqCj+a3QzoMq+3/9F+OmFIXbaZeKOOw57BPQwMDJBMJLTgrhzkDL9E3xPQp+Z/hn9HIhE6OtoZGhpCCMH09DSXLl3i888/5969e4EznoGw1CK6ugDSwuSWTJHB5U8WZigZ2vdVdlPX80FaWNJCEA65Gq6IWvhBqBwUTxDSQ1AhlXZIN6soRKhIrxq+2gFqhFQanIhAIKmUTMz08LWG8MNjf2fsprmE7rvwrqaUW3OnqHPVfjZ/RSirdvgIIyzY+L4S3g3dqB3tqpxTO5Y8vXvqui4bGxvMz8+TzeWouC6NjY04jh34sC0vLwdx3BcWF1lZWQFdT1NGLpcln8/reWnrsxQ/V1G7UqkUff19dHV14WhfkPD7m/qa7ztBSonrqkhk5UqZQrHIZnaTtbVVlpaWmJ6eJpfNqkWu3pUwO/z1oMpztRN3P80tLWrBHdrp9n2faCxGc3MzvX29NDY2BvLi6uoqvt7FEMYxfwfFbpgGDOpdGz63ubnJwsICnufR2NhIKpXC8zwymQxTU1Osrq4GiuaVlRVWM6vKBCUSoeJ5QeQ5z/UemeafBCzLor+/n6NHj2LbNjMzM3zwwQf88Y9/ZH5+PghrWSwWA8uX4N4tJWkIIahUKszMKAfHy5cv89577/Hzn/+cN954g9nZWRUq6MABhoeHSaWU6cHTQr0OrAfLsqm4FbKbm4yPj3P5yhUWFxdpbWnl+fPnOam3iiwdX7we4RrHzc1sFk+bCK2trXH12lU++OAD3nv3Xf74wQe8/957fPjhh7z/wQe89/77XLt2jezmZkCAruviVip6AhXYjoNj2zS3tLBv3z6i0SiLS0vMzM6Sy+dxdAx8NBHPz89z69YthLDo6+ult7eXZDKFFYrPLH2pNUMoU5NQXHNQ+Wkqofi026G2DR4HUseOFto0xgxSXy8APW1W1dOt4pd7rsvS8hITExMU8nmEpRJNWUJQKZdZmJ9nZmYGIQSdnZ309PZoO9yqMIHWWEvN/Dezm0qYmFMhvG7dus21q9e4dOkyly5e5NNPP2N09DbZbFVQNYz+gTb44k0SIMgyp9O4W7attE56kWkWUwpSH8YcSCWtUEoh9ZuwqtkA13VSqUqlQjaX5eaNG7z7zjt8+uknfP7553z22Wf88Y+KGbz3/nt88MEHTE5MUiwU8aVU23ObmzrOsZ7YtknM8WhQ71DbkELYSLOtoTV9ZgHl+1Ltqlb0bQLqeQgJYYGltveLhTJepYJFmUTMQzha0y70qkBYONGY0tx6kGqEVBPYUUml4pLJbJLb0EI7YOnI2Qa+7yNwiUZdkmmfaByE2REQYEei2lvWMP16WsovPiHUjmGpBXIzsXZ1dQOwuLDI6Oio0tpElY0wWpszNTXJ3NwcnuvR3t7Onj17ggyQRuuoxoMykTRaq42NDWZmZxgdG+XK1atcvHiJC59d4MKFC1y8eJGZGeVoqu6vasSNgB6GCGlgIzrcXSKZ0AnxKkrbp/mGif8N2mRNRzwKLyylDgZw/vx59uzZQ7FY5Pbt2/zhD3/gd7/7HZ9//jl37txhZXmZQiGvtLKeS6WsooeocsLT4JOg/fowTaE5jz6ph4L2o9mSxE/r2/VlaiFYO57wsIRLJOrT0hKjqQlso2UPdv6F2j6qqDkBPISlQvD60kdYqt+e1E5sbQlV5Yfuf31e6ESC22ljtztfCzXvVZ1phVCmjZalk4mZxGKhOmy5X+9kmjl4c3OTbDaL0IqNmzdv8emnn+rIJRd47733+MMf/sBHH33EH//4R65cuRKEKxZCbImLvhOi0SjpdJpYLKZ2OzRdmzm83lEP6jefcrnCyvIy9+/dV/PfzZtcvXaNS5cu8dlnn/L555+zsLCgbOu1wsq2VSbT2jYxMLv3UjvXop+HFjyltlhoSDcQjUapVMp42pTaC5mBhPnLw2DqUu/acDt4nseKzmOhMuZO8cknn/Dhhx/y8cdKafvHP/6R9957j08+UfPh6Ogom5ub2JaF56t50+RzqScPPk1YlsWBAwc4ceIE7e3t5HI5Pv74Y373u9/x29/+lgsXLnD79m3W1taCehkaryu4A8pB48oVfv3rX/Ozn/2MX//617z//vvMz88Tj8d54YUXePHFFxkeHg40JX8KPNiwppMVIRbyBW7dus3Hn3zM+Pg42VxW2Th196gYq8aeziSbCZiiJhgpWV1dpVgo4LoupWKRe3fv8u477/DPv/41v/7nf+Y3v/kNb7zxBm+88Qa/+Zff8C///M+89+673Llzh/W1NTxXZYcLC2SWTuvb0tysHaM6yWVzzM7MqI7x1VaN73lsbmwwNTnJwvw8kYjDwMAgPb09OsFJdbtKvTiBIa15VrWTwQ6840KXbzmjzz/Qro8HM0itUFpzY6sVjUZp0Zl2E8kkGxsb3Lhxg+XlZSzLUgKD67K2vs7E5CSrmQxNTc0cPnyY1pbWIDyYWSSYeLklndHu1s2bvPHGb/jVr37Fz3/xc371q1/x1ltv8dZbb/HOO+/y9ttvc+/efSqu0libdzYLoQBPpilAt4fUW55GA2kmsiqD2o5hKMFXCdWEek8JNSrE5Qa+r5JcLS0tceXKVf71X3/H7//wh+Ddf/PGG7z55pu8/fbbvPf+e1y9epWNjQ2swOZe2fjD9kL7VuHmcVAdaRJl6oJU2kHVF3rxKXWYR0CvVup0iGq3kqu0usVCkXgsSkNDuurAWhUP1ECIKJHHk+p3KyqJJZNI36aiLGnUYinYEdElSB8pK0SiLqm0RMRM+bp0oa5UzWaE9trji8PQS5hupU4+Yhw529raKFfKXLt2jZWVlUB4KJVKzM3OMjU1xfLyMg0NDewdVo5rapwqR1Zl16rGr1txWV9d48rly7z15pv84ue/4Jf/9E/8869/zW9+8y/89q23+N2//iuffPwJ169do1QqEYkoczCjaTMTexiWThmP3jlLp1OkkqnAByTQlIYOM07CbeD5PrZj4/k+jQ2NnD59mq9+9ascP36cVCrF/fsTfPrpp/zzP/8zP//F/8Wbb77Fhx9+FET/UIvhevT1ZPprJ0jQ8dnN96pvj9RzEtRWpdrnWyBU7FLbriBFmYihT+lX181SIKVKUKZIQiLx8fyqiSU6TN9uheWdUDta9VCHmldS/flF+YqC2TExAntEh/YMaFs7HhoaCh+ONpk1f0slFUpUSsn4+Djvvvsuf/jDH3jzzTf59a9/zRuan77xxhv8y7/8C2+++abyG7EsHWpSmcmoeqk3ru03U5+E3mkywq45wvS/HaTeGfM8l9ujo/zhD7/n//qnf+Lnv/g5//iP/8g//uPP+cXPf8Gbb77Jhx9+yKVLl1laWlLjM5RhPryzZuD7aiFnbPqrwTCqCLdfLBbDtm1c1wtCMaLHexi176Oev/07bgehlcsbGxvKOX5tjbGxMX73u9+pEJ4ffMCbb77JL3/5S371q1/xy1/+kn/6p3/iwoULOpN8mUq5Epg+QVWGrFUOPk10d3fzta99jW9961vs3buXSqXCJ598wi9/+Uv+j//j/+Af/uEfGBsbI5fLbbFssWo7w8DVsblLJn383Bz5fJ5CoRBE8Ugmk8pZoU4YvacJRdAPNm7FrbC+vs7CwgL5nEqQ5FYqLK8sc/fuXVYzq/i+2hazhMCSQEjLYUkoFYp4lQqOZSOkcgZzbJt0MkVzUxON6QZ1NKijtbmZ9tY2Ojs6GN4zxJFDhxno76e7q5tYJErEtkEnU7K0vXdHext7+geIRSMsLSwyPzvL5sYGSB/f9VhcWGB6aopysURLcwvdPd00NDTUTewQhhlI2/WHBCVp6K2rJw1NUMERhvR9LNsmnUoFDnW+5zE9Pc3CwoK2QVMOJ/Nz88zPz1OuVOjs7KS/v59IRDFVTy9ajLZG6mQxVy5f4Z133uGzCxe4d/+ecnxzVbSAhoYGGhrS9Pb20tTUtMVOlkfQ7DwuwszKMKowUw5v01ehpzuhNOxSeni+0pD5OsJIuVzE911AYttKIEqlkjS3NBNxVOSdeDxOQ7qBpqYmmpuaaG1ppa+vl4MHDzA4uIehoWGampoCwal2CxqUX4lZXJhJODwZK0i90DBHfQrzdRnGTEZovwIDRaP6kNUyJX5Qqi8lbgVKZSWI+xKEFceXtrpAoASXmlrajrrWk8pu3ok42JaDY56vtY+WiSoiVbuDjxDaRj+oa/j9dkhN/4RRS0tCCFLpFIODg0E0grW1NebnldOVbatoTrParK9YLNLT1cXeoSEitk3EtnEsFa4NqRpT+j4Lc3PcvHGDDz74gA8/+CPjo6OsZlYREuLRGA0NDbQ0N9Pe2kpjukFpsDwPK2xuUyMgoceaLZTW1bIspM7WaMZgmP7C94XHh/kcjB9LOdqeP3+eb3zj63z961/n9OlTNDc3s7q6xq2bt3j/gz/y29/+jvfffz8Q3t2Kq+2r3eD1a/HguHw8GEqUVB2Wg9+E1Gs+HYZ1689boNqk+l35ynhEYxZSlNXC1CLstKEdpW2EozeiQgtKIYRKOPWEBOhgjGpzM/8hfq5q9+XJPDsMQxuWZW0pvx5/MwtMV++wS62BR2ucjYxj2yqDdEOD4qeNjY00NDSQSqXo7e3l4MGDHDhwgK4uFa6ZEA2HaTk8hsNabHNNeP5W9d96v7k+EomwtLTE1WvX+OTjj/nwww+5cOECszqnTDQapbGxkc6uTjo6OmhpbSEaVb4pBjvRd7gexuY6qEvoNzOXmbLMIsQg3Ba7xU7XCj3vm0WO0ezH43EaGxuJx+OkUimVLbzFZAtvp729ja6uLg4ePMiRI0fYt28vSZ1HxtDA48C8/6Mcpt6JRILm5mbl+K9pYX19PfDvU3lXVoLdQYO6I6aiwyPt27ePc+fO8frrr/Pqq68GiZZyuRxjY2PcunUrWME97ks/Ch72DN9TqYNLpRL9/f2cOnmKnp5e1tfX+fjjj/n4k49Z0QkEvFBkFtOYjqMc+aIRFRYSIB6LcejgIV5//XV+9MMf8ZMf/5if/OQn/PBvfsiPfvgj/u7v/gM/+clP+A8/+Qn/8T/+HX//9/+Rv/nBDzhx/DjpdJqIo5OhoDiaYzs0NzUxMjJCZ0cHy8vLjN4eZXlpCbfiYlkW01PT3BkfR0qpzGR6ekmn0rgVxVjCdn4PHKIaIUFNRqpvvMdc2T4KTP/4IeFUCEFEh/VCZ7MbGBhgaM8eXM9jfHxcxRVfX8fSyRJm52aZnp4G0OEcu7AsFfrQMF4plePN8vIyn332KT/72c/44I9/RPqSPYODfP0bX+d73/se3//+9/mbH/4Nf/VX3+Xb3/42p06dUhn5tGmIOqpJh54GDBNydHIs31PRE3xtGiS0UrgKIyhvFYB9Xwnslm0RjUa006n6zXEc+vv7+eqrr/I3P/gbfvSjH/ETTZM/+Q8/4cc//jE/+tu/5Yc/+iE/+tu/5Ud/+7d8//vf5ysvfYW+vl7lIGvsF0NtYRbIu6edh12nbamFkR+MsBK6TyoJwLSB1P/UVRIptOmQAGFJIrEIxYpLrlgto+IZexu9kPAVt3Mi4HtKq1YqlbQdujKlR2sdhS2QgYyu+gJD36bIQDBSGZuezlJ4KwyfYsvk5RFxIgwODtLd3Y1bcVlcXFS7jdkskUiEUqnEzMwMCwsLuJUKg4ODQUx0RzsIGrp0KxXmdPjcN954gw8/+IBiscixo0d57auv8p3vfIfvfPs7fPc73+Gv/uqv+MY3vsGpU6e0GVt9O+Jwvc1zan8z0WKqY/LRxmM0GqW9vZ2TJ0/xyiuv8N3vfpe//Mu/5LnnnlPJpTyfqakp3nnnXX7zm99w8dIl5hfmq/XVZocoktR/H60OD4Oi4OpnMCEYVWhjIUSw8Hk0+AjLx7IV/epVkfpJhB6sHrMFtmNjRxVvEo80zreH6V1TkpkPniaM4KUcVJWZl7EJNnOFyRBqBDVzhMuwNY82WuODBw/yne98h+9+97v85Cc/4b/77/4f/Kf/9J/4+7//e/7u7/4Df/d3/4Ef//jH/O3f/q3mt/+Rv/iLv2BgYCDYeSJES4bepVZCSZ0zIVwvRQf1BXYD3/fJ5/Ncv36dN998k3feeYfJqSkGBgY4/8IL/OVf/iXf+973+NGPfsgPvv99vvmtb/HC+Rfo7OwKgkCYss07156zhAqA4GlnWjO+bR2K1nGc4N5KRfma1b5LuL5hnrAd6r3rdgjXuaenh+eff54f/OAHfP/73+e73/0uP/zhj/jxj3/MD3/4I37wg7/h+9//Ad/97nf5m7/5AT/60Y/43ve+z8mTp1Ty0JBcIXT0q6cJy7KIRCJks1kuXLjA559/zuzsLPF4nMOHD/Pyyy/z7W9/m7/4i7/Q+W5UUqvg/nBhUq86AVKpFAMDA5w7d47vfOc7fO973+Ov//qv+cpXvoIQguvXr3PhwgXGx8fJ5XKP1OBfBNs9RW3ResRiMfbt28sLL7zAN7/5TU6fVjGKp6am+OzTz7h582YgtIXtelUZKvqCZVdXX/F4PMho9fzzz3H27FnOnDnD6dOngrT1p06d4sSJk5w4cZKTJ1Uc1Z6eaqKj8O6A2h5L0tvby8DAAFJKpqenmZubp1DIU6mUmZubZWlpiebmZnp6emlpbcGJOIEtVnhAh4+wplsIsC2wtP1a7VEPuxlYO6GWQRubsUgoXKgTidDb00Nffz+xWIxCPs/Y2Bgry8v4vooms7K8zMbGBs3NzQzuGSSd3upD4boelYqKIDM5OakdUTI0Njby3HPnePXVV3n+uedVXOgTx9m3T8XF7elR8dzNIDB1Mm33NGCeYVsqulCYmZnf1TorNLsGISFDjE8anwZfaYQ1rSomo7Y+m5ubGdm/nxMnT3Du3Dmee+4cZ8+e48yZM5pmT3Pq5ClOnjjJyRMnOX36NHuH99LUpJNQ7IDdt89ur1OXBlF86twmkPp386Pa4pfCw7IhGkE7hkqErTTp0lJc7cE21ecB6du4JRevXMKyfJyIqbZE2EJlzBNaAPGV/Y4i62o9BCpJTVVVW+cFniDCY9aMYcWvlXarsbGRgYEBGhsbWV9f5/bt22QyGVxXmVTNzs6SzWZJp9IMDg7S1NSEMBFeQmWXyxWWlpYYHx9ncnKSdEMD558/z+tf+xovv/Iyx44d4+Chg+zfv599+/axZ88elQE65FwXHlvGdtcs5AnxGWloehvzrEeBGg8qzXpHRwcHDhzg/PnzfP/73+fHP/4x58+fp6uri1KpxKVLl3jvvfe4d/eeWryF/YZ0VXZN7o8JQ05qaR7i3VuaorZdQrSs62f4RFWIMZfqxXEAs/isnjF0hPIN/0II1Ux9r5lLhOnvLzjH1ENV6FJl+6GgBUHfPuTZUgudRuD0dNbfnp4ezp8/z5kzZzh50szvJzh16hSnTp3m5MlTnD59OuCxJ06c4ODBg6S107cZB1toPnSYKHmmruF7wuOyHtbX1xm9Paqjs7k0NzXx4osvqnjrz53jxMkTHD5yhJGRA8EcmEqnVMANbcZaDyZpoq1DvAamJNrB1ygGzXgHcF0V+US9l7o+vCCgDk1sh+3qFYZ5jinTyGlGJjt27BhHjx7l6NGjHDt2jOPHj3PixAlOnz7N8ePq79GjR2lpaQlMUIAtc27A2p8wwrRw5YqyFLh8+TKu63L48GH+6q/+iu9///t861vf4vXXX+fo0aNBMlFDE0EtDeGYlUAkEiGdTjM8PMzw8DBHjhzh1Vdf5fXXX+fYsWO4rsv09DT3799X2451Yk4+adQyh1rYtkNXVxf79u3jxMkTHDlyhOeeO8fJEydxHJu7d+/yzrvvcPnyFUqlEr5+59pB05BuoLW1JXAA9LVjZTKpiF6ZICRIppIkkyn1N5UkkUyo0IK2s0VgNgKtYTCxWIz29jaGhodpaW1hbn6O8fFxNjY2uHfvPhOTk7iux8DAAMPDw7Q0NwfEHBawlLa2Vug0jEK1lRAPDpgw43iSqDdI1XtbKguejrDT2NhIX18fHR0dRKNRxkZHmZmZoZDPMzc7y9z8PJ7r0t/fz8DAALGYSpBgUHErgQC8tKQi82xuZunq7OTcuecYGRmhvb2NaESFKzUxfit6x8L3fJXQJhSR5uEaodpJNYSH3GuYYDQaxbEdHRM+9GxPRU4RQgZCuee5zMzMsLGxWU39rXdU0DbuzS3N7N27V8VDtmxyuSyFYlHFNY5GAxOciBNRpjMRZToTj8cDOlZ2ydV4w9vh4e2ze9SWZBJuBT0sNGcShM/qOz1l8gLEktDQlADLo1Quky8UyeWV9lziguWpgwo4Enwo56GY9SjnXPyKRyzmkGrUzqa+F0g+UmvcLSGxTQIhwy6FqYseYELb7D8FhIs1/IQHxpqKKDQ8PMzQ8BAA8/Pz3Lt3j5XlFRYWFpicnERKyZ6hPfT29hKNKhoJT8JOxMHVdJfJZCiVSnR3dfPc888xPKxySCSTSRKJBNFYLNiSjuqoVVKqfREj/FiWhTAaxLCCIaxNrBMhBN3E9Y56MLQbbp9YLEar9qc5duwYf/EXf8G3vvWtIFPk9PQ09yfus7a2phPhKMfxPwXUU5QSxpcghbE3V7+YiEa+9PBx1WJVj5NwKwiBCrW3RWOqLzETAFvp1XE0f9HJsaTnK6dVT2o/jS+G8M7ZFhrVf4Uwduj1HSINX/f93fDkKgxdWdqHQhhfCM/VkXPCPg1bYe71PJUgqr29nba2NhzHCXbw4/F4sMg1O1UxHR/e8NR4PE5Eh1um5v3Nu4bHgKW11rXXhq+vhdSyiud5QXS7zMoK0WiUkZEDnDxxkv7+fqKRKBFHOZZGo5EgIp1aqGq/FkvFrzdmGMKqCuXm+aVSifX1dRV5LNh9re5ASt8nn88xv7BAoVAgmUyqsM964VKLB99r930chu+rKHJdXSqJWjabDZw4Y7EYiUSCxsZGWltbaWlpCUyaUqkUDQ0NNDY2km5II8TWnQ7zjiI03T8KHT4KpJTcunWLa9eukc/nGRgY4Ctf+Qpf1Yk+9+7dG/DqSET5bBgovZSO/BHe2kEPopgJ0WWp8EVtbW10dqo06evr60FCplrCe1II+jkIRFG1sw1DSj+wZ44ZL2jHZmBggNdff50TJ07i+z63b93m3ffe5fbtUXzPx9aCsNACtgrTlKS7u4fWtjYVb31e2YeurqrJzPNcFZ5HR0JwKyqCjImbbGkP9sAkIATjVNXcrFIZd3R0UMgXmJmdIZvNcfPmTVaWl2lra6VFx9yOxxPqPssOhLiwsC5rBoQvJZ6rtEcWYGtBsKzjMT+tvqIOA/J9JZg6tq3Cavo+tuPQ0dHBwMAA8XiczWyWyclJnZRphqWlJeI6WkZbaxuRaDR4P6kXHNFolHKlrMIZ5vK4nhssiGKxGLbjUHErVMplotEIqWSSUqnEyorqQ6m3582qXR164aknv6CNg6ZV0mT4HS1RdcKtB6kXbIZZR6MqNnYul1dmT1pbphY1SgaMRiMUi0Vu3bzJxsYGtlN1sDILN891SSaSyoavrZ1EIqFs4rR9o6895lXyJkWTZkGuDpUZ00w+YabwxVCftgJjlweaSYvsUonowc9CDf5qaWbU68WNraJndPS20tCcJJ/PsZbZJL8JXlllaZS4WiPvq/I8KBdgdSlHMe+SSMRobEyRSKquVQ6DVf6ntOqesn0P6vBvh/AYMN8dba8aiUTo7OxkcFAlWcvn80xPTzM5NcXiwiKrq6t4rhc4sYbLM5qcmN6J2tjYIJ/PU6lUSKVT9Pf3a8d+FXnDaNKKxSKZjMpCXCqV8H1fZdnVk4xtm6y76rOtI1hY2h/DcVT8cSNoPQ6EBMcKhVAMNJlqXNvaLrm3r49jx45z5MgRYrEYro6aUy6XlY29ds5+zGo8FIa2RcAT1GxmdoYk4Evl5Cz0DcYXAB1cFCwkyi/AFCqEEjp8X2qTP/WTLzXNm2Gj38uywLbUQl1Ige9DuazN8J7QPG6EdyUIbS1PoupMiI6VuYi+R/NKtbOo5tDteGsYtm1VD0fNk8aW20QN264sU08hBCntg9XT04MQgpmZGa5fv47UNuWGjrfQtP4e/t0I+QbmXWvvMULjo8LQuBFgY7EYfX29QZ4XoePY25ZyGHVdj2wuy9LSEsViIYgLb8YLhBbAeiHtuR75XJ5CvkBBx6wnRMNSR0irVFyWlpbIZrNEo9FASEa3rRXSzIefp35/9HdHy6NNTU309qowlIVCgaWlJTY2NgJeJnRgjHK5rJxRKypfTqVSoVIp41bKwYJZ9ZWSAYQed2qEhmee6hE+/7jwdXz5+fl5ABobG+nv76e1tRVb576JRlU2Z0I0RHiWklp4D8MQlNB2ypFIJBDupZRKW1EoBEz7acDU1VRZstXhRaURNwyhqr2puBU1ENNpjh0/xje+8Q1OnDyB67ncuHGDt99+W2Uu3VSZqpxQkoBYLMbhw4fZMzhIIV9g4v4E169fY25OOXxVzWn8YDXv+WrbSyVS0lsa0hCmYdnG/EEQj6tIN3sG9xCLxVhZXmF8fJybt26xuZmlsbGJzs4umpqaVHuH4tCGmU+1ZP1dTwS5vPJDeP+PH/L2e+9yf2ICtMlGmKH8KRC2XzWDpKOjg5GREZpbWhBCMDY+ztWrV5menqZYLNLa1sbQnj2KiPWk6kvFXBzboVwuUyqWARHsgPgSbDtCIpFECBVZwJdq+79crjA5OcnExETg8a7a1FKTpbCIRKLYlhIukKgQdRUVAxgtsEstDJhBVC6XKRWKuBVX266D0PYfwSTkq4VGXC8oXM9ldm6WxcVFcvlcsBvja+dcz/XIZFa5cfNGsJVfnex0O0g1PtPpNCMHRkgkEywsLnLz5i3uT9xXyaU8F9dVybyMf0RJR0wolUrkcnnyhTylkD3oVoQpa7fY7npjy64ylJqi1TlLie9SRTYxRdTKEFVal4gI2HFo74/QvqeBsqywNLfB0qSkkgFRbERW4uDFwY1CUVBcgYUJmL6bRfoOLR1pmjsSyrwGEMIJtOoCkLKCrR1ohbDUasFUXoQcOi2hjj8RTLPYOuukZanwos3NzRw4MEJPdw+VSkXviN5jbn6OXC5HU3MT3d3dNDY0BjzA0876UkqlgHBdbMtG+soPwK24FIvFrdEXND1LXzIxMcHt27eDOSAcxcOMd0KTjql7rRardkJXdPHgQYgOpC+plMt6oVq1FTbwfV8n9lEJz0zm4Xg8TjyRIKV3UNWzzVT8JLG1PKGF8ogloAiULSwXZEXgezbSj2D5USIe6ve8hSg5yIpAeJZy1fAlOq+UWmxKk/PLxiZaXXiYmd2MJwuwJLaNylzqCQQxBCbRy5OjX1OSQD1f/VV8P+I4gTJBoPzSVFKviApPqaMKGV5YKVcoFFWsbaUNrnKB2sOybByd6E4IQbFQZGNjU2XmlmruMws0T8duR/v0oWWAVCpFV1cX7e3tNDQ0MDMzw2effcrdu3cpFAraP07FazcBPDyde8UsdmWNrTcYHlJt4zC9mznxUSCEMgszQp3ve1iWSjoopU88HicaVf4t5UqZpaUl7ty5w9rqGpWKso4wdTD1UHNQNXttqVJmbX2N0bFRFhYXleWA71PSMcV9KcnlcszNzSkFk23T0tIS7FaoBaVaEJqFTHWRohxcKxVXZVTWoayNfOQaE7tQlB1C7SaEoKmpiaGhIXp7VRK56elp7t27Ry6Xo1QqBcFUXJ3QKBqNqPwFOpGW51bpTSnwqs+plWZ9WVUYm1H9uNwi4KO6/TzPw9HmxLbO4quUblXTLTTNGgSCu7npYTCryoiO7+k4jtpy1VsNXxT1GscI6mpbVW9pBJO+bmTLolgpU6m4RKJRUskUyUSSqBbGDh0+xGuvvUZPdw/L2obz5q2bLCzMK2HJVwlLPNfDcSLKlvPgIVpbW1jJrHDp0mVu3LjBSmZF7TRkFXEUiwWy2Rwry8vcvXuPWzdvce/eBLlcXmlIfLQhb/UwprEtLW20trbT0NDI5maWGzduMTkxhev6NDY2MTJygHgioTrQVjb8gVY4BKEHstDaF5DMzc3wxhu/4b/+1/8X//W//lc+/vhjVpaXKRWLionWFvIEEGYCBoYmTChEoRM3xONxBgcGaGttxa1UWFxc5NatWyyvrBCNROjr66O3r49EIqnf0AIpsCwHy3LwPJ9oNEYq1UA0GgME+Vye8fE7rGRWdWppH9+TLC4uc/36TT7//CJ37tylovtYaSriahdD709LqbaNleOQmig9T8XINRo6s3Xl6QRl+UKBSrmCW1Zp3o3gL31lJiSlJBFP0JhuoLmpiYgTYW52lsuXLzE2dpv1dZUYIpfLsrGxwf2JCT7+5GMmJiYp5PPBQk36gmJBTWa2rXYUurq6OP/8edpa25BSMjY2qsJe3r1HvlBQSXN0KuX19XWWl5eZmppidGwsiG9dcStKQ2NyA4TyAwQw+/fbQMWctkJ/tx5aclBjNpRQSX1S/28xlwEV7x2hSw//A/BVJsguaB9O0dzVQGY5z/ilDCtj4GcEMhtF5qP4WQcvA4t3yty7vsHcZBHLiTB0sJ2hA2kiCR332hdYOtajeqqHFbGIxGJE43EsRwerUQNONdD2TfJEEBQvwPX9gBdKoXfWUI7nUvoqoUtvH+0d7Xiex9zcHFNTUywtLVEqldi/fz979uwhEq1mT/Z9H0uHcPR8j1QqRWtba2ALm1nNcOnSJTY3NymXyxTySlGzsLDA6NgoH330EePj4yAlUju3VsplfNfDq1TwXQ/pVaPueNoEouJWAiHHsaxq7HKjMdcTpRGnw2K1CsKiotPkcjnu3bvP3bt3mZubD8LDqUW3iUVfIJNZZmpqgomJ+6ysrCB9SbqhgXQqXd3FDGbDJwEzO2kK98CvaIG8BFYhAnkQebC9JLafIGKlEOUYlQywBCLjYBciOK6FpfOQOZZQwrlUMdml9LGkjSUjSE/lKkCAFYuAUAuzIMKSUDvArutSKvuUXRvPV2tORdJb5/BaXr4bhCO0WUIQcXRgBl8iPQ/PdSnmC7jlCsVCibW1NUqlEjFtd+16aqGYz+XxfF9lyZaKLwtRfz5F7xz4vqSxsZmW5hbKZZe1tXUmJqdYWFgkm81RKpUplco6ZGOeYrEYCN9Cm59EIhH6+/s5dOgQvb295HJZrly5yu9//3vGxkZZXV0lm81qxUeO1VWV4GhyYpKbN28yOjoWLCTN6A3LRkaQVX+rZiq2dv6UOi76zlAL4mQyiW2r3DX5QoEbN24wNz+Hrxfh5XKFlZUV5ufm+fTTT7h08SL5fC7YkTAR9sL9bPiA0DlGNrJZPr90kcuXLzM5NcVyZoVSuUzZdVldW+XW7dt8+OGHZFZWaG1t5dChQ+zdu5eIjkJj3s+0s8p6blEuV8hlc6yvb+C6PsKyse0Ivi/Z2NhkfU0lRzJCbFlH+zHyJkAymWRoaIi9e/cSjUa5f/8+7733Lp988onym1tZCRYppWKBjfU1VleWmZi4x9074+SyOaLaVPTBxQFbxm/1/IPHo2Dr4mUrzG+1uzXmt7B8bv/0pz/9qfnBHHKbFaCUks3NTe7evcvdu3dxXZeRkRGOHz8eODvVu+9REW4KqYW+UqkUaHKkJjDLsqi4Lvl8nkuXLjE1NUVXZycHRkbo7e3TK1KzNeXQ2tKK73vKLmw1Q3ZzE8u2aTLbwKEt23g8hhAWxWKRlZUMq6urzM7NsppZZWl5iempaZaWlpmZmWV0tJqYZHR0DN/36ejooLGxEXTbhmE63NZpg2dnZ1leVtnGVlYyNDQ0cPbsWV577TXiiYS6Kdg21WUY+cEwS6EYum0LKpUyt27d5Le/fYvp6Smy2RyO7dDZ2UVHRwcJHQFCFfsggTwKfO3Q7HrKRnQrqdeH7yknYsuyWFtbY2Z2lqXFRSzLIpfPE4vHOX36FAcPHCCRSGJbTjCpWJby+DYr842NDRYXl8hkMuTzBebnF1RyId9neXmF2dlZbt26zaVLl5iZmcWyLNKpBkqlEg0NTZw+fYb2dpWu2rSo57lsbqptxbm5eWZn55ienlLCyugok5OTFItFLG0+5rouK8srLOl6FAoFhCWUgKQFd1sop8d8Lsfi4gK+77G5sc7m5gb5vFoEZjIZbly/wQfvv8/ly5f1XKsmlEQ8yd59+zl48GB168xXzLupqUlpg9wKm5ubLC8ta/v4dRYXF5idmWVycpKxsVGuX7/BhQsXuHr1KplMhoaGRtpa24jHYvh1EubYltp+VlvD1i5MCXa+QFMdthRQhpU5yfxklszKBunGBIdOtRLrVIK05ytbrweFdlUGloW0wEPglQXFTY9spsz6okV+PUppQ7AxBxuzMDta4ebFeabubSCJsOdAM4fPNtG7D6xWo8JQiZ3Awi/B8nyZ2XtrFDY9Gtrj9O5vJNUGIoE2vxHqeCSYUftwBFdpob1cVslNhH5uMM6EjoriKfPAzc1NlVNifR3XdbUNt8+5c+c4ePAgjY2NREITltC7QmZ7vVBQJjBmsTc/P68XizabWcX/r169yueff87NmzdJpVLYtk12c5NEMsFXXniBvr4+xbO10GJiaC8uLXL9ulKAxKIxjh09yr59+9S7GgEyeK9qf5u/RueKlEQiDvPz81y6dIn3339f7S7MzbG6ukout8na2jorK8vMzSkecPHi59y9excLwZEjhzlx4jgDA/3Yto1lCWKxSDXW96576WFQk3SlDG4ByhlYuwPFZdichbl7MHO3yNxEHr/oELcsWtNNWCUobYCbhfImuHlwBIi4ErSlD6VNWLiTZ2UmjycljZ1p2occkt1VlZz0pSJTW4C0KK/D1GiJpcV1Eg1xBg430dyvxptl60VBiEpr+cGjQOi5W2mnVcztlZVVZmdmmZmZZWVpmbm5eSbu3+fmzZu4rktDugFfR0zJ5nKqD5dXKBZLJJJJnVHXUMHWw8gtG5ubTE/P4Lou2WyOXDZPqVRmdXWVqalpZnVOA6FNY4yWU+q5LBqNkkymVB2yOaWYW1lmdbWaOX12djaIrHft+jUuX77MxYsXmZi4x549gySTqS1Rv5TQajM+Ps61a9coFAo0Nzdx+PBh+vp6sSylmNtOqDNQ/aH8oRobG5ienmZ+YZ5cNqdNQCoUigVyuRxTU1Pcu3ePTz79hAuff06lXCGdTpPN5kilUoyMHGDP4CDxGlPJ27dv8/nFizQ0NNLU3IRjO+QKeRYWF9UucTbH7OwMly9f4Y8ffsj1a9eJRCKMjIxw9uxZ9u/fHwjXRhCtVCrk83nu37/P9NQ08/PzzM3Ns7CwwK1bt5mfX8B1K6TTKpzj4uISq6urgSkeWuYLFniui+NoxZvjUCgUdCbVRe7fv8/q6qqWp1QW8fv37jF2+zbXrl7lk08+YeL+fZLJJB0d7ThOJNhxUwsDNdftBo/KJ0RIvvY8j08++YTLly+TTqtw1adOnaKtrW3LLkX4XgP7pz/96U/Nie0uQgubABsbG9y5c4c7d+5QqVTYu3cvx44dI5VKbVlZPip2Evh816NcKiFQtrpG8LWEShSyubHJZ59+xvzcHO1tKv11d083ibgSem1t2qAGZBJhWWRWMiwvr+C6Li2trXR2KLv9SERpc33fJ5lKYls2JR0SKZPJMDk5wfzcPHfv3eXWrVuM3r6t/o6OkdEpdbu7uxkcHCSdTqt67jAYhSVYWl5ibnaOTEbVZ2hoiPPPP8/+kRHDPWtvCxCwLSGUXkqC9D0mJ6f47LNP2djcpFKp0NqmVsNDe/bgOA6+FgBq+6v2+8MQFtyVSczDSTlMvLFYjOvXrzM5OQmA9H16e3s5oZ1sYtEYApXi3NKmJ+p+tbVptgM3Nta1hkFN1JcvX+bmzVtcvnyF8fExisUC3d3dDA8PIwQsLS2TSiU5fvw43d0q66TpJ9/3uHTpMv/6r//KBx+8z+efX+DatWtcvXqVe/fuk81m8TyVaGJmZobR0VGuXb/G6Ohtbo/eYn5+nuamRtpaW4lGI8pGWoiAkW9srLO5sUGpVGR+bp7JiUmuX7vG5UuXuXHjOosLC6SSSY4dO0YsGg1i8o7sH+Hw4cNEohEqFeWga2tbOBPGtFAoUigUmJ+f5/79Ce7evcfY+Bi3b93m5s1bjI2PMTc7R6lUIpVKsWfPHtrblR9BvQX7owvu9WHGd1hwlxVYnikzc3+V5ZUM8cYoIyc7SXUrEvJ8FeXFCOxVMU5P3EJgWyqUnW1ZuBWPQr7C6lKO+YllVibzTN1c5d71DNN3N8hmJb6Q9A03cuJ8K22DEG/SgrhhPkbgKQvWM5K5qXUyK5ukOhz6DrTQ3CMgash8+3G9PR4+Pqi5QkolAFVCWf5MPxm+LH21rRyJRHBdj7t37mp71iK+59M/0M+Z02fo6+0jEU9gO0pYCcoSqizbtvG0oiSfzysfkmyOickJxsbGuHHjBpcvX2ZqcopyqUx7RzsjIyPEYlHm5udpaEhz/vx5enq7lQOkcf7Sfj+Li4tc+OxTMqsZohGHQ4cOMjg4oGgLtDW3PkTNd32AShrjOA6rq6tMTNznypXLjI2NcvfuHW7dusnFixf5/PMLfHbhMy5+fpFbt2+xMD+PQLBv3z5e/epXGRkZ0RGr1Hub3WTLelKCe7UUz4XVxQKfvX2Pax8scPvyKreuZJi+WySzWKaclfgVD79cZHVpnal7We6Pb3BvLMPYrRnWMhks26ehMYkVVyZlXgEWJrLMT2coyzKNvSm69sVJdYKrx7Lv65CzlkD6gvImTI6usbC4SKLRZs+xNpoHBNJWSp/amtfyg0eBLyUV4wtWcRkbG+OD9//I7//wNp9+8imXLl7k6tWrjI+Ps7mxQaVSIbe5yeLiInfv3OXGzVtcunSZK1eukM/n6erqIp1KbRsy09BvxHFYWVkmk8mwvr7O3Nwso6NjjI6OcuPGDa5du8b09DRNTU309fWRTqcDTa6RFZLJBA0NSqFX0DuXCwuLzM/PMTo6quf8Ue7fv8fExH3m5mbJ5bIkEkrplE6ncBxFS+g5xXFs7twZ59atm6xvrNPYkObkyRP09HQH16nmDnPL+ofUmW49zyO7qXYAVjIrTE9Pc/PmTW7fusXVa9e4fft2kDTz1OlT7NkzxL1794hGoxw4cIDhoSHSevFiZJXbt29z9eoV2js62L9vPx2dHWxsbDBxf4Jbt25xe/Q2169fZ2xsjPm5eTxPcvDgIc6ff54DBw7S3NysTGC0IsBxHNbX1xkfH+cXv/gFH370EVeuXOHy5ctcu3aN+fl5bUMvKRTyTExMcvu2ctq8cuUqd+7coVwuq/5Pp/VusKLvaDRCKpUikUjieSqHxdraGktLy0xOTnH79i1u3rzJ2Ngo42OjTE+rhVsk4jA0tIeurk41R2s4jk00+mD0t+3wKHwizLOFFtw//fTTXQvuYQQad0IF115sGDxANpvl7t27jI2NUS6XGRoaCsLViJAjQm0Zj4LaO81EghaupFTOfEI75bgVl8zyCrZtsWfPHg4cOEB3twrHKCwR2JwLIUgkk3S0d6gBWSwQjUZobFS2n2b1bcwG4jEV0L+9vZ2Ojg5tt6Wcr5BQKSs7pHg8TmtrK0NDwxw6dIijR4/Q3d0TbBc5jqO3XlQ3V9vJJxFPksvmuH17lEwmA8CZM2c4f/48zc3NejBVJ5IHD00Mup2Mw2GhkA8ykjY3N3H06FGOHD5CS3MT0YhaDVOnr2u/Pwz1BPewXrQezDNs26a1pYWpqWmEsGhra6OtvZ2DBw9y9OhR2nVmR0tUhXZ1vzqMQNnQkKahQaVcBhVTNpfLavu2Mm1trRw+fIhz585y5MiRIKFQf/8Ax48fo7W1NSjb9z1s22FuTmmp8/k8tm2RSCSwbeWs3draQkdHJy0tLYrGgu0v5eeQTifp7x+gr68XRwtIQqhdnHRK1bWxoYFEIh5oQwuFAo5j09bWxr69+3jxxRc4dfIUyVSSWCxGW2sbw8PD7Nmzh2gkiu/5OnGNMo+KRCJqNyWRIBKteqD72s5XCEE8HqO1RUXa2L9/PyMjI+zbv4+GxsYHfR/0xycluBtIUCZPKKV1MQvloocdk7T2Jdl/vIV4uwrwouzGtagfaF+Flq4VYxUWJBKCRCJKqiFOY3OaWMzBLRWRFRd8i4rnYsUsOgZa6N2b5tCZFnr2QaoLRERWX9Yo8jwP17XIFzwqFZ9IzKJjT4Ke/WmSTRbCMW/yOI0hdnWfemt1pdQhUF1fbbGLsO24/m7owHEcIhGVtl3oCFmdXZ2cPnWaw0cO09raukW7Vh1T1b+xWIxEIkkymSQej+NElEbLrbiBA1p3dzdDQ0O88MILnDhxAtu2KZeK9Pb2cvLUSbq6uoItd8e2cT0PYQkKhQLLy8s4tkVXVzfHjx9jz9CeoD4Gqpfr8z3TfEKfiDiOilxl23qnVNnqeq4bNGQ6naa7u5t9e/fy4otf4dDhg3R0tAftaFnVaCFPRnCvKcEHr2xzf3SRjZUKiUQjTixOJBYlno6SaLRINklSTQI75iEdgSckJS+PS4GG1gjt3Q2kW+NYMbXQsiUUcy6lUplEW4Su/c20DUZINikzFQMLNZZ8KXCLkN0o4YkiLT1xBg630NClfDTCskq49g+bE4LrQnQLaIFd2UNXKmVm52aZmlIRwIRQPCuuzVrbWttobW2luamJRCKhbNWxcF0P6fv09fayf/9+0um0WojUowspicfjyvwpogTxdCqFH5hblJT5je3Q0tLC4OCg1riaGOUAVYGwoSFNW3sbiXicVDqlzSpUpJVSqaTngyjNzc10d3dx4MABjp84wYGDB0jE41i2HfBLtaiwWFlZIZ/PkUgmGBwY4MSJkzQ3N+lrQ1tODzu08rKtvY3GxkalkDRzmOdTKqnM7U1NjQwNDfHSSy9x6tQpOjs7KZfLtLS2cPDAQfr7+ojHE8EiwLJsVlZWyOZyjIyMcObMGQ4fOkxTYxOOo3zLPG1ek4gnGBjo59Chw5w5c4rjx4/T26t2D0ASjyv/Ed/3KZVKLC8vceuW8oeR0tdjzqahQUXxa21tpaGhQS941LwjBCSTKdraWunpUY6oZuGifBpsUqkkDTrZUjqt5tdkMql8Dz1lXuzYNslkKog0dfjwYQ4ePEhDY/V5oHL5KMH94WbjhGlvFzB829fWIuVymc8++4yLFy/S0NBAf38/J0+e3JXgLqThXBq1QrcM2fH4vs/CwgJvvvkm//zP/8zm5iZf//rX+c//+T/T3t4eCBBPAsHaUkKppKKHoB2yXJ2IRljKJt11fcbHx4NV9N69e2lra90SktG8g0m8ND09zZ07d4nH48HKu7lZxbO2hNArRsXJypUy2c1N7t27z0omQz6X105hSqPhODbxeIKmpiba2lrp6OggFotj2yrxkKmDYaZmYeBqh6lPPvmUf/iHf2Bi4j6xWJwf//hvef3112lqUqY21k6+B8EMLymVCqSTSRobUqyurnL16hXu3Vexik8cP87BQ4dIJ5MkE0mlca/ZIdmOSHaC6/kUikWKpRJl163aimtb3N3gyuUrrK6tKi1wMkV7exu9fX00NDSAr1bsQdsJETi7WkKQz+cDwXdmZoaZmRk8rZ0sl8tbQkINDAzgOA737t1jdm6OVDLJ4cOHA3MXSzuCRKNRpqamuHv3LrlcDttWoRzVBKCyLJq6GAZjh0KQNTY2BtlhHcfBdVUkn0gkgu/5bGY3WV5eYmpqkrW1VSoVl2JRbZ02NTXR3NJMR0cH6VSa5ZVl5ufmKJXKdHX1sH//frUYkMoWXTE3lSjDtm2WV5ZZmF9gbW2NXD5HsaAcC4UliEVjJJMJUqk0Tc1NtDQ309qmwmY+0PdC0VY04hBxbBIJEw5t62WPCmOr7PggXCgsw/xkmdXVTeLpKIeON2A1g1eWWBGhQuHp6AhbYJiD1lTJ/397V/Nbx3Hkfz0z74OPpClZtkxRlATbMrwwLFgbSEYAX3yw4YthrBHkkhySv8n/gX23b9lNcnK0KyBwLB02gtdmEscWTYmRKMr8fnwz072Hquqp6TfzvvgoObF+wIB8Mz39VdXVNdXV1SmQHgC2Czy4a7F1dwdu38GhgQyAaQLzp2bx1Elg7gTQ6ACxHA8gjMqKu8szpL0YD+530d2KcLjn0J7Lcfp8B0krR9IkRW90ka0x2nt67OQWOOz1cHDYRcqblgCysgO0j4LCVRI/7u/v49tvv8XG/Q3s7O6g0+ng9OnTWFqig9zCmP3Ct3oqcNZh8+Em7t+/j9XVVezs7CJJYuzt7WNhYQHPPHMK8/PzWFw8g/n5eWxsbODvf/8aeZ7jlVdeweJzz6HHq0JJHKOXZTBxhL3dXXzz7be49497aDabuHjxIs6cWfSH42hURQDR/WKY9gf7B3wWxh32xaexr7GwsOAVwzOLi2g0EnQ6tH/IcPCFFkdYiiJya+sv/QhwxJ/f/N8mcDgLZA2kh6REOjrDC7AWSRQhiSlsYxQBqc1howPMnWxg4XQLjXkADYsIFrAJtlZ7WP92D8nMDGafbWPuWaD9VI6ImdlZixikmNvc4fB7g51/ODy4v42oGWPp4hw6z9DqVuwt2eXAk32yYQBk07FztLm52+0iS1N0Dw/x4OEmNu5v4uHDbUQcIUt4L1PhpKk8MsqRkmOwtHQWL774IrsyDbaGWpvj4KCLb775Bnfu3MH+/h56WUoGjMjwHPMMzi4vY/G55xCzqwy43lIniuQWYXt7G6urq7yXiVxuyEJMgSw6sx3MtNt4+ulTOP0cyf04ivw8BR5PcRzxBspvcHCwj4WFE3j5317G3OzcWH0sMJFBs0HR/W7fvo179+5he3sbmfLbn5+fx+nTp3H27Fm0Wi3sH+zj7p272D/Yx7lz57G0uEi0iMh7IU5i3L59G1+urGBhYQHLy8uYnZ3F3t4eHjx4gDt37yDt0QZdy+dHnDhxAufOnUenM4NOp+PLjrybXIL9gwPcWVvDd99953mj0Wz6w6AyDo6QJAmSRgOON6VmeY65WVK4FxcX0eQIc1FEoWYjtlyL/Lq7vo7NBw98hJkspw+/RpJgttPBzEwHc3OzOHnyJM6ceQ4NFVFKNvXOzXXYfWa4BjOaNCeENE7TFB988AE+/PBDnDlzBlevXsWvf/1rXLx4kfpHnfsifCnoU9yrIEyds7vIH//4R3z88cdYWVnBlStX8POf/5yW8Bt0zLr8PQqkUpYV952dHWKIiE5RIeYgf2cJlWgCH31pmr4nMBwaivKgjSJyH35SLH4Tg8iGEpnkSLAIcwqjRlGsLOxUvjBobil+uAif/b09XPvva/jNb/4Tm5sPcO7cebz//vv4yU/+Ha1Wk74shwxqKsohS1PMtFtYeGoeuc2wu7ONg24XANCZIetZo5Eg4gle+usoEMX94PAQqVLcoTYPD4P0jcDyIDRsWfEWFq6rTA4akTHIshy9tIc8y2gTXG7RbDbIosCW75CutBGTlEPJP+Ll1m63C8txYcHjwOYOYH9Kge7DcKDJpGDVLn5JbgxFP0p7PYAtFM1mE9afqMp1dBRj2Xq+K8qMYo44xB+DAilLJk+Awkw2mk1ExpQ+NHR+HvyzmSRoNSncWCIbzRT6KTEYkl42sMHSkn+WUlx20N6lslIe1lEycRzvVGrF+cFS6HZYADl/LHBQmCgBEMsrVuyRBSIWOoY1N2FiQ5f4Qvb118jgjIbAN5Gt7b00Q7dH0X9y3vAlijt4lUtiMIP7StdR+EE/19DPHJ8eCLWpTD4+wcqKjAnnnI9o4cenUlhEzjhHh2lZSyF3JS8af9VcFNYxhIxhgELXpVlKf9MUaUaRQuSDr9WiMwwMpyUFsGhro5Gg3Z7xijtR6Sh0LkOiMwLCY4rIIeR+JGOBf7NvO4yDAa8mOFr9JUFJgRwsUhjEMCjcj3zGjs8ckMoYIO+rBwefnKDtnq4iew66SLMU1pESRqxbKHQxhwjVtBQ55lwxF4wLw/s3Mrb4Z3mGjN1V2u02nytS5CshI+XdKrobPuTx8PCQNz3miDmkaZzEaCSkaMmKlri11WEQ72ME/gdo1dmwoVHCVFveAJ6w+5dhnUT6mPYJ0P+OOrk0ZgGge3hIbOJdeKhPZJzJ6cdRTOGQmxygxHlDZXEaedgO3c/CYzrynJ77JL3M+brcsO9kHjQsb/b39shoZQxaTYpr3+b9fSLHwWXSPZqDp6m463ZYXnmQvv7rX/+Kjz76CH/4wx9w8uRJvPXWW/jVr36FxcVF9Ho9r1Pqekh+Iynu0ihrLba2tvDll1/ik08+weeff44TJ07gypUreOWVV/Dyyy9jYWHBB7jXhJwU1gFdVtxpyZ8jUzhS1h0M0pxCRYnShApmCSFtgmJKLTw0ZICTAubIOgKyusm7Atk4IxOfTGoJW82zPEeW0pd/kjTw96+/xn/99re4fv06nHN4+6238Nbbb+Ps2bPsI5bzEqarZREhoLMW7VYT83OzftnPOYvcWjrSXhTgYPAcBYXi3vOTZWmiUT/roIWG4eg49H9ZcR+Uj2MLdIjwQ0zaTQNXyiv3gQzsWB0H7ywpKBnHYvN1rBCGRp1IqQ96Il6hsqUMY+jgm8gAWZ75swASFrjg/qHqaj4r+E7zbRHeitvABz6B+yAU0GXeVf3A/05bcRcYKcKygm45QksFP0p7/PguFaoCX8PBiuXWUlgcy5YzY2i1TiuYBK6Jr1ABx8zrRI/34sWPuCLxyKgoqAIy2q1S3A9TikUsijtAYx6suBt2w4P0mRoPMqGBfcdDyLiouqf7S1unhC4EipYFnlT1WNAQeui8wzSCuvsCPbbzPEfGq6m0H6Yw5JjIwPFBZ9ZaxKw0ynwCtvR1Oh1vBYzEv35IHUaFdJOz1AcG8BHZ6RdbuZ0qzxBfWpBSLjwROQAm5a/SGNYllJM/MZg4gv5SCcVlABjklvKndvJw8QVPX3EXWjiQy07VGNA86GWYDxNYnGExCk3KvEmw7F5hWNmU57J6KeUYNupZ52Bz65V6MahQRLLIP08zio5EboWJXxXIbd43J/l2Kb2orj1196HyoQ3FBtbmpVCaCOjnDXVi4DGUf2R0RCcawM4VZ26EdZAy6KOExxfPh0atQAvEIArON/xA0s/0PRmXAuGfOkh/0P9lfQKgswsMipDnOj9zjIo7VNtyjvS1ubmJtbU13LhxAzdu3MD6+jouXLiAX/ziF+xpsTAdxR2sPEQRRVlZW1vDp59+it///vdYX1/HU089hcXFRZw6dQoXLlzA1atXcfnyZYAZRivU46JKcSc4HhwOJqLDDIDy0drjYhBjFCBS6QFZZrp+UhpleSV/vxRN3nT42Wef4dNPP8XKygpOnTqFX/7yl7h69aofBMY4cgYeETPtNjrtJvtIGTSTwnXJeSWQNrZg5DbXgxT3Q3KVSdNy0x1H61K36uFAgoA+fARmRMVd3ggHvFNxaceB5qOED/Jwlizfmr0MWwgcQis+Kc5FOlFm6D5dWoAU940pNvNBhFKguAuqPjYLgVT0ha4L5Vec5Cv9U8pLYk43ErSaDbRaFKEpLG38niUYAAYODjmrp0R/sKUwbKvIH6CmUANmOMrLwcIZDkPIm5kiw2Z37xMjJkzUxgLURZVr5GoqMgzU8mGQnB0oPGkvTdHtkW+tlm9lxb2f//sxuuIO5iXDEz54LFKoVFUHJ7QrMtaTooa3nNWUp1HF2xo6b+Fp/dvXITKeXi7PffhH/QHUaDYx024fm+IuoBo6Ps1gGA9RnzpyjAFgKFipBSntJuXwoLTyHMHwWQRhnaWcojw6yNAgovXX41Pcu13vtkTGjAjOcJsCPtKou48KnhqEMB+neE/zdfiRq++RLC/eiUUx571dJLNJCaZnokzXz9ujzEmD+F/mGICUdw2jVlJ1+8N+M6AOMVVjyc+B5XnDKKOUcw45r0BHEVnYDXsw6Hc0wnbrNlbOQ2NgUN6w1m9sD+WvtMUpxT1mGTEMpi+3fvR6PcRxjPX1dVy7dg03b97ExsYG1tfXsbW1haWlJbzxxht49913ceECnevT6/X8akkVDYdJeQ+ZNNvtNhYXF/H666/jZz/7GS5dugQA+Nvf/oZr167h1q1b2NjY6HtvGjBsVddMZmQaHmMwHw1E/IIpeGIrlc9pDIfYigDLlvOZmTZmZ2eQpj18990q/vKXFayu3kaSxDh7dgnPPHMKMzNtZv7JPkJogwX5gsn0oDFNmmjEhg/QEYxFkrES94PjB3NAX7g8h8tzcsmQ5Tc10OouSZtEkb8oBjEpgbExSKLiilXkC+dyODoNBSYigRpFdBmqnKJGmWdMxMe/8z0RJHrS0PCCWcVeD1F8IJAg1XmFk1MI3SfFnemDlPQYAPmw9CsdhNDyUA1DirlJYEyCCE0YNGFME1HUAu0qFaVdvVNTJtST+hTD6iQYNV01DEdo8PTzvCN/RSG3Q67x6+FYKXZ8pgFK5SvlXl116Oer6cCwRVaupNHg/5Xl3Ri/X8jxCo63RJauIs9pg3I0zPPC93WXfGQWXjNlGJDdnutd26+UriiTPo5FaZcUhWJzPLCWVn/pfA2xfFb1f/81Dcj40XlWyU4vU4Pxpt+zljZbJxxGOuJ2aGX/qAjrpSFzhVFKp1xWrWhpHtdpyPeSPtAQzg08B9JcFyM2EWITIYliuuRE5Jg2h9JY448ypbRXQSvToYIuc+BxIIqlH/pHkYbQd1o8J4jjGPfu3cPNmzdx/fp1rK6uot1u49KlS3jvvffwzjvv0BkbDbL0i7tVHYy11o1ayTRNfYaHfNriV199hZWVFaytreHhw4d44YUX8Nprr+Hy5csDd8WOCgfgoFv4uIvSKQPQcUxvE8d0rLow5QQYh2nEAlq1LCWQtne7XXy/tYW93V12h8ix+XATt27dwo0bN7CxsYGXXnoJ7//H+3j10qt+qaQQFPpDoQx9N4oiNJMEc3OziPtdGQGxNoywTDcqsjzHQZcsgWmasgrLGNnaTqClyP7BZUaop5xKOEhgDssjRH1e/fdFBJb6nGkWWhf1pKBprC3uUlcJE0bGm6L+spQboooPQwx6L+SZZpOilIirTCj2+nMajDD/cSD9RT84A12BcTIMZUTN+KqHm6D1EG4Ob/ZB52z59N/d/X1/EEkc0+Y9P9kyB4ZjpwpV46CO1+vkRH/66nbVvWcdWfUGYRRerpOL/dY7opcBf+ArWI4J3263va+umYQlxsWgDlCyk6rBDO/ZzgImJ9u9IYNJQX+puK1U9wdBV2mS5gt9nbK4p3zQFgDA0IdGHb8I+vmrQMhTo0Le095Iw0CrS4XhA4BfsbHs+oHAeDeMb6vkbx0G5VVYxPtXhrQbr3NyoGBRrjdk1eTv+yqoq24jtcPA1eQBNQ6PG1V9GslKuHxoVfSTgNopFvfZSou7l4XFaPS/NcI+c2wk+OKLL3Dz5k2srKxgZmYGy8vLOH/+PJ5//nksLS0h4ehG4LKc13GL/HwdxlHcZelHrF/EELSDWGcexxJe5+hwrLjv7u0iDyIPUBmGriiCAyulvDSuEf6eBkJmCf3speO3t7fx5z//L/70p8+xvb0N5xzW7qzh+4ffAwCWl5fx05/+FG+++SaePvW0f598+Av3H080U/jhOf5qNsYgiskC0Gq1eEcy5SPUFWYbjdrD4ZxDysc9y0VdwrabaRU0AmTienwo96zwhqlQsIUXraNTK4muDs7RIVZgoRMZ2jWv3x8kyDUmeacKFF60iUaziSTm4+zDRMeIKqFVuqe6dhi/hXIqRPn5oMwcX5NgUL4KPOkA9NGWpikODujUUsu+tihN3syBQ2k9PQvmKAjLGtT/4yLMexQ49i/XiAwdliahdEVxx4RlTAu2T6pothMXSl7v8zyhU5NSOa7yflSIXpBlGXo92pfhxNqr6qvT94PaImNyXDr05ykrUqOjPw+CKVm6EVLoEaMsi+r6qa4tk6KunBDTLndUaL4R3hOExjF6TvugKBTujHePJVqrVaExqa3L7bExNuR9w1GtBJq/6vp5LMX9ccCyj3v45S6NA0dTIJ+9x6vAGVaoAdrEkVvyp9zZ3cH1/7mO3/3ud9jd28Xc7By+39pCksR49tlnceXKFVx69RLOLi9jpt1Glmd+p7pl5ViXUSh7WrCTFS5JYiQJxfHWUd9cKe104Bz53ubWIsszpCXF3TBFHg2m3bZxYS0dWw3QybBQyrNE09D1M7xJSJY8SXGnaAAGvNnVFelC5R9DFPKq9JOg0YjRajWLMFwmAh0oVSy/DpIf0xDcobCD4mfwmBelXd8fBl3vMP/BuYRppw9ZuTKmUNzTXo+iJklkBf6o66/7E9RB5ITmqSiK0GTFvZEkfeF3B/H3cUKo6ksvkVlPdFX1c8ck9YfDWoqfLVeWZbB8zodY20XOld5TH6SFVb4eZbrI/3VjgX0pp64fkGL3+Mag0Hk4RDdxdroz83T783ggbZeVh1BXA+8VaDabaLVaPthEafVb6VyjYtj8KNDp5P9B7468ORWcoUAXov/K/boCx4V1oIgKHEZHrP7hpEsrMmSF1s+p84u0Yb2nBxpATvmZWUuHJ2VZ5k9s29raosgGMR22s7i4iBdeeAEnT570u4jlbxTRsmJesenCt88BEv5CDjSgne1Jab+dp88AxqujmbRJ96ljq0oufouWhHS4idJhuCW0Co/zA2wy0CCHGnij8JoxtAfCcGQAfV/C+/nwf8FYk3TDoGk3LpKEot74SB2KupPm+QSjwXFfW44sk/KBNlrWyth8gtFg/ARMMhPcj40GGTsSFUlKnv0gMIzEP5BqCkR5l4AM4nftnCjl1RDKwDt/1aOeNkJb/XxYBx4FdfV4FDjOdv0roxj/MtajOEIjaZRiuwuPTbpmpefecP6W+/V8XI8+xb1qkq+aGMI0xwUHIMtJSdSbLnQKEQhwsrNZKbZBPcPfR4eIGr74J9VVXItidLtd7Ozs+OXuZrOBTmcW7Zk25ufm0WgkdDqihJbisFIOhiOZFMQWGjmn3YJoKZAOA4pLB4joHptm6x2HnrIcGs666ugnkyru/1woW140n/XzbIFIhRnUlnUdUsseccPTpDxPfFiOImDogR9jVe2dJoTXf2ywrjyMrKWY6rq/oyiqkYlPUAfju1VkdtGXwzaEPXJMg6yPceg45U4rPEp/qisl49yxSw0p75Q6XEGsX20s6FqF+idP8OOCRLPgX3y+hIT0NMwr+m8dxw3DMPk8yfxWUtzDSXhQgZMUNglkGDoVT1lXq9jFXCg6j6hqfTB0QB3AdbaWosxFbDUDt0P+ykQshyiIxdaY/jZI+0M4iYDHUUsofnFRD3BdBEdhwBBeGPNvEq79JVRUeyimVcdHBeeI1ppHPa2F+CWQ4BAFGNyf2v9OeKDgmaInh42/IY9HhlEfgJYbZUYqf/DzJxgMLfekK60lHgh5o05OP6FBP4yISj9xO14Z7Q9brOfDuj4ehHHeCWlVrKQeDQ6TGU7Gha5/qD/IX2ttZahXDZ3PRK1XWVOo1PIDE6ngCU/wI4aXsIDa92PYjz1MaSq4tmp8h+MYNemGoSofjaGKe3hPEP4+LkjXjoOwZuO+Pyk0caVMx8vcAGBM5N0eGg32h1ZuMBGHF5T3QoYJ9T+hnOYLw0q/Ue/r9lcx4DRQR6fjKKsKVWUPwzTrZpWCJX2u541w7FLaKiWseK7vC/TzOgx6dhQ4rqDBoxv/P1aIjzsUPV3AY5Suf/xrhFSaZJwcFWEd8JjqgRr5VzfHHRXjTNiVZU8jIseYkb2Ogso2BBi5S0ZNh2LFchS48bL+UWE49frxr9KXWp7q33KvSm4cF8Q4Mwj/tIp7nQCoq1Zd+mnCmMLuL8WJ7CWdp6iEKOmO04g/vLi49NsKyv0wqD1hH5QmdkAHbCxhFJqGk5HnlRo6PSqGryu/DtOul3ZtMFwXa/tpEcIwvatorunuhtA8xLByJ8W0++0J6iHk9n8rZDHJFf+zRPfj4oFxUMcv447XaaE0rmpk2bQQ5j8I0y77nw1jdJXHJF32uPjuh466cToM/yr9aSrkbBUedVS1Ovw/DITSrYBX6REAAAAASUVORK5CYII=)"
      ],
      "metadata": {
        "id": "zuzxiWipnXrr"
      }
    },
    {
      "cell_type": "code",
      "source": [
        "# print 1st 10 numbers and their squares\n",
        "\n",
        "d = {i:i**2 for i in range(1,11)}\n",
        "print(d)"
      ],
      "metadata": {
        "colab": {
          "base_uri": "https://localhost:8080/"
        },
        "id": "LkKarCMvm4nu",
        "outputId": "00f7b021-8401-4545-ae94-6326d78ff1df"
      },
      "execution_count": 165,
      "outputs": [
        {
          "output_type": "stream",
          "name": "stdout",
          "text": [
            "{1: 1, 2: 4, 3: 9, 4: 16, 5: 25, 6: 36, 7: 49, 8: 64, 9: 81, 10: 100}\n"
          ]
        }
      ]
    },
    {
      "cell_type": "code",
      "source": [
        "# using existing dictionary\n",
        "\n",
        "distances = {'delhi':1000, 'mumbai':2000, 'bhubaneswar': 1500}\n",
        "dist = {key:value*0.62 for key,value in distances.items()}\n",
        "print(dist)"
      ],
      "metadata": {
        "colab": {
          "base_uri": "https://localhost:8080/"
        },
        "id": "uA-wh7SfnvdV",
        "outputId": "fb7d9c6d-02d1-401e-b942-eda007842e3a"
      },
      "execution_count": 166,
      "outputs": [
        {
          "output_type": "stream",
          "name": "stdout",
          "text": [
            "{'delhi': 620.0, 'mumbai': 1240.0, 'bhubaneswar': 930.0}\n"
          ]
        }
      ]
    },
    {
      "cell_type": "code",
      "source": [
        "# using zip\n",
        "\n",
        "days = [\"Sunday\",\"Monday\",\"Tuesday\",\"Wednesday\",\"Thursday\",\"Friday\",\"Saturday\"]\n",
        "temp_C = [30.5,32.6,35.5,30.2,31.1,30.26,30.22]\n",
        "\n",
        "{i:j for (i,j) in zip(days,temp_C)}"
      ],
      "metadata": {
        "colab": {
          "base_uri": "https://localhost:8080/"
        },
        "id": "YK1CdYOFodod",
        "outputId": "afd6668c-d10c-4b46-a630-6673f00e0c72"
      },
      "execution_count": 167,
      "outputs": [
        {
          "output_type": "execute_result",
          "data": {
            "text/plain": [
              "{'Sunday': 30.5,\n",
              " 'Monday': 32.6,\n",
              " 'Tuesday': 35.5,\n",
              " 'Wednesday': 30.2,\n",
              " 'Thursday': 31.1,\n",
              " 'Friday': 30.26,\n",
              " 'Saturday': 30.22}"
            ]
          },
          "metadata": {},
          "execution_count": 167
        }
      ]
    },
    {
      "cell_type": "code",
      "source": [
        "# using if condition\n",
        "products = {'phone':10,'laptop':0,'charger':32,'tablet':0}\n",
        "{key:value for(key,value) in products.items() if value>0}"
      ],
      "metadata": {
        "colab": {
          "base_uri": "https://localhost:8080/"
        },
        "id": "yi-hSp13qeVk",
        "outputId": "9dc0de4e-7971-46e3-c6d8-dfb0394f01ad"
      },
      "execution_count": 168,
      "outputs": [
        {
          "output_type": "execute_result",
          "data": {
            "text/plain": [
              "{'phone': 10, 'charger': 32}"
            ]
          },
          "metadata": {},
          "execution_count": 168
        }
      ]
    },
    {
      "cell_type": "code",
      "source": [
        "# Nested Comprehension\n",
        "# Print tables from 2 to 4\n",
        "{i:{j:i*j for j in range(1,11)} for i in range(2,5)}"
      ],
      "metadata": {
        "colab": {
          "base_uri": "https://localhost:8080/"
        },
        "id": "hlieq5EQvLb6",
        "outputId": "bfc3de5a-b121-4d6e-bfef-55cd0ea7288c"
      },
      "execution_count": 170,
      "outputs": [
        {
          "output_type": "execute_result",
          "data": {
            "text/plain": [
              "{2: {1: 2, 2: 4, 3: 6, 4: 8, 5: 10, 6: 12, 7: 14, 8: 16, 9: 18, 10: 20},\n",
              " 3: {1: 3, 2: 6, 3: 9, 4: 12, 5: 15, 6: 18, 7: 21, 8: 24, 9: 27, 10: 30},\n",
              " 4: {1: 4, 2: 8, 3: 12, 4: 16, 5: 20, 6: 24, 7: 28, 8: 32, 9: 36, 10: 40}}"
            ]
          },
          "metadata": {},
          "execution_count": 170
        }
      ]
    }
  ]
}